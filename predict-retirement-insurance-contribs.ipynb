{
 "cells": [
  {
   "cell_type": "markdown",
   "metadata": {},
   "source": [
    "# Canadian Household Income Analysis"
   ]
  },
  {
   "cell_type": "markdown",
   "metadata": {},
   "source": [
    "# Setup"
   ]
  },
  {
   "cell_type": "code",
   "execution_count": 1,
   "metadata": {},
   "outputs": [],
   "source": [
    "from sklearn.base import BaseEstimator, TransformerMixin\n",
    "from sklearn.pipeline import Pipeline\n",
    "from sklearn.preprocessing import StandardScaler\n",
    "import polars as pl\n",
    "import pandas as pd\n",
    "import numpy as np"
   ]
  },
  {
   "cell_type": "markdown",
   "metadata": {},
   "source": [
    "Define some constants to make key column names easier to reference."
   ]
  },
  {
   "cell_type": "code",
   "execution_count": 2,
   "metadata": {},
   "outputs": [],
   "source": [
    "TOTAL_HOUSEHOLDS_COL = \"HSBASHHD\"\n",
    "INSURANCE_COL = \"HSEP001S\"\n",
    "PORTION_RET_INSUR_COL = \"portion_retirement_insurance\" # Our target column that we will calculate\n",
    "INCOME_COL = \"HSHNIAGG\""
   ]
  },
  {
   "cell_type": "markdown",
   "metadata": {},
   "source": [
    "Read the data."
   ]
  },
  {
   "cell_type": "code",
   "execution_count": 3,
   "metadata": {},
   "outputs": [
    {
     "data": {
      "text/html": [
       "<div><style>\n",
       ".dataframe > thead > tr,\n",
       ".dataframe > tbody > tr {\n",
       "  text-align: right;\n",
       "  white-space: pre-wrap;\n",
       "}\n",
       "</style>\n",
       "<small>shape: (9, 247)</small><table border=\"1\" class=\"dataframe\"><thead><tr><th>statistic</th><th>CODE</th><th>GEO</th><th>HSBASHHD</th><th>HSHNIAGG</th><th>HSAGDISPIN</th><th>HSAGDISCIN</th><th>HSTT001</th><th>HSTE001</th><th>HSTX001</th><th>HSTC001</th><th>HSSH001S</th><th>HSFD001S</th><th>HSHO001S</th><th>HSHC001S</th><th>HSHF001S</th><th>HSTR001S</th><th>HSRE001S</th><th>HSPC001S</th><th>HSCL001S</th><th>HSED002S</th><th>HSRO001S</th><th>HSTA001S</th><th>HSGC001S</th><th>HSME001S</th><th>HSEP001S</th><th>HSMG001S</th><th>HSTE001ZBS</th><th>HSWH002S</th><th>HSWH028S</th><th>HSWH040S</th><th>HSWH041S</th><th>HSWH042S</th><th>HSSH001</th><th>HSSH002</th><th>HSSH003</th><th>HSSH004</th><th>&hellip;</th><th>HSTR002</th><th>HSTR003</th><th>HSTR004</th><th>HSTR005</th><th>HSTR006</th><th>HSTR007</th><th>HSTR008</th><th>HSTR009</th><th>HSTR058</th><th>HSTR010</th><th>HSTR011</th><th>HSTR012</th><th>HSTR014M</th><th>HSTR015</th><th>HSTR020</th><th>HSTR030</th><th>HSTR031</th><th>HSTR032</th><th>HSTR033</th><th>HSTR034</th><th>HSTR035</th><th>HSTR036</th><th>HSTR037</th><th>HSTR038</th><th>HSTR039</th><th>HSTR040</th><th>HSTR041</th><th>HSTR050</th><th>HSTR051</th><th>HSTR052</th><th>HSTR053</th><th>HSTR054</th><th>HSTR055</th><th>HSTR056</th><th>HSTR056A</th><th>HSTR056B</th><th>HSTR057</th></tr><tr><td>str</td><td>str</td><td>str</td><td>f64</td><td>f64</td><td>f64</td><td>f64</td><td>f64</td><td>f64</td><td>f64</td><td>f64</td><td>f64</td><td>f64</td><td>f64</td><td>f64</td><td>f64</td><td>f64</td><td>f64</td><td>f64</td><td>f64</td><td>f64</td><td>f64</td><td>f64</td><td>f64</td><td>f64</td><td>f64</td><td>f64</td><td>f64</td><td>f64</td><td>f64</td><td>f64</td><td>f64</td><td>f64</td><td>f64</td><td>f64</td><td>f64</td><td>f64</td><td>&hellip;</td><td>f64</td><td>f64</td><td>f64</td><td>f64</td><td>f64</td><td>f64</td><td>f64</td><td>f64</td><td>f64</td><td>f64</td><td>f64</td><td>f64</td><td>f64</td><td>f64</td><td>f64</td><td>f64</td><td>f64</td><td>f64</td><td>f64</td><td>f64</td><td>f64</td><td>f64</td><td>f64</td><td>f64</td><td>f64</td><td>f64</td><td>f64</td><td>f64</td><td>f64</td><td>f64</td><td>f64</td><td>f64</td><td>f64</td><td>f64</td><td>f64</td><td>f64</td><td>f64</td></tr></thead><tbody><tr><td>&quot;count&quot;</td><td>&quot;868970&quot;</td><td>&quot;868970&quot;</td><td>868970.0</td><td>868970.0</td><td>868970.0</td><td>868970.0</td><td>868970.0</td><td>868970.0</td><td>868970.0</td><td>868970.0</td><td>868970.0</td><td>868970.0</td><td>868970.0</td><td>868970.0</td><td>868970.0</td><td>868970.0</td><td>868970.0</td><td>868970.0</td><td>868970.0</td><td>868970.0</td><td>868970.0</td><td>868970.0</td><td>868970.0</td><td>868970.0</td><td>868970.0</td><td>868970.0</td><td>868970.0</td><td>868970.0</td><td>868970.0</td><td>868970.0</td><td>868970.0</td><td>868970.0</td><td>868970.0</td><td>868970.0</td><td>868970.0</td><td>868970.0</td><td>&hellip;</td><td>868970.0</td><td>868970.0</td><td>868970.0</td><td>868970.0</td><td>868970.0</td><td>868970.0</td><td>868970.0</td><td>868970.0</td><td>868970.0</td><td>868970.0</td><td>868970.0</td><td>868970.0</td><td>868970.0</td><td>868970.0</td><td>868970.0</td><td>868970.0</td><td>868970.0</td><td>868970.0</td><td>868970.0</td><td>868970.0</td><td>868970.0</td><td>868970.0</td><td>868970.0</td><td>868970.0</td><td>868970.0</td><td>868970.0</td><td>868970.0</td><td>868970.0</td><td>868970.0</td><td>868970.0</td><td>868970.0</td><td>868970.0</td><td>868970.0</td><td>868970.0</td><td>868970.0</td><td>868970.0</td><td>868970.0</td></tr><tr><td>&quot;null_count&quot;</td><td>&quot;0&quot;</td><td>&quot;0&quot;</td><td>0.0</td><td>0.0</td><td>0.0</td><td>0.0</td><td>0.0</td><td>0.0</td><td>0.0</td><td>0.0</td><td>0.0</td><td>0.0</td><td>0.0</td><td>0.0</td><td>0.0</td><td>0.0</td><td>0.0</td><td>0.0</td><td>0.0</td><td>0.0</td><td>0.0</td><td>0.0</td><td>0.0</td><td>0.0</td><td>0.0</td><td>0.0</td><td>0.0</td><td>0.0</td><td>0.0</td><td>0.0</td><td>0.0</td><td>0.0</td><td>0.0</td><td>0.0</td><td>0.0</td><td>0.0</td><td>&hellip;</td><td>0.0</td><td>0.0</td><td>0.0</td><td>0.0</td><td>0.0</td><td>0.0</td><td>0.0</td><td>0.0</td><td>0.0</td><td>0.0</td><td>0.0</td><td>0.0</td><td>0.0</td><td>0.0</td><td>0.0</td><td>0.0</td><td>0.0</td><td>0.0</td><td>0.0</td><td>0.0</td><td>0.0</td><td>0.0</td><td>0.0</td><td>0.0</td><td>0.0</td><td>0.0</td><td>0.0</td><td>0.0</td><td>0.0</td><td>0.0</td><td>0.0</td><td>0.0</td><td>0.0</td><td>0.0</td><td>0.0</td><td>0.0</td><td>0.0</td></tr><tr><td>&quot;mean&quot;</td><td>null</td><td>null</td><td>18.432629</td><td>2.2534e6</td><td>1.7170e6</td><td>1.2342e6</td><td>2.4008e6</td><td>2.1917e6</td><td>421335.834661</td><td>1.6065e6</td><td>388812.651163</td><td>278016.994627</td><td>111401.557243</td><td>109343.827301</td><td>76103.411113</td><td>271135.371662</td><td>87929.804561</td><td>45315.650319</td><td>70798.452452</td><td>34398.504565</td><td>3570.867859</td><td>70468.350013</td><td>25849.158365</td><td>33310.372386</td><td>115213.19111</td><td>48732.91062</td><td>209040.481816</td><td>67544.21004</td><td>4806.924846</td><td>112565.256385</td><td>15089.24985</td><td>9034.840695</td><td>388812.651163</td><td>303764.492909</td><td>89251.190609</td><td>88053.450315</td><td>&hellip;</td><td>236398.761036</td><td>118477.006209</td><td>114562.677761</td><td>14888.288571</td><td>8607.895903</td><td>91066.493288</td><td>188.957063</td><td>83.539013</td><td>105.41805</td><td>3725.371385</td><td>3469.552047</td><td>2092.59778</td><td>1376.954267</td><td>255.819338</td><td>1504.664209</td><td>116417.090618</td><td>3287.664753</td><td>10103.061471</td><td>12676.188385</td><td>18214.142317</td><td>100.530695</td><td>63415.559732</td><td>2639.560863</td><td>4612.181943</td><td>1368.200459</td><td>379.01064</td><td>989.189819</td><td>34736.610626</td><td>5995.306708</td><td>2258.469958</td><td>915.416319</td><td>23038.220756</td><td>71.1409</td><td>1322.434304</td><td>831.592595</td><td>490.84171</td><td>1135.621681</td></tr><tr><td>&quot;std&quot;</td><td>null</td><td>null</td><td>69.379951</td><td>8.2787e6</td><td>6.3276e6</td><td>4.6340e6</td><td>9.1329e6</td><td>8.0562e6</td><td>1.5969e6</td><td>5.9255e6</td><td>1.3661e6</td><td>1.0471e6</td><td>420881.63654</td><td>429642.774397</td><td>290959.592849</td><td>1.0751e6</td><td>327376.60947</td><td>163377.943862</td><td>249311.269506</td><td>114999.916794</td><td>14386.745375</td><td>264786.580294</td><td>94955.831503</td><td>127397.296924</td><td>431645.982804</td><td>206454.726959</td><td>1.2713e6</td><td>341440.420828</td><td>40531.631801</td><td>898861.389623</td><td>51492.602769</td><td>35858.838458</td><td>1.3661e6</td><td>1.0270e6</td><td>292325.224526</td><td>287942.333453</td><td>&hellip;</td><td>990960.632583</td><td>507452.95803</td><td>494184.487741</td><td>58848.760548</td><td>45895.371562</td><td>398856.15598</td><td>794.022208</td><td>358.55285</td><td>497.256289</td><td>14112.764792</td><td>13213.369738</td><td>8173.498909</td><td>5705.767025</td><td>1422.161917</td><td>5673.303299</td><td>486744.921092</td><td>14400.182837</td><td>39378.141535</td><td>60281.31644</td><td>71889.568827</td><td>615.785308</td><td>284702.777168</td><td>13567.714202</td><td>14917.235034</td><td>5725.037991</td><td>2091.296014</td><td>3882.026395</td><td>101629.434794</td><td>19414.670337</td><td>7613.821326</td><td>5037.673958</td><td>71509.135272</td><td>257.018871</td><td>6638.799848</td><td>5076.885882</td><td>2097.649493</td><td>4203.801021</td></tr><tr><td>&quot;min&quot;</td><td>&quot;A0A0A0&quot;</td><td>&quot;FSALDU&quot;</td><td>0.0</td><td>0.0</td><td>0.0</td><td>0.0</td><td>-24249.492537</td><td>0.0</td><td>0.0</td><td>0.0</td><td>0.0</td><td>0.0</td><td>0.0</td><td>0.0</td><td>0.0</td><td>0.0</td><td>0.0</td><td>0.0</td><td>0.0</td><td>0.0</td><td>0.0</td><td>0.0</td><td>0.0</td><td>0.0</td><td>0.0</td><td>0.0</td><td>-1.4599e7</td><td>0.0</td><td>0.0</td><td>-1.6806e7</td><td>-26676.98553</td><td>-204380.698719</td><td>0.0</td><td>0.0</td><td>0.0</td><td>0.0</td><td>&hellip;</td><td>0.0</td><td>0.0</td><td>0.0</td><td>0.0</td><td>0.0</td><td>0.0</td><td>0.0</td><td>0.0</td><td>0.0</td><td>0.0</td><td>0.0</td><td>0.0</td><td>0.0</td><td>0.0</td><td>0.0</td><td>0.0</td><td>0.0</td><td>0.0</td><td>0.0</td><td>0.0</td><td>0.0</td><td>0.0</td><td>0.0</td><td>0.0</td><td>0.0</td><td>0.0</td><td>0.0</td><td>0.0</td><td>0.0</td><td>0.0</td><td>0.0</td><td>0.0</td><td>0.0</td><td>0.0</td><td>0.0</td><td>0.0</td><td>0.0</td></tr><tr><td>&quot;25%&quot;</td><td>null</td><td>null</td><td>3.0</td><td>267191.073885</td><td>214098.269455</td><td>150277.201174</td><td>288995.986572</td><td>265546.050861</td><td>33157.853004</td><td>207473.234744</td><td>45966.938994</td><td>37284.344091</td><td>14714.866683</td><td>14486.524941</td><td>8994.89881</td><td>35944.486804</td><td>10559.894359</td><td>5941.987115</td><td>8917.254867</td><td>3070.145183</td><td>443.75734</td><td>8651.284113</td><td>2763.922466</td><td>3866.706749</td><td>14171.577863</td><td>3756.238973</td><td>0.0</td><td>6565.759691</td><td>284.748359</td><td>-6243.536067</td><td>1559.30506</td><td>968.813853</td><td>45966.938994</td><td>36177.144193</td><td>4032.422898</td><td>4007.86451</td><td>&hellip;</td><td>31974.915025</td><td>14884.392499</td><td>14404.559008</td><td>1721.930707</td><td>889.08304</td><td>10994.748987</td><td>18.79587</td><td>8.307298</td><td>6.952265</td><td>341.867661</td><td>307.276114</td><td>167.899519</td><td>93.667955</td><td>6.870296</td><td>105.847834</td><td>16361.845444</td><td>313.292801</td><td>1178.97798</td><td>1513.451358</td><td>2469.125994</td><td>7.898357</td><td>8700.00923</td><td>189.507627</td><td>384.138866</td><td>151.543329</td><td>37.742767</td><td>93.143563</td><td>2811.475222</td><td>162.774495</td><td>167.312143</td><td>35.976385</td><td>1768.315493</td><td>6.114269</td><td>85.412388</td><td>36.712766</td><td>23.624462</td><td>88.826063</td></tr><tr><td>&quot;50%&quot;</td><td>null</td><td>null</td><td>8.0</td><td>912463.575234</td><td>715484.197728</td><td>509690.363886</td><td>969018.390794</td><td>888496.551166</td><td>140149.72964</td><td>673798.921422</td><td>156532.519617</td><td>119802.611538</td><td>46963.310598</td><td>47206.797141</td><td>30088.717747</td><td>113572.988935</td><td>35444.228008</td><td>18884.714067</td><td>29071.994886</td><td>11240.721641</td><td>1429.571614</td><td>29355.141248</td><td>10235.100399</td><td>13337.104212</td><td>47773.521503</td><td>15219.81177</td><td>50392.064279</td><td>24481.506093</td><td>1049.907105</td><td>18375.896387</td><td>5767.899271</td><td>3728.618986</td><td>156532.519617</td><td>122522.885155</td><td>25032.303773</td><td>24717.905952</td><td>&hellip;</td><td>99636.881325</td><td>47255.263545</td><td>45702.223467</td><td>5675.289883</td><td>3012.454702</td><td>35561.278678</td><td>64.954671</td><td>29.399074</td><td>27.016134</td><td>1221.710075</td><td>1114.524975</td><td>634.507481</td><td>383.183443</td><td>48.33781</td><td>455.550063</td><td>50448.828495</td><td>1010.89752</td><td>4106.746145</td><td>4918.767677</td><td>7819.010503</td><td>30.350255</td><td>26710.649778</td><td>726.944444</td><td>1601.499714</td><td>495.907153</td><td>121.108084</td><td>342.930165</td><td>10954.693342</td><td>1156.778626</td><td>701.484161</td><td>161.412101</td><td>7057.834978</td><td>23.787995</td><td>343.285857</td><td>161.941917</td><td>117.546716</td><td>354.380653</td></tr><tr><td>&quot;75%&quot;</td><td>null</td><td>null</td><td>18.0</td><td>2.3017e6</td><td>1.7612e6</td><td>1.2663e6</td><td>2.4677e6</td><td>2.2273e6</td><td>405799.58862</td><td>1.6375e6</td><td>397364.857056</td><td>283335.041457</td><td>112572.36426</td><td>111185.41082</td><td>76441.320833</td><td>271458.988702</td><td>89461.62396</td><td>45934.093846</td><td>72432.352457</td><td>33143.645302</td><td>3561.588287</td><td>72326.651697</td><td>26341.436173</td><td>33958.583529</td><td>118261.893216</td><td>45160.792428</td><td>224546.728503</td><td>66462.341916</td><td>2965.62507</td><td>138367.839985</td><td>15217.963496</td><td>9463.184174</td><td>397364.857056</td><td>309061.190349</td><td>74342.008286</td><td>73421.345491</td><td>&hellip;</td><td>234841.660337</td><td>116289.221612</td><td>112200.441102</td><td>15018.869906</td><td>8150.993847</td><td>87545.046991</td><td>180.270628</td><td>78.649214</td><td>86.006103</td><td>3560.668285</td><td>3296.700024</td><td>1929.993628</td><td>1207.25064</td><td>209.470357</td><td>1429.641014</td><td>116348.736875</td><td>2834.456579</td><td>10240.10095</td><td>12318.235716</td><td>18680.935475</td><td>86.966083</td><td>61627.089698</td><td>2153.664949</td><td>4785.370267</td><td>1321.914033</td><td>341.421503</td><td>954.217924</td><td>34053.319991</td><td>4960.248059</td><td>2008.694424</td><td>540.584951</td><td>22586.713725</td><td>63.703739</td><td>1023.247916</td><td>544.115663</td><td>420.149131</td><td>1009.684299</td></tr><tr><td>&quot;max&quot;</td><td>&quot;Y1A7A4&quot;</td><td>&quot;FSALDU&quot;</td><td>7751.0</td><td>1.1651e9</td><td>8.8699e8</td><td>6.4332e8</td><td>1.3761e9</td><td>1.1036e9</td><td>2.2146e8</td><td>8.0100e8</td><td>2.0096e8</td><td>1.4390e8</td><td>5.5996e7</td><td>4.8493e7</td><td>3.8124e7</td><td>1.3849e8</td><td>4.0329e7</td><td>3.1215e7</td><td>3.3139e7</td><td>1.7300e7</td><td>2.4122e6</td><td>3.5725e7</td><td>1.6681e7</td><td>1.7424e7</td><td>6.3203e7</td><td>4.5674e7</td><td>2.7250e8</td><td>6.8501e7</td><td>6.0243e6</td><td>1.9059e8</td><td>6.7605e6</td><td>5.2102e6</td><td>2.0096e8</td><td>1.5421e8</td><td>3.8349e7</td><td>3.7640e7</td><td>&hellip;</td><td>1.2796e8</td><td>7.0898e7</td><td>6.8704e7</td><td>8.7079e6</td><td>1.0164e7</td><td>5.2694e7</td><td>98537.879231</td><td>43886.395799</td><td>62217.543041</td><td>2.1477e6</td><td>2.1443e6</td><td>1.3459e6</td><td>895523.577009</td><td>272687.971232</td><td>1.1006e6</td><td>5.8696e7</td><td>1.9230e6</td><td>5.4522e6</td><td>9.1193e6</td><td>8.5339e6</td><td>128411.834084</td><td>3.7197e7</td><td>2.9165e6</td><td>1.8141e6</td><td>1.0225e6</td><td>406708.260287</td><td>615838.990473</td><td>1.2478e7</td><td>2.3201e6</td><td>1.0707e6</td><td>653408.354038</td><td>9.9506e6</td><td>29234.466882</td><td>1.4912e6</td><td>1.2078e6</td><td>397905.142758</td><td>733300.179849</td></tr></tbody></table></div>"
      ],
      "text/plain": [
       "shape: (9, 247)\n",
       "┌────────────┬────────┬────────┬───────────┬───┬────────────┬────────────┬────────────┬────────────┐\n",
       "│ statistic  ┆ CODE   ┆ GEO    ┆ HSBASHHD  ┆ … ┆ HSTR056    ┆ HSTR056A   ┆ HSTR056B   ┆ HSTR057    │\n",
       "│ ---        ┆ ---    ┆ ---    ┆ ---       ┆   ┆ ---        ┆ ---        ┆ ---        ┆ ---        │\n",
       "│ str        ┆ str    ┆ str    ┆ f64       ┆   ┆ f64        ┆ f64        ┆ f64        ┆ f64        │\n",
       "╞════════════╪════════╪════════╪═══════════╪═══╪════════════╪════════════╪════════════╪════════════╡\n",
       "│ count      ┆ 868970 ┆ 868970 ┆ 868970.0  ┆ … ┆ 868970.0   ┆ 868970.0   ┆ 868970.0   ┆ 868970.0   │\n",
       "│ null_count ┆ 0      ┆ 0      ┆ 0.0       ┆ … ┆ 0.0        ┆ 0.0        ┆ 0.0        ┆ 0.0        │\n",
       "│ mean       ┆ null   ┆ null   ┆ 18.432629 ┆ … ┆ 1322.43430 ┆ 831.592595 ┆ 490.84171  ┆ 1135.62168 │\n",
       "│            ┆        ┆        ┆           ┆   ┆ 4          ┆            ┆            ┆ 1          │\n",
       "│ std        ┆ null   ┆ null   ┆ 69.379951 ┆ … ┆ 6638.79984 ┆ 5076.88588 ┆ 2097.64949 ┆ 4203.80102 │\n",
       "│            ┆        ┆        ┆           ┆   ┆ 8          ┆ 2          ┆ 3          ┆ 1          │\n",
       "│ min        ┆ A0A0A0 ┆ FSALDU ┆ 0.0       ┆ … ┆ 0.0        ┆ 0.0        ┆ 0.0        ┆ 0.0        │\n",
       "│ 25%        ┆ null   ┆ null   ┆ 3.0       ┆ … ┆ 85.412388  ┆ 36.712766  ┆ 23.624462  ┆ 88.826063  │\n",
       "│ 50%        ┆ null   ┆ null   ┆ 8.0       ┆ … ┆ 343.285857 ┆ 161.941917 ┆ 117.546716 ┆ 354.380653 │\n",
       "│ 75%        ┆ null   ┆ null   ┆ 18.0      ┆ … ┆ 1023.24791 ┆ 544.115663 ┆ 420.149131 ┆ 1009.68429 │\n",
       "│            ┆        ┆        ┆           ┆   ┆ 6          ┆            ┆            ┆ 9          │\n",
       "│ max        ┆ Y1A7A4 ┆ FSALDU ┆ 7751.0    ┆ … ┆ 1.4912e6   ┆ 1.2078e6   ┆ 397905.142 ┆ 733300.179 │\n",
       "│            ┆        ┆        ┆           ┆   ┆            ┆            ┆ 758        ┆ 849        │\n",
       "└────────────┴────────┴────────┴───────────┴───┴────────────┴────────────┴────────────┴────────────┘"
      ]
     },
     "metadata": {},
     "output_type": "display_data"
    },
    {
     "data": {
      "text/html": [
       "<div><style>\n",
       ".dataframe > thead > tr,\n",
       ".dataframe > tbody > tr {\n",
       "  text-align: right;\n",
       "  white-space: pre-wrap;\n",
       "}\n",
       "</style>\n",
       "<small>shape: (9, 737)</small><table border=\"1\" class=\"dataframe\"><thead><tr><th>statistic</th><th>CODE</th><th>GEO</th><th>ECYASQKM</th><th>ECYALSQKM</th><th>ECYBASPOP</th><th>ECYBASHHD</th><th>ECYBASHPOP</th><th>ECYBAS12P</th><th>ECYBAS15P</th><th>ECYBAS18P</th><th>ECYBAS19P</th><th>ECYBAS12HP</th><th>ECYBAS15HP</th><th>ECYBAS18HP</th><th>ECYBAS19HP</th><th>ECYBASTNGH</th><th>ECYBASADUH</th><th>ECYBASCF</th><th>ECYBASCFH</th><th>ECYBASKID</th><th>ECYBASLF</th><th>ECYPTAPOP</th><th>ECYPTA_0_4</th><th>ECYPTA_5_9</th><th>ECYPTA1014</th><th>ECYPTA1519</th><th>ECYPTA2024</th><th>ECYPTA2529</th><th>ECYPTA3034</th><th>ECYPTA3539</th><th>ECYPTA4044</th><th>ECYPTA4549</th><th>ECYPTA5054</th><th>ECYPTA5559</th><th>ECYPTA6064</th><th>ECYPTA6569</th><th>&hellip;</th><th>ECYRIMINDI</th><th>ECYRIMNEPA</th><th>ECYRIMPAKI</th><th>ECYRIMSRI</th><th>ECYRIMSASO</th><th>ECYRIMOCE</th><th>ECYRIMAUSS</th><th>ECYRIMOCEO</th><th>ECYPIMHPOP</th><th>ECYPIMNI</th><th>ECYPIMIM</th><th>ECYPIMP01</th><th>ECYPIM0110</th><th>ECYPIM1115</th><th>ECYPIM1621</th><th>ECYPIM22CY</th><th>ECYPIMNPER</th><th>ECYAIMHPOP</th><th>ECYAIMNI</th><th>ECYAIMIM</th><th>ECYAIM_0_5</th><th>ECYAIM_514</th><th>ECYAIM1524</th><th>ECYAIM2544</th><th>ECYAIM45P</th><th>ECYAIMNPER</th><th>ECYGENHPOP</th><th>ECYGEN1GEN</th><th>ECYGEN2GEN</th><th>ECYGEN3GEN</th><th>ECYTCAHPOP</th><th>ECYTCACIT</th><th>ECYTCA_U18</th><th>ECYTCA_18P</th><th>ECYNCANCIT</th><th>ECYNCA_U18</th><th>ECYNCA_18P</th></tr><tr><td>str</td><td>str</td><td>str</td><td>f64</td><td>f64</td><td>f64</td><td>f64</td><td>f64</td><td>f64</td><td>f64</td><td>f64</td><td>f64</td><td>f64</td><td>f64</td><td>f64</td><td>f64</td><td>f64</td><td>f64</td><td>f64</td><td>f64</td><td>f64</td><td>f64</td><td>f64</td><td>f64</td><td>f64</td><td>f64</td><td>f64</td><td>f64</td><td>f64</td><td>f64</td><td>f64</td><td>f64</td><td>f64</td><td>f64</td><td>f64</td><td>f64</td><td>f64</td><td>&hellip;</td><td>f64</td><td>f64</td><td>f64</td><td>f64</td><td>f64</td><td>f64</td><td>f64</td><td>f64</td><td>f64</td><td>f64</td><td>f64</td><td>f64</td><td>f64</td><td>f64</td><td>f64</td><td>f64</td><td>f64</td><td>f64</td><td>f64</td><td>f64</td><td>f64</td><td>f64</td><td>f64</td><td>f64</td><td>f64</td><td>f64</td><td>f64</td><td>f64</td><td>f64</td><td>f64</td><td>f64</td><td>f64</td><td>f64</td><td>f64</td><td>f64</td><td>f64</td><td>f64</td></tr></thead><tbody><tr><td>&quot;count&quot;</td><td>&quot;868970&quot;</td><td>&quot;868970&quot;</td><td>868970.0</td><td>868970.0</td><td>868970.0</td><td>868970.0</td><td>868970.0</td><td>868970.0</td><td>868970.0</td><td>868970.0</td><td>868970.0</td><td>868970.0</td><td>868970.0</td><td>868970.0</td><td>868970.0</td><td>868970.0</td><td>868970.0</td><td>868970.0</td><td>868970.0</td><td>868970.0</td><td>868970.0</td><td>868970.0</td><td>868970.0</td><td>868970.0</td><td>868970.0</td><td>868970.0</td><td>868970.0</td><td>868970.0</td><td>868970.0</td><td>868970.0</td><td>868970.0</td><td>868970.0</td><td>868970.0</td><td>868970.0</td><td>868970.0</td><td>868970.0</td><td>&hellip;</td><td>868970.0</td><td>868970.0</td><td>868970.0</td><td>868970.0</td><td>868970.0</td><td>868970.0</td><td>868970.0</td><td>868970.0</td><td>868970.0</td><td>868970.0</td><td>868970.0</td><td>868970.0</td><td>868970.0</td><td>868970.0</td><td>868970.0</td><td>868970.0</td><td>868970.0</td><td>868970.0</td><td>868970.0</td><td>868970.0</td><td>868970.0</td><td>868970.0</td><td>868970.0</td><td>868970.0</td><td>868970.0</td><td>868970.0</td><td>868970.0</td><td>868970.0</td><td>868970.0</td><td>868970.0</td><td>868970.0</td><td>868970.0</td><td>868970.0</td><td>868970.0</td><td>868970.0</td><td>868970.0</td><td>868970.0</td></tr><tr><td>&quot;null_count&quot;</td><td>&quot;0&quot;</td><td>&quot;0&quot;</td><td>0.0</td><td>0.0</td><td>0.0</td><td>0.0</td><td>0.0</td><td>0.0</td><td>0.0</td><td>0.0</td><td>0.0</td><td>0.0</td><td>0.0</td><td>0.0</td><td>0.0</td><td>0.0</td><td>0.0</td><td>0.0</td><td>0.0</td><td>0.0</td><td>0.0</td><td>0.0</td><td>0.0</td><td>0.0</td><td>0.0</td><td>0.0</td><td>0.0</td><td>0.0</td><td>0.0</td><td>0.0</td><td>0.0</td><td>0.0</td><td>0.0</td><td>0.0</td><td>0.0</td><td>0.0</td><td>&hellip;</td><td>0.0</td><td>0.0</td><td>0.0</td><td>0.0</td><td>0.0</td><td>0.0</td><td>0.0</td><td>0.0</td><td>0.0</td><td>0.0</td><td>0.0</td><td>0.0</td><td>0.0</td><td>0.0</td><td>0.0</td><td>0.0</td><td>0.0</td><td>0.0</td><td>0.0</td><td>0.0</td><td>0.0</td><td>0.0</td><td>0.0</td><td>0.0</td><td>0.0</td><td>0.0</td><td>0.0</td><td>0.0</td><td>0.0</td><td>0.0</td><td>0.0</td><td>0.0</td><td>0.0</td><td>0.0</td><td>0.0</td><td>0.0</td><td>0.0</td></tr><tr><td>&quot;mean&quot;</td><td>null</td><td>null</td><td>0.0</td><td>0.0</td><td>46.684199</td><td>18.432629</td><td>45.881762</td><td>41.254934</td><td>39.613594</td><td>37.819792</td><td>37.323999</td><td>40.336732</td><td>38.832472</td><td>37.263988</td><td>36.746572</td><td>3.072744</td><td>24.49923</td><td>12.76093</td><td>12.051364</td><td>12.740845</td><td>24.633679</td><td>46.684199</td><td>2.181318</td><td>2.390635</td><td>2.498651</td><td>2.672259</td><td>3.213171</td><td>3.308621</td><td>3.406466</td><td>3.258362</td><td>3.117668</td><td>2.858167</td><td>2.776588</td><td>2.859335</td><td>3.10898</td><td>2.80384</td><td>&hellip;</td><td>0.477122</td><td>0.005692</td><td>0.038764</td><td>0.008754</td><td>0.00028</td><td>0.007272</td><td>0.005106</td><td>0.002166</td><td>45.881762</td><td>31.717238</td><td>11.757474</td><td>4.721479</td><td>2.368195</td><td>1.391643</td><td>1.640656</td><td>1.635501</td><td>2.407051</td><td>45.881762</td><td>31.717238</td><td>11.757474</td><td>1.066154</td><td>2.036562</td><td>2.230265</td><td>5.299374</td><td>1.125119</td><td>2.407051</td><td>45.881762</td><td>14.168175</td><td>7.448384</td><td>24.265204</td><td>45.881762</td><td>40.528679</td><td>7.761493</td><td>32.767185</td><td>5.353084</td><td>0.85628</td><td>4.496803</td></tr><tr><td>&quot;std&quot;</td><td>null</td><td>null</td><td>0.0</td><td>0.0</td><td>174.837877</td><td>69.379951</td><td>171.817976</td><td>152.539099</td><td>145.876662</td><td>139.320601</td><td>137.611402</td><td>149.038058</td><td>143.038376</td><td>137.181937</td><td>135.319262</td><td>12.468123</td><td>87.647782</td><td>50.126862</td><td>47.828225</td><td>49.02113</td><td>89.352097</td><td>174.837877</td><td>9.518254</td><td>10.400337</td><td>10.705186</td><td>10.30089</td><td>10.888878</td><td>10.894537</td><td>11.699239</td><td>11.371185</td><td>11.099312</td><td>10.485757</td><td>10.544898</td><td>11.657788</td><td>13.69638</td><td>12.729886</td><td>&hellip;</td><td>2.516032</td><td>0.123928</td><td>0.364373</td><td>0.142995</td><td>0.02439</td><td>0.118581</td><td>0.094428</td><td>0.057987</td><td>171.817976</td><td>149.721097</td><td>32.868441</td><td>14.28478</td><td>7.28958</td><td>4.605282</td><td>5.813031</td><td>5.761745</td><td>10.479555</td><td>171.817976</td><td>149.721097</td><td>32.868441</td><td>3.400699</td><td>6.112712</td><td>6.550715</td><td>14.905824</td><td>3.936661</td><td>10.479555</td><td>171.817976</td><td>40.185434</td><td>24.588753</td><td>131.818196</td><td>171.817976</td><td>163.866165</td><td>34.782061</td><td>130.449848</td><td>17.893635</td><td>3.211073</td><td>15.020402</td></tr><tr><td>&quot;min&quot;</td><td>&quot;A0A0A0&quot;</td><td>&quot;FSALDU&quot;</td><td>0.0</td><td>0.0</td><td>0.0</td><td>0.0</td><td>0.0</td><td>0.0</td><td>0.0</td><td>0.0</td><td>0.0</td><td>0.0</td><td>0.0</td><td>0.0</td><td>0.0</td><td>0.0</td><td>0.0</td><td>0.0</td><td>0.0</td><td>0.0</td><td>0.0</td><td>0.0</td><td>0.0</td><td>0.0</td><td>0.0</td><td>0.0</td><td>0.0</td><td>0.0</td><td>0.0</td><td>0.0</td><td>0.0</td><td>0.0</td><td>0.0</td><td>0.0</td><td>0.0</td><td>0.0</td><td>&hellip;</td><td>0.0</td><td>0.0</td><td>0.0</td><td>0.0</td><td>0.0</td><td>0.0</td><td>0.0</td><td>0.0</td><td>0.0</td><td>0.0</td><td>0.0</td><td>0.0</td><td>0.0</td><td>0.0</td><td>0.0</td><td>0.0</td><td>0.0</td><td>0.0</td><td>0.0</td><td>0.0</td><td>0.0</td><td>0.0</td><td>0.0</td><td>0.0</td><td>0.0</td><td>0.0</td><td>0.0</td><td>0.0</td><td>0.0</td><td>0.0</td><td>0.0</td><td>0.0</td><td>0.0</td><td>0.0</td><td>0.0</td><td>0.0</td><td>0.0</td></tr><tr><td>&quot;25%&quot;</td><td>null</td><td>null</td><td>0.0</td><td>0.0</td><td>8.0</td><td>3.0</td><td>7.0</td><td>7.0</td><td>7.0</td><td>6.0</td><td>6.0</td><td>7.0</td><td>7.0</td><td>6.0</td><td>6.0</td><td>0.0</td><td>4.0</td><td>2.0</td><td>2.0</td><td>2.0</td><td>4.0</td><td>8.0</td><td>0.0</td><td>0.0</td><td>0.0</td><td>1.0</td><td>0.0</td><td>0.0</td><td>0.0</td><td>0.0</td><td>0.0</td><td>0.0</td><td>0.0</td><td>0.0</td><td>0.0</td><td>0.0</td><td>&hellip;</td><td>0.0</td><td>0.0</td><td>0.0</td><td>0.0</td><td>0.0</td><td>0.0</td><td>0.0</td><td>0.0</td><td>7.0</td><td>6.0</td><td>0.0</td><td>0.0</td><td>0.0</td><td>0.0</td><td>0.0</td><td>0.0</td><td>0.0</td><td>7.0</td><td>6.0</td><td>0.0</td><td>0.0</td><td>0.0</td><td>0.0</td><td>0.0</td><td>0.0</td><td>0.0</td><td>7.0</td><td>0.0</td><td>0.0</td><td>4.0</td><td>7.0</td><td>7.0</td><td>1.0</td><td>6.0</td><td>0.0</td><td>0.0</td><td>0.0</td></tr><tr><td>&quot;50%&quot;</td><td>null</td><td>null</td><td>0.0</td><td>0.0</td><td>21.0</td><td>8.0</td><td>21.0</td><td>19.0</td><td>19.0</td><td>18.0</td><td>17.0</td><td>19.0</td><td>18.0</td><td>17.0</td><td>17.0</td><td>1.0</td><td>11.0</td><td>6.0</td><td>5.0</td><td>5.0</td><td>11.0</td><td>21.0</td><td>1.0</td><td>1.0</td><td>1.0</td><td>1.0</td><td>1.0</td><td>1.0</td><td>1.0</td><td>1.0</td><td>1.0</td><td>1.0</td><td>1.0</td><td>1.0</td><td>2.0</td><td>1.0</td><td>&hellip;</td><td>0.0</td><td>0.0</td><td>0.0</td><td>0.0</td><td>0.0</td><td>0.0</td><td>0.0</td><td>0.0</td><td>21.0</td><td>15.0</td><td>3.0</td><td>1.0</td><td>0.0</td><td>0.0</td><td>0.0</td><td>0.0</td><td>0.0</td><td>21.0</td><td>15.0</td><td>3.0</td><td>0.0</td><td>0.0</td><td>0.0</td><td>1.0</td><td>0.0</td><td>0.0</td><td>21.0</td><td>3.0</td><td>3.0</td><td>11.0</td><td>21.0</td><td>19.0</td><td>3.0</td><td>16.0</td><td>1.0</td><td>0.0</td><td>1.0</td></tr><tr><td>&quot;75%&quot;</td><td>null</td><td>null</td><td>0.0</td><td>0.0</td><td>47.0</td><td>18.0</td><td>46.0</td><td>41.0</td><td>40.0</td><td>38.0</td><td>38.0</td><td>41.0</td><td>39.0</td><td>38.0</td><td>37.0</td><td>3.0</td><td>25.0</td><td>13.0</td><td>12.0</td><td>12.0</td><td>25.0</td><td>47.0</td><td>2.0</td><td>2.0</td><td>2.0</td><td>3.0</td><td>3.0</td><td>3.0</td><td>3.0</td><td>3.0</td><td>3.0</td><td>3.0</td><td>3.0</td><td>3.0</td><td>3.0</td><td>3.0</td><td>&hellip;</td><td>0.0</td><td>0.0</td><td>0.0</td><td>0.0</td><td>0.0</td><td>0.0</td><td>0.0</td><td>0.0</td><td>46.0</td><td>32.0</td><td>11.0</td><td>5.0</td><td>2.0</td><td>1.0</td><td>1.0</td><td>1.0</td><td>1.0</td><td>46.0</td><td>32.0</td><td>11.0</td><td>1.0</td><td>2.0</td><td>2.0</td><td>5.0</td><td>1.0</td><td>1.0</td><td>46.0</td><td>13.0</td><td>8.0</td><td>23.0</td><td>46.0</td><td>41.0</td><td>8.0</td><td>33.0</td><td>4.0</td><td>1.0</td><td>4.0</td></tr><tr><td>&quot;max&quot;</td><td>&quot;Y1A7A4&quot;</td><td>&quot;FSALDU&quot;</td><td>0.0</td><td>0.0</td><td>23507.0</td><td>7751.0</td><td>23378.0</td><td>20141.0</td><td>19020.0</td><td>17849.0</td><td>17487.0</td><td>19950.0</td><td>18891.0</td><td>17781.0</td><td>17436.0</td><td>2169.0</td><td>11623.0</td><td>6837.0</td><td>6487.0</td><td>8218.0</td><td>13551.0</td><td>23507.0</td><td>1241.0</td><td>1530.0</td><td>1791.0</td><td>1871.0</td><td>1954.0</td><td>1200.0</td><td>1478.0</td><td>1437.0</td><td>1811.0</td><td>1723.0</td><td>1617.0</td><td>1545.0</td><td>1393.0</td><td>1293.0</td><td>&hellip;</td><td>326.0</td><td>29.0</td><td>66.0</td><td>28.0</td><td>14.0</td><td>22.0</td><td>18.0</td><td>13.0</td><td>23378.0</td><td>19212.0</td><td>4372.0</td><td>2055.0</td><td>1061.0</td><td>666.0</td><td>407.0</td><td>813.0</td><td>894.0</td><td>23378.0</td><td>19212.0</td><td>4372.0</td><td>508.0</td><td>971.0</td><td>964.0</td><td>1663.0</td><td>402.0</td><td>894.0</td><td>23378.0</td><td>4874.0</td><td>4694.0</td><td>14518.0</td><td>23378.0</td><td>22529.0</td><td>5461.0</td><td>17068.0</td><td>1333.0</td><td>318.0</td><td>1164.0</td></tr></tbody></table></div>"
      ],
      "text/plain": [
       "shape: (9, 737)\n",
       "┌────────────┬────────┬────────┬──────────┬───┬────────────┬────────────┬────────────┬────────────┐\n",
       "│ statistic  ┆ CODE   ┆ GEO    ┆ ECYASQKM ┆ … ┆ ECYTCA_18P ┆ ECYNCANCIT ┆ ECYNCA_U18 ┆ ECYNCA_18P │\n",
       "│ ---        ┆ ---    ┆ ---    ┆ ---      ┆   ┆ ---        ┆ ---        ┆ ---        ┆ ---        │\n",
       "│ str        ┆ str    ┆ str    ┆ f64      ┆   ┆ f64        ┆ f64        ┆ f64        ┆ f64        │\n",
       "╞════════════╪════════╪════════╪══════════╪═══╪════════════╪════════════╪════════════╪════════════╡\n",
       "│ count      ┆ 868970 ┆ 868970 ┆ 868970.0 ┆ … ┆ 868970.0   ┆ 868970.0   ┆ 868970.0   ┆ 868970.0   │\n",
       "│ null_count ┆ 0      ┆ 0      ┆ 0.0      ┆ … ┆ 0.0        ┆ 0.0        ┆ 0.0        ┆ 0.0        │\n",
       "│ mean       ┆ null   ┆ null   ┆ 0.0      ┆ … ┆ 32.767185  ┆ 5.353084   ┆ 0.85628    ┆ 4.496803   │\n",
       "│ std        ┆ null   ┆ null   ┆ 0.0      ┆ … ┆ 130.449848 ┆ 17.893635  ┆ 3.211073   ┆ 15.020402  │\n",
       "│ min        ┆ A0A0A0 ┆ FSALDU ┆ 0.0      ┆ … ┆ 0.0        ┆ 0.0        ┆ 0.0        ┆ 0.0        │\n",
       "│ 25%        ┆ null   ┆ null   ┆ 0.0      ┆ … ┆ 6.0        ┆ 0.0        ┆ 0.0        ┆ 0.0        │\n",
       "│ 50%        ┆ null   ┆ null   ┆ 0.0      ┆ … ┆ 16.0       ┆ 1.0        ┆ 0.0        ┆ 1.0        │\n",
       "│ 75%        ┆ null   ┆ null   ┆ 0.0      ┆ … ┆ 33.0       ┆ 4.0        ┆ 1.0        ┆ 4.0        │\n",
       "│ max        ┆ Y1A7A4 ┆ FSALDU ┆ 0.0      ┆ … ┆ 17068.0    ┆ 1333.0     ┆ 318.0      ┆ 1164.0     │\n",
       "└────────────┴────────┴────────┴──────────┴───┴────────────┴────────────┴────────────┴────────────┘"
      ]
     },
     "metadata": {},
     "output_type": "display_data"
    }
   ],
   "source": [
    "hs = pl.read_csv(\"./data/HouseholdSpend.csv\")\n",
    "ds = pl.read_csv(\"./data/DemoStats.csv\")\n",
    "\n",
    "# Check for initial null or NaN values\n",
    "# Assert no NaNs in a DataFrame with float columns\n",
    "assert not hs.drop_nans().shape[0] < hs.shape[0], \"Spending DataFrame contains NaN values\"\n",
    "assert not ds.drop_nans().shape[0] < ds.shape[0], \"Demographics DataFrame contains NaN values\"\n",
    "assert not hs.drop_nulls().shape[0] < hs.shape[0], \"Spending DataFrame contains null values\"\n",
    "assert not ds.drop_nulls().shape[0] < ds.shape[0], \"Demographics DataFrame contains null values\"\n",
    "\n",
    "display(hs.describe())\n",
    "display(ds.describe())"
   ]
  },
  {
   "cell_type": "markdown",
   "metadata": {},
   "source": [
    "Drop the zip code and geography level columns - these are just IDs that won't help our model."
   ]
  },
  {
   "cell_type": "code",
   "execution_count": 4,
   "metadata": {},
   "outputs": [
    {
     "data": {
      "text/html": [
       "<div><style>\n",
       ".dataframe > thead > tr,\n",
       ".dataframe > tbody > tr {\n",
       "  text-align: right;\n",
       "  white-space: pre-wrap;\n",
       "}\n",
       "</style>\n",
       "<small>shape: (868_970,)</small><table border=\"1\" class=\"dataframe\"><thead><tr><th>CODE</th></tr><tr><td>str</td></tr></thead><tbody><tr><td>&quot;A0A0A0&quot;</td></tr><tr><td>&quot;A0A1A0&quot;</td></tr><tr><td>&quot;A0A1B0&quot;</td></tr><tr><td>&quot;A0A1C0&quot;</td></tr><tr><td>&quot;A0A1E0&quot;</td></tr><tr><td>&hellip;</td></tr><tr><td>&quot;Y1A6W1&quot;</td></tr><tr><td>&quot;Y1A7A1&quot;</td></tr><tr><td>&quot;Y1A7A2&quot;</td></tr><tr><td>&quot;Y1A7A3&quot;</td></tr><tr><td>&quot;Y1A7A4&quot;</td></tr></tbody></table></div>"
      ],
      "text/plain": [
       "shape: (868_970,)\n",
       "Series: 'CODE' [str]\n",
       "[\n",
       "\t\"A0A0A0\"\n",
       "\t\"A0A1A0\"\n",
       "\t\"A0A1B0\"\n",
       "\t\"A0A1C0\"\n",
       "\t\"A0A1E0\"\n",
       "\t…\n",
       "\t\"Y1A6W1\"\n",
       "\t\"Y1A7A1\"\n",
       "\t\"Y1A7A2\"\n",
       "\t\"Y1A7A3\"\n",
       "\t\"Y1A7A4\"\n",
       "]"
      ]
     },
     "execution_count": 4,
     "metadata": {},
     "output_type": "execute_result"
    }
   ],
   "source": [
    "hs.drop_in_place(\"CODE\")\n",
    "hs.drop_in_place(\"GEO\")\n",
    "ds.drop_in_place(\"GEO\")\n",
    "ds.drop_in_place(\"CODE\")\n"
   ]
  },
  {
   "cell_type": "markdown",
   "metadata": {},
   "source": [
    "## Feature Engineering"
   ]
  },
  {
   "cell_type": "markdown",
   "metadata": {},
   "source": [
    "Currently all the household spending variables represent total spending for entire neighbourhood; we will convert them to average per household spending which is probably a better predictor of per household insurance contribution. We don't want to confuse the model with some neighbourhoods having dramatically higher spending only because of high population.\n",
    "\n",
    "Then we will construct our target variable, the portion of income a household spends on insurance and retirement savings."
   ]
  },
  {
   "cell_type": "code",
   "execution_count": 5,
   "metadata": {},
   "outputs": [
    {
     "data": {
      "text/html": [
       "<div><style>\n",
       ".dataframe > thead > tr,\n",
       ".dataframe > tbody > tr {\n",
       "  text-align: right;\n",
       "  white-space: pre-wrap;\n",
       "}\n",
       "</style>\n",
       "<small>shape: (9, 245)</small><table border=\"1\" class=\"dataframe\"><thead><tr><th>statistic</th><th>HSHNIAGG</th><th>HSAGDISPIN</th><th>HSAGDISCIN</th><th>HSTT001</th><th>HSTE001</th><th>HSTX001</th><th>HSTC001</th><th>HSSH001S</th><th>HSFD001S</th><th>HSHO001S</th><th>HSHC001S</th><th>HSHF001S</th><th>HSTR001S</th><th>HSRE001S</th><th>HSPC001S</th><th>HSCL001S</th><th>HSED002S</th><th>HSRO001S</th><th>HSTA001S</th><th>HSGC001S</th><th>HSME001S</th><th>HSEP001S</th><th>HSMG001S</th><th>HSTE001ZBS</th><th>HSWH002S</th><th>HSWH028S</th><th>HSWH040S</th><th>HSWH041S</th><th>HSWH042S</th><th>HSSH001</th><th>HSSH002</th><th>HSSH003</th><th>HSSH004</th><th>HSSH053</th><th>HSSH054</th><th>HSSH005</th><th>&hellip;</th><th>HSTR003</th><th>HSTR004</th><th>HSTR005</th><th>HSTR006</th><th>HSTR007</th><th>HSTR008</th><th>HSTR009</th><th>HSTR058</th><th>HSTR010</th><th>HSTR011</th><th>HSTR012</th><th>HSTR014M</th><th>HSTR015</th><th>HSTR020</th><th>HSTR030</th><th>HSTR031</th><th>HSTR032</th><th>HSTR033</th><th>HSTR034</th><th>HSTR035</th><th>HSTR036</th><th>HSTR037</th><th>HSTR038</th><th>HSTR039</th><th>HSTR040</th><th>HSTR041</th><th>HSTR050</th><th>HSTR051</th><th>HSTR052</th><th>HSTR053</th><th>HSTR054</th><th>HSTR055</th><th>HSTR056</th><th>HSTR056A</th><th>HSTR056B</th><th>HSTR057</th><th>portion_retirement_insurance</th></tr><tr><td>str</td><td>f64</td><td>f64</td><td>f64</td><td>f64</td><td>f64</td><td>f64</td><td>f64</td><td>f64</td><td>f64</td><td>f64</td><td>f64</td><td>f64</td><td>f64</td><td>f64</td><td>f64</td><td>f64</td><td>f64</td><td>f64</td><td>f64</td><td>f64</td><td>f64</td><td>f64</td><td>f64</td><td>f64</td><td>f64</td><td>f64</td><td>f64</td><td>f64</td><td>f64</td><td>f64</td><td>f64</td><td>f64</td><td>f64</td><td>f64</td><td>f64</td><td>f64</td><td>&hellip;</td><td>f64</td><td>f64</td><td>f64</td><td>f64</td><td>f64</td><td>f64</td><td>f64</td><td>f64</td><td>f64</td><td>f64</td><td>f64</td><td>f64</td><td>f64</td><td>f64</td><td>f64</td><td>f64</td><td>f64</td><td>f64</td><td>f64</td><td>f64</td><td>f64</td><td>f64</td><td>f64</td><td>f64</td><td>f64</td><td>f64</td><td>f64</td><td>f64</td><td>f64</td><td>f64</td><td>f64</td><td>f64</td><td>f64</td><td>f64</td><td>f64</td><td>f64</td><td>f64</td></tr></thead><tbody><tr><td>&quot;count&quot;</td><td>868970.0</td><td>868970.0</td><td>868970.0</td><td>868970.0</td><td>868970.0</td><td>868970.0</td><td>868970.0</td><td>868970.0</td><td>868970.0</td><td>868970.0</td><td>868970.0</td><td>868970.0</td><td>868970.0</td><td>868970.0</td><td>868970.0</td><td>868970.0</td><td>868970.0</td><td>868970.0</td><td>868970.0</td><td>868970.0</td><td>868970.0</td><td>868970.0</td><td>868970.0</td><td>868970.0</td><td>868970.0</td><td>868970.0</td><td>868970.0</td><td>868970.0</td><td>868970.0</td><td>868970.0</td><td>868970.0</td><td>868970.0</td><td>868970.0</td><td>868970.0</td><td>868970.0</td><td>868970.0</td><td>&hellip;</td><td>868970.0</td><td>868970.0</td><td>868970.0</td><td>868970.0</td><td>868970.0</td><td>868970.0</td><td>868970.0</td><td>868970.0</td><td>868970.0</td><td>868970.0</td><td>868970.0</td><td>868970.0</td><td>868970.0</td><td>868970.0</td><td>868970.0</td><td>868970.0</td><td>868970.0</td><td>868970.0</td><td>868970.0</td><td>868970.0</td><td>868970.0</td><td>868970.0</td><td>868970.0</td><td>868970.0</td><td>868970.0</td><td>868970.0</td><td>868970.0</td><td>868970.0</td><td>868970.0</td><td>868970.0</td><td>868970.0</td><td>868970.0</td><td>868970.0</td><td>868970.0</td><td>868970.0</td><td>868970.0</td><td>868970.0</td></tr><tr><td>&quot;null_count&quot;</td><td>0.0</td><td>0.0</td><td>0.0</td><td>0.0</td><td>0.0</td><td>0.0</td><td>0.0</td><td>0.0</td><td>0.0</td><td>0.0</td><td>0.0</td><td>0.0</td><td>0.0</td><td>0.0</td><td>0.0</td><td>0.0</td><td>0.0</td><td>0.0</td><td>0.0</td><td>0.0</td><td>0.0</td><td>0.0</td><td>0.0</td><td>0.0</td><td>0.0</td><td>0.0</td><td>0.0</td><td>0.0</td><td>0.0</td><td>0.0</td><td>0.0</td><td>0.0</td><td>0.0</td><td>0.0</td><td>0.0</td><td>0.0</td><td>&hellip;</td><td>0.0</td><td>0.0</td><td>0.0</td><td>0.0</td><td>0.0</td><td>0.0</td><td>0.0</td><td>0.0</td><td>0.0</td><td>0.0</td><td>0.0</td><td>0.0</td><td>0.0</td><td>0.0</td><td>0.0</td><td>0.0</td><td>0.0</td><td>0.0</td><td>0.0</td><td>0.0</td><td>0.0</td><td>0.0</td><td>0.0</td><td>0.0</td><td>0.0</td><td>0.0</td><td>0.0</td><td>0.0</td><td>0.0</td><td>0.0</td><td>0.0</td><td>0.0</td><td>0.0</td><td>0.0</td><td>0.0</td><td>0.0</td><td>0.0</td></tr><tr><td>&quot;mean&quot;</td><td>113083.263311</td><td>86004.969701</td><td>61756.463377</td><td>124100.46217</td><td>110659.096698</td><td>21329.761528</td><td>81120.980552</td><td>19451.348892</td><td>14051.852189</td><td>5640.647583</td><td>5453.737856</td><td>3894.12655</td><td>13714.912167</td><td>4475.787785</td><td>2307.920882</td><td>3620.452159</td><td>1831.592429</td><td>180.070429</td><td>3552.323879</td><td>1258.671821</td><td>1687.535929</td><td>5767.651152</td><td>2440.703466</td><td>13441.365471</td><td>3679.226495</td><td>183.21153</td><td>8340.110651</td><td>767.014484</td><td>471.802312</td><td>19451.348892</td><td>15057.07041</td><td>3572.375804</td><td>3527.188921</td><td>3503.827985</td><td>23.360936</td><td>8.074081</td><td>&hellip;</td><td>5998.314594</td><td>5794.098686</td><td>754.827871</td><td>489.202334</td><td>4550.06848</td><td>10.131729</td><td>4.580577</td><td>5.551153</td><td>194.084179</td><td>180.690133</td><td>108.968722</td><td>71.721411</td><td>13.394046</td><td>71.132071</td><td>5989.931861</td><td>164.19669</td><td>523.370725</td><td>666.971454</td><td>967.513306</td><td>5.106435</td><td>3239.682473</td><td>127.909632</td><td>224.4644</td><td>70.716746</td><td>19.397331</td><td>51.319415</td><td>1655.533641</td><td>256.831429</td><td>101.69908</td><td>44.400143</td><td>1130.306389</td><td>3.304134</td><td>67.110823</td><td>42.685376</td><td>24.425447</td><td>51.881644</td><td>0.048015</td></tr><tr><td>&quot;std&quot;</td><td>95888.112232</td><td>61585.741431</td><td>47271.395164</td><td>106423.582737</td><td>96165.001769</td><td>34249.337102</td><td>57520.845902</td><td>14437.227215</td><td>8735.079763</td><td>4150.74371</td><td>3486.151988</td><td>3706.807942</td><td>9177.026733</td><td>3721.066535</td><td>1627.426249</td><td>2964.140116</td><td>2626.886746</td><td>143.91476</td><td>2806.49432</td><td>896.55783</td><td>1738.505479</td><td>3501.73853</td><td>5563.278449</td><td>23340.657412</td><td>3268.849224</td><td>363.169609</td><td>20937.345568</td><td>875.526983</td><td>401.521054</td><td>14437.227215</td><td>10180.499762</td><td>3356.026359</td><td>3310.699569</td><td>3284.343463</td><td>36.142203</td><td>26.417176</td><td>&hellip;</td><td>4397.121656</td><td>4230.065806</td><td>621.170324</td><td>541.99211</td><td>3477.680417</td><td>12.036328</td><td>5.169206</td><td>9.316355</td><td>223.83379</td><td>214.586982</td><td>136.121851</td><td>94.865981</td><td>19.929029</td><td>83.535532</td><td>3689.98299</td><td>172.769453</td><td>370.270476</td><td>599.671703</td><td>676.483186</td><td>6.464252</td><td>2048.639749</td><td>158.369118</td><td>216.206197</td><td>66.25426</td><td>19.125852</td><td>55.045244</td><td>1714.792859</td><td>293.847957</td><td>113.030572</td><td>94.403067</td><td>1334.561812</td><td>2.892185</td><td>131.658002</td><td>108.022754</td><td>33.055399</td><td>51.994555</td><td>0.022317</td></tr><tr><td>&quot;min&quot;</td><td>0.0</td><td>0.0</td><td>0.0</td><td>-24249.492537</td><td>0.0</td><td>0.0</td><td>0.0</td><td>0.0</td><td>0.0</td><td>0.0</td><td>0.0</td><td>0.0</td><td>0.0</td><td>0.0</td><td>0.0</td><td>0.0</td><td>0.0</td><td>0.0</td><td>0.0</td><td>0.0</td><td>0.0</td><td>0.0</td><td>0.0</td><td>-713372.555881</td><td>0.0</td><td>0.0</td><td>-821073.240312</td><td>-6402.348112</td><td>-21679.582212</td><td>0.0</td><td>0.0</td><td>0.0</td><td>0.0</td><td>0.0</td><td>0.0</td><td>0.0</td><td>&hellip;</td><td>0.0</td><td>0.0</td><td>0.0</td><td>0.0</td><td>0.0</td><td>0.0</td><td>0.0</td><td>0.0</td><td>0.0</td><td>0.0</td><td>0.0</td><td>0.0</td><td>0.0</td><td>0.0</td><td>0.0</td><td>0.0</td><td>0.0</td><td>0.0</td><td>0.0</td><td>0.0</td><td>0.0</td><td>0.0</td><td>0.0</td><td>0.0</td><td>0.0</td><td>0.0</td><td>0.0</td><td>0.0</td><td>0.0</td><td>0.0</td><td>0.0</td><td>0.0</td><td>0.0</td><td>0.0</td><td>0.0</td><td>0.0</td><td>0.0</td></tr><tr><td>&quot;25%&quot;</td><td>73127.635536</td><td>60115.360364</td><td>41531.846159</td><td>73269.917426</td><td>72382.541976</td><td>8272.243558</td><td>57945.224346</td><td>12655.415474</td><td>10652.687589</td><td>4175.338127</td><td>4131.35436</td><td>2285.338647</td><td>9472.642127</td><td>2736.240782</td><td>1622.154486</td><td>2405.924724</td><td>669.953215</td><td>114.432011</td><td>2262.510282</td><td>707.929534</td><td>1031.779193</td><td>3744.966973</td><td>863.763135</td><td>0.0</td><td>1368.972054</td><td>66.964758</td><td>-1342.756767</td><td>392.621006</td><td>235.464322</td><td>12655.415474</td><td>10160.037047</td><td>1025.873981</td><td>1020.371721</td><td>1018.227082</td><td>0.697442</td><td>0.262822</td><td>&hellip;</td><td>3580.051946</td><td>3455.204029</td><td>415.054067</td><td>162.159547</td><td>2541.290061</td><td>3.971605</td><td>1.645518</td><td>1.304341</td><td>74.45857</td><td>65.497224</td><td>34.255887</td><td>19.944268</td><td>0.827326</td><td>27.365728</td><td>4236.838064</td><td>70.623326</td><td>341.409674</td><td>339.145739</td><td>595.707259</td><td>1.566959</td><td>2137.112083</td><td>39.65448</td><td>97.032845</td><td>32.311686</td><td>8.001997</td><td>20.05245</td><td>684.36025</td><td>31.349019</td><td>42.196381</td><td>6.679889</td><td>412.544377</td><td>1.409769</td><td>20.144985</td><td>8.370629</td><td>3.945077</td><td>21.681811</td><td>0.039442</td></tr><tr><td>&quot;50%&quot;</td><td>105518.335923</td><td>83307.457445</td><td>58778.608128</td><td>113891.309542</td><td>103292.475452</td><td>15610.903736</td><td>79140.170527</td><td>18369.143203</td><td>14157.421684</td><td>5462.094183</td><td>5463.240541</td><td>3520.890143</td><td>13559.25216</td><td>4147.454981</td><td>2236.969766</td><td>3387.950894</td><td>1289.236969</td><td>165.502325</td><td>3350.386084</td><td>1155.836663</td><td>1515.147671</td><td>5776.975331</td><td>1733.92237</td><td>8083.290954</td><td>3163.885399</td><td>125.759282</td><td>3163.054053</td><td>674.824496</td><td>436.90708</td><td>18369.143203</td><td>14472.843288</td><td>2667.499848</td><td>2633.007704</td><td>2619.007433</td><td>5.869349</td><td>2.598953</td><td>&hellip;</td><td>5674.482391</td><td>5489.955337</td><td>661.997138</td><td>351.978012</td><td>4260.42475</td><td>7.593488</td><td>3.303306</td><td>3.154613</td><td>144.521725</td><td>131.856312</td><td>75.751763</td><td>47.436984</td><td>6.417425</td><td>52.078122</td><td>6064.64217</td><td>104.745439</td><td>520.526665</td><td>580.22602</td><td>907.327164</td><td>3.407644</td><td>3225.71175</td><td>86.680592</td><td>191.456219</td><td>57.892544</td><td>12.44561</td><td>40.766558</td><td>1295.724858</td><td>146.591663</td><td>82.502736</td><td>18.106371</td><td>853.162573</td><td>2.696411</td><td>37.525668</td><td>17.488713</td><td>15.835964</td><td>40.908232</td><td>0.051997</td></tr><tr><td>&quot;75%&quot;</td><td>142149.482269</td><td>108671.653657</td><td>77968.111932</td><td>159468.59394</td><td>138045.168772</td><td>25721.610617</td><td>101931.492258</td><td>25263.28767</td><td>17642.35633</td><td>6890.344213</td><td>6785.958768</td><td>4917.635412</td><td>17680.653551</td><td>5748.992286</td><td>2925.140756</td><td>4536.287478</td><td>2300.070615</td><td>231.29232</td><td>4592.127959</td><td>1726.235089</td><td>2075.518211</td><td>7838.505508</td><td>2809.386535</td><td>20693.84129</td><td>5163.760766</td><td>197.675522</td><td>13820.106465</td><td>991.037259</td><td>657.058631</td><td>25263.28767</td><td>19635.451266</td><td>5306.417259</td><td>5233.279191</td><td>5196.709294</td><td>33.455138</td><td>8.257677</td><td>&hellip;</td><td>7959.819968</td><td>7692.13778</td><td>994.766152</td><td>645.352644</td><td>6107.840209</td><td>12.843005</td><td>5.92594</td><td>6.681901</td><td>251.409835</td><td>234.78952</td><td>147.243044</td><td>90.92053</td><td>18.259162</td><td>93.679454</td><td>7772.5892</td><td>186.766599</td><td>689.220259</td><td>865.282575</td><td>1295.772351</td><td>6.595273</td><td>4269.965274</td><td>165.890106</td><td>310.540148</td><td>94.816481</td><td>24.562612</td><td>68.147281</td><td>2313.104392</td><td>393.628202</td><td>130.260078</td><td>43.64381</td><td>1519.098779</td><td>4.451897</td><td>62.724912</td><td>35.017269</td><td>32.134493</td><td>66.985569</td><td>0.062119</td></tr><tr><td>&quot;max&quot;</td><td>7.2700e6</td><td>4.0726e6</td><td>3.3038e6</td><td>6.8822e6</td><td>7.1350e6</td><td>3.1264e6</td><td>3.7020e6</td><td>1.0076e6</td><td>538237.627175</td><td>344355.052512</td><td>197378.71681</td><td>272936.955798</td><td>535182.209863</td><td>247795.220702</td><td>105537.174494</td><td>216990.127662</td><td>249818.77172</td><td>10452.544728</td><td>236228.228001</td><td>74161.998085</td><td>138862.42004</td><td>201084.264762</td><td>817688.884688</td><td>2.7680e6</td><td>103427.199404</td><td>33074.809974</td><td>2.7426e6</td><td>80632.148718</td><td>14931.316191</td><td>1.0076e6</td><td>739870.985769</td><td>241808.709393</td><td>239609.371991</td><td>239407.836089</td><td>1867.077059</td><td>4723.175301</td><td>&hellip;</td><td>293724.242998</td><td>276127.105616</td><td>41888.35566</td><td>39957.46051</td><td>251790.316824</td><td>824.100219</td><td>544.712467</td><td>673.36081</td><td>25537.027954</td><td>25433.863411</td><td>17655.602112</td><td>8094.590322</td><td>1474.977482</td><td>5983.712563</td><td>211397.412746</td><td>7337.435685</td><td>22692.312704</td><td>45226.872387</td><td>44471.351116</td><td>716.708352</td><td>101907.088828</td><td>13167.704698</td><td>13807.872756</td><td>6295.665656</td><td>1307.036666</td><td>4988.62899</td><td>114145.307319</td><td>13032.149094</td><td>8066.810543</td><td>11356.73863</td><td>96997.1598</td><td>141.980793</td><td>7699.87487</td><td>7006.249091</td><td>2635.985182</td><td>3635.902611</td><td>0.15988</td></tr></tbody></table></div>"
      ],
      "text/plain": [
       "shape: (9, 245)\n",
       "┌───────────┬───────────┬───────────┬───────────┬───┬───────────┬───────────┬───────────┬──────────┐\n",
       "│ statistic ┆ HSHNIAGG  ┆ HSAGDISPI ┆ HSAGDISCI ┆ … ┆ HSTR056A  ┆ HSTR056B  ┆ HSTR057   ┆ portion_ │\n",
       "│ ---       ┆ ---       ┆ N         ┆ N         ┆   ┆ ---       ┆ ---       ┆ ---       ┆ retireme │\n",
       "│ str       ┆ f64       ┆ ---       ┆ ---       ┆   ┆ f64       ┆ f64       ┆ f64       ┆ nt_insur │\n",
       "│           ┆           ┆ f64       ┆ f64       ┆   ┆           ┆           ┆           ┆ ance     │\n",
       "│           ┆           ┆           ┆           ┆   ┆           ┆           ┆           ┆ ---      │\n",
       "│           ┆           ┆           ┆           ┆   ┆           ┆           ┆           ┆ f64      │\n",
       "╞═══════════╪═══════════╪═══════════╪═══════════╪═══╪═══════════╪═══════════╪═══════════╪══════════╡\n",
       "│ count     ┆ 868970.0  ┆ 868970.0  ┆ 868970.0  ┆ … ┆ 868970.0  ┆ 868970.0  ┆ 868970.0  ┆ 868970.0 │\n",
       "│ null_coun ┆ 0.0       ┆ 0.0       ┆ 0.0       ┆ … ┆ 0.0       ┆ 0.0       ┆ 0.0       ┆ 0.0      │\n",
       "│ t         ┆           ┆           ┆           ┆   ┆           ┆           ┆           ┆          │\n",
       "│ mean      ┆ 113083.26 ┆ 86004.969 ┆ 61756.463 ┆ … ┆ 42.685376 ┆ 24.425447 ┆ 51.881644 ┆ 0.048015 │\n",
       "│           ┆ 3311      ┆ 701       ┆ 377       ┆   ┆           ┆           ┆           ┆          │\n",
       "│ std       ┆ 95888.112 ┆ 61585.741 ┆ 47271.395 ┆ … ┆ 108.02275 ┆ 33.055399 ┆ 51.994555 ┆ 0.022317 │\n",
       "│           ┆ 232       ┆ 431       ┆ 164       ┆   ┆ 4         ┆           ┆           ┆          │\n",
       "│ min       ┆ 0.0       ┆ 0.0       ┆ 0.0       ┆ … ┆ 0.0       ┆ 0.0       ┆ 0.0       ┆ 0.0      │\n",
       "│ 25%       ┆ 73127.635 ┆ 60115.360 ┆ 41531.846 ┆ … ┆ 8.370629  ┆ 3.945077  ┆ 21.681811 ┆ 0.039442 │\n",
       "│           ┆ 536       ┆ 364       ┆ 159       ┆   ┆           ┆           ┆           ┆          │\n",
       "│ 50%       ┆ 105518.33 ┆ 83307.457 ┆ 58778.608 ┆ … ┆ 17.488713 ┆ 15.835964 ┆ 40.908232 ┆ 0.051997 │\n",
       "│           ┆ 5923      ┆ 445       ┆ 128       ┆   ┆           ┆           ┆           ┆          │\n",
       "│ 75%       ┆ 142149.48 ┆ 108671.65 ┆ 77968.111 ┆ … ┆ 35.017269 ┆ 32.134493 ┆ 66.985569 ┆ 0.062119 │\n",
       "│           ┆ 2269      ┆ 3657      ┆ 932       ┆   ┆           ┆           ┆           ┆          │\n",
       "│ max       ┆ 7.2700e6  ┆ 4.0726e6  ┆ 3.3038e6  ┆ … ┆ 7006.2490 ┆ 2635.9851 ┆ 3635.9026 ┆ 0.15988  │\n",
       "│           ┆           ┆           ┆           ┆   ┆ 91        ┆ 82        ┆ 11        ┆          │\n",
       "└───────────┴───────────┴───────────┴───────────┴───┴───────────┴───────────┴───────────┴──────────┘"
      ]
     },
     "execution_count": 5,
     "metadata": {},
     "output_type": "execute_result"
    }
   ],
   "source": [
    "total_households = hs.select(TOTAL_HOUSEHOLDS_COL)\n",
    "hs.drop_in_place(TOTAL_HOUSEHOLDS_COL)\n",
    "hs = hs.with_columns(\n",
    "    pl.all() / total_households[TOTAL_HOUSEHOLDS_COL]\n",
    ")\n",
    "\n",
    "# Construct our target variable: portion of income spent on insurance and retirement\n",
    "hs = hs.with_columns(\n",
    "    (hs[INSURANCE_COL] / hs[INCOME_COL]).alias(PORTION_RET_INSUR_COL)\n",
    ")\n",
    "\n",
    "hs = hs.fill_nan(0) # replace NaNs resulting from zip codes with no households; we will remove these later\n",
    "hs.describe()"
   ]
  },
  {
   "cell_type": "markdown",
   "metadata": {},
   "source": [
    "## Feature Selection"
   ]
  },
  {
   "cell_type": "markdown",
   "metadata": {},
   "source": [
    "Let's remove some redundant features. We'll first drop features highly correlated with our target variable. Then, we'll read in the metadata file for the dataset, which is structured like a pre-order depth first search tree traversal. We'll use this metadata to identify and delete the non-\"leaf node\" features that don't give us any new info. For example, \"Total Population\" is redundant when we have \"Total Male Population\", \"Total Female Population\" and \"Total Other Population\". "
   ]
  },
  {
   "cell_type": "code",
   "execution_count": 6,
   "metadata": {},
   "outputs": [],
   "source": [
    "# drop columns used to calculate target or highly correlated with the target (related to income or insurance spend)\n",
    "columns_to_drop = [INCOME_COL, \"HSAGDISPIN\", \"HSAGDISCIN\", INSURANCE_COL]\n",
    "for col in columns_to_drop:\n",
    "    hs.drop_in_place(col)\n"
   ]
  },
  {
   "cell_type": "code",
   "execution_count": 7,
   "metadata": {},
   "outputs": [
    {
     "name": "stderr",
     "output_type": "stream",
     "text": [
      "<>:31: SyntaxWarning: invalid escape sequence '\\D'\n",
      "<>:32: SyntaxWarning: invalid escape sequence '\\H'\n",
      "<>:31: SyntaxWarning: invalid escape sequence '\\D'\n",
      "<>:32: SyntaxWarning: invalid escape sequence '\\H'\n",
      "C:\\Users\\kevin\\AppData\\Local\\Temp\\ipykernel_10468\\1563151703.py:31: SyntaxWarning: invalid escape sequence '\\D'\n",
      "  ds_columns_to_drop = get_columns_to_drop(\"data\\DemoStats 2024 - Metadata.csv\")\n",
      "C:\\Users\\kevin\\AppData\\Local\\Temp\\ipykernel_10468\\1563151703.py:32: SyntaxWarning: invalid escape sequence '\\H'\n",
      "  hs_columns_to_drop = get_columns_to_drop(\"data\\HouseholdSpend 2024 - Metadata.csv\")\n"
     ]
    },
    {
     "name": "stdout",
     "output_type": "stream",
     "text": [
      "Dropped columns from hs: HSHE011, HSTR050, HSCS011, HSSH010, HSFD990, HSSH030, HSHO001, HSCC001, HSSH031, HSHC001, HSTR039, HSCS001, HSHF005, HSHF002, HSSH041, HSHF001, HSSH040, HSTC001, HSSH050, HSTR002, HSTR008, HSHO014, HSHC022, HSHO010, HSSH003, HSSH016, HSSH047, HSSH002, HSTR004, HSHC005, HSHE001, HSSH037, HSTR011, HSHC002, HSCS003, HSTR010, HSTE001, HSTT001, HSWH042S, HSCC002, HSFD991, HSHC006, HSTR003, HSTE001ZBS, HSTR030, HSCC013, HSSH032, HSSH036, HSSH033, HSSH034, HSHE002, HSSH001, HSHC010, HSSH012, HSSH046, HSFD001, HSTR056, HSSH035, HSSH004, HSHO003, HSSH012B, HSHE010, HSHO018, HSHE020, HSTR001, HSHE012, HSHC004\n",
      "Dropped columns from ds: ECYTCAHPOP, ECYTIMEU, ECYHNIHHD, ECYPNIHP15, ECYRIMWAF, ECYTIMSAF, ECYRIMHPOP, ECYEDAHPWK, ECYTIMEA, ECYRIMEEU, ECYPTAMED, ECYMOTSING, ECYMARNMCL, ECYRELCHR, ECYRIMAM, ECYRIMOCE, ECYPMAPOP, ECYRIMA, ECYHTY1PH, ECYHTYFHT, ECYPMAMED, ECYHTYHHD, ECYACTHPL, ECYVISHPOP, ECYTIMNAF, ECYEDUHP15, ECYMTNMED, ECYHFSC, ECYTIMSA, ECYPTAAVG, ECYHTY1FH, ECYHTYNFH, ECYACTINLF, ECYINDALL, ECYMARHP15, ECYHRI200P, ECYTIMHPOP, ECYRIMWCM, ECYPFAAVG, ECYMOTNOFF, ECYMOTHPOP, ECYTIMAF, ECYSTYHOUS, ECYCDOHHD, ECYRIMNAF, ECYCFSC, ECYTIMNI, ECYHNIAVG, ECYTRAHPL, ECYTIMAM, ECYTIMIMGT, ECYRIMNEU, ECYKNOHPOP, ECYTIMWAF, ECYHSZHHD, ECYINDHPL, ECYCWT, ECYHNI200P, ECYVISVM, ECYHRI100P, ECYTCACIT, ECYRIMAF, ECYTIMNEU, ECYRELHPOP, ECYCDOCO, ECYPNIAVG, ECYRIMEAF, ECYRIMEA, ECYHFAMED, ECYEDUUD, ECYTIMEAF, ECYHRIMED, ECYRIMSEA, ECYTIMCB, ECYHFAHPOP, ECYMTNAVG, ECYTIMSEU, ECYRIMEU, ECYHOMSING, ECYHOMNOFF, ECYRIMSAM, ECYPIMHPOP, ECYHFSLP, ECYCFSCF, ECYMARMCL, ECYPOWHPL, ECYHTAHPOP, ECYGENHPOP, ECYPFAMED, ECYHMAHPOP, ECYRIMCAM, ECYOCCINLF, ECYTIMSEA, ECYRIMWEU, ECYTIMCAF, ECYAIDHPOP, ECYHNIMED, ECYCFSM, ECYSTYOTHR, ECYHNI100P, ECYPFAPOP, ECYNCANCIT, ECYCWHPL, ECYRIMRIM, ECYPOWINLF, ECYOCCALL, ECYEDAUD, ECYPOWEMP, ECYAIMHPOP, ECYHFAAVG, ECYHOMMULT, ECYRIMCB, ECYHFSM, ECYTIMWEU, ECYTIMNAM, ECYHOMHPOP, ECYPIMIM, ECYHMAAVG, ECYAIMIM, ECYCDONC, ECYHFSCL, ECYHRIHHD, ECYTIMEEU, ECYTENHHD, ECYHSZAVG, ECYTIMWCA, ECYTIMCAM, ECYHTAAVG, ECYSTYAPT, ECYOCCHPL, ECYTIMA, ECYHMAMED, ECYCFSCL, ECYPTAPOP, ECYTIMSAM, ECYSTYHHD, ECYHFSCF, ECYTRAALL, ECYMOBHPOP, ECYMOTMULT, ECYPOCHHD, ECYMTNHHD, ECYCFSLP, ECYHTAMED, ECYRIMSAS, ECYHRIAVG, ECYCHAKIDS, ECYPMAAVG, ECYINDINLF\n"
     ]
    },
    {
     "data": {
      "text/html": [
       "<div><style>\n",
       ".dataframe > thead > tr,\n",
       ".dataframe > tbody > tr {\n",
       "  text-align: right;\n",
       "  white-space: pre-wrap;\n",
       "}\n",
       "</style>\n",
       "<small>shape: (9, 174)</small><table border=\"1\" class=\"dataframe\"><thead><tr><th>statistic</th><th>HSTX001</th><th>HSSH001S</th><th>HSFD001S</th><th>HSHO001S</th><th>HSHC001S</th><th>HSHF001S</th><th>HSTR001S</th><th>HSRE001S</th><th>HSPC001S</th><th>HSCL001S</th><th>HSED002S</th><th>HSRO001S</th><th>HSTA001S</th><th>HSGC001S</th><th>HSME001S</th><th>HSMG001S</th><th>HSWH002S</th><th>HSWH028S</th><th>HSWH040S</th><th>HSWH041S</th><th>HSSH053</th><th>HSSH054</th><th>HSSH005</th><th>HSSH006</th><th>HSSH007</th><th>HSSH011</th><th>HSSH014</th><th>HSSH013</th><th>HSSH015</th><th>HSSH017</th><th>HSSH018</th><th>HSSH019</th><th>HSSH021</th><th>HSSH020</th><th>HSSH022</th><th>HSRM002A</th><th>&hellip;</th><th>HSHE011B</th><th>HSHE031</th><th>HSHE012M</th><th>HSHE032</th><th>HSHE013</th><th>HSHE015</th><th>HSHE016</th><th>HSHE021</th><th>HSHE023</th><th>HSTR005</th><th>HSTR006</th><th>HSTR007</th><th>HSTR009</th><th>HSTR058</th><th>HSTR012</th><th>HSTR014M</th><th>HSTR015</th><th>HSTR020</th><th>HSTR031</th><th>HSTR032</th><th>HSTR033</th><th>HSTR034</th><th>HSTR035</th><th>HSTR036</th><th>HSTR037</th><th>HSTR038</th><th>HSTR040</th><th>HSTR041</th><th>HSTR051</th><th>HSTR052</th><th>HSTR053</th><th>HSTR054</th><th>HSTR055</th><th>HSTR056A</th><th>HSTR056B</th><th>HSTR057</th><th>portion_retirement_insurance</th></tr><tr><td>str</td><td>f64</td><td>f64</td><td>f64</td><td>f64</td><td>f64</td><td>f64</td><td>f64</td><td>f64</td><td>f64</td><td>f64</td><td>f64</td><td>f64</td><td>f64</td><td>f64</td><td>f64</td><td>f64</td><td>f64</td><td>f64</td><td>f64</td><td>f64</td><td>f64</td><td>f64</td><td>f64</td><td>f64</td><td>f64</td><td>f64</td><td>f64</td><td>f64</td><td>f64</td><td>f64</td><td>f64</td><td>f64</td><td>f64</td><td>f64</td><td>f64</td><td>f64</td><td>&hellip;</td><td>f64</td><td>f64</td><td>f64</td><td>f64</td><td>f64</td><td>f64</td><td>f64</td><td>f64</td><td>f64</td><td>f64</td><td>f64</td><td>f64</td><td>f64</td><td>f64</td><td>f64</td><td>f64</td><td>f64</td><td>f64</td><td>f64</td><td>f64</td><td>f64</td><td>f64</td><td>f64</td><td>f64</td><td>f64</td><td>f64</td><td>f64</td><td>f64</td><td>f64</td><td>f64</td><td>f64</td><td>f64</td><td>f64</td><td>f64</td><td>f64</td><td>f64</td><td>f64</td></tr></thead><tbody><tr><td>&quot;count&quot;</td><td>868970.0</td><td>868970.0</td><td>868970.0</td><td>868970.0</td><td>868970.0</td><td>868970.0</td><td>868970.0</td><td>868970.0</td><td>868970.0</td><td>868970.0</td><td>868970.0</td><td>868970.0</td><td>868970.0</td><td>868970.0</td><td>868970.0</td><td>868970.0</td><td>868970.0</td><td>868970.0</td><td>868970.0</td><td>868970.0</td><td>868970.0</td><td>868970.0</td><td>868970.0</td><td>868970.0</td><td>868970.0</td><td>868970.0</td><td>868970.0</td><td>868970.0</td><td>868970.0</td><td>868970.0</td><td>868970.0</td><td>868970.0</td><td>868970.0</td><td>868970.0</td><td>868970.0</td><td>868970.0</td><td>&hellip;</td><td>868970.0</td><td>868970.0</td><td>868970.0</td><td>868970.0</td><td>868970.0</td><td>868970.0</td><td>868970.0</td><td>868970.0</td><td>868970.0</td><td>868970.0</td><td>868970.0</td><td>868970.0</td><td>868970.0</td><td>868970.0</td><td>868970.0</td><td>868970.0</td><td>868970.0</td><td>868970.0</td><td>868970.0</td><td>868970.0</td><td>868970.0</td><td>868970.0</td><td>868970.0</td><td>868970.0</td><td>868970.0</td><td>868970.0</td><td>868970.0</td><td>868970.0</td><td>868970.0</td><td>868970.0</td><td>868970.0</td><td>868970.0</td><td>868970.0</td><td>868970.0</td><td>868970.0</td><td>868970.0</td><td>868970.0</td></tr><tr><td>&quot;null_count&quot;</td><td>0.0</td><td>0.0</td><td>0.0</td><td>0.0</td><td>0.0</td><td>0.0</td><td>0.0</td><td>0.0</td><td>0.0</td><td>0.0</td><td>0.0</td><td>0.0</td><td>0.0</td><td>0.0</td><td>0.0</td><td>0.0</td><td>0.0</td><td>0.0</td><td>0.0</td><td>0.0</td><td>0.0</td><td>0.0</td><td>0.0</td><td>0.0</td><td>0.0</td><td>0.0</td><td>0.0</td><td>0.0</td><td>0.0</td><td>0.0</td><td>0.0</td><td>0.0</td><td>0.0</td><td>0.0</td><td>0.0</td><td>0.0</td><td>&hellip;</td><td>0.0</td><td>0.0</td><td>0.0</td><td>0.0</td><td>0.0</td><td>0.0</td><td>0.0</td><td>0.0</td><td>0.0</td><td>0.0</td><td>0.0</td><td>0.0</td><td>0.0</td><td>0.0</td><td>0.0</td><td>0.0</td><td>0.0</td><td>0.0</td><td>0.0</td><td>0.0</td><td>0.0</td><td>0.0</td><td>0.0</td><td>0.0</td><td>0.0</td><td>0.0</td><td>0.0</td><td>0.0</td><td>0.0</td><td>0.0</td><td>0.0</td><td>0.0</td><td>0.0</td><td>0.0</td><td>0.0</td><td>0.0</td><td>0.0</td></tr><tr><td>&quot;mean&quot;</td><td>21329.761528</td><td>19451.348892</td><td>14051.852189</td><td>5640.647583</td><td>5453.737856</td><td>3894.12655</td><td>13714.912167</td><td>4475.787785</td><td>2307.920882</td><td>3620.452159</td><td>1831.592429</td><td>180.070429</td><td>3552.323879</td><td>1258.671821</td><td>1687.535929</td><td>2440.703466</td><td>3679.226495</td><td>183.21153</td><td>8340.110651</td><td>767.014484</td><td>3503.827985</td><td>23.360936</td><td>8.074081</td><td>32.17807</td><td>4.934732</td><td>5734.197578</td><td>2039.657603</td><td>224.346864</td><td>450.89118</td><td>688.498413</td><td>42.610658</td><td>57.327097</td><td>22.868613</td><td>19.337479</td><td>154.819705</td><td>36.180773</td><td>&hellip;</td><td>50.669429</td><td>47.839276</td><td>48.257366</td><td>24.473367</td><td>196.022564</td><td>116.300456</td><td>314.245848</td><td>123.612696</td><td>218.320846</td><td>754.827871</td><td>489.202334</td><td>4550.06848</td><td>4.580577</td><td>5.551153</td><td>108.968722</td><td>71.721411</td><td>13.394046</td><td>71.132071</td><td>164.19669</td><td>523.370725</td><td>666.971454</td><td>967.513306</td><td>5.106435</td><td>3239.682473</td><td>127.909632</td><td>224.4644</td><td>19.397331</td><td>51.319415</td><td>256.831429</td><td>101.69908</td><td>44.400143</td><td>1130.306389</td><td>3.304134</td><td>42.685376</td><td>24.425447</td><td>51.881644</td><td>0.048015</td></tr><tr><td>&quot;std&quot;</td><td>34249.337102</td><td>14437.227215</td><td>8735.079763</td><td>4150.74371</td><td>3486.151988</td><td>3706.807942</td><td>9177.026733</td><td>3721.066535</td><td>1627.426249</td><td>2964.140116</td><td>2626.886746</td><td>143.91476</td><td>2806.49432</td><td>896.55783</td><td>1738.505479</td><td>5563.278449</td><td>3268.849224</td><td>363.169609</td><td>20937.345568</td><td>875.526983</td><td>3284.343463</td><td>36.142203</td><td>26.417176</td><td>38.451252</td><td>11.039197</td><td>5211.756831</td><td>2124.710405</td><td>429.364967</td><td>417.349717</td><td>761.746528</td><td>40.965083</td><td>55.488358</td><td>29.495715</td><td>33.196496</td><td>323.674195</td><td>65.65381</td><td>&hellip;</td><td>58.162434</td><td>61.261459</td><td>55.079125</td><td>43.653086</td><td>179.932695</td><td>121.896706</td><td>467.674284</td><td>173.012319</td><td>308.065888</td><td>621.170324</td><td>541.99211</td><td>3477.680417</td><td>5.169206</td><td>9.316355</td><td>136.121851</td><td>94.865981</td><td>19.929029</td><td>83.535532</td><td>172.769453</td><td>370.270476</td><td>599.671703</td><td>676.483186</td><td>6.464252</td><td>2048.639749</td><td>158.369118</td><td>216.206197</td><td>19.125852</td><td>55.045244</td><td>293.847957</td><td>113.030572</td><td>94.403067</td><td>1334.561812</td><td>2.892185</td><td>108.022754</td><td>33.055399</td><td>51.994555</td><td>0.022317</td></tr><tr><td>&quot;min&quot;</td><td>0.0</td><td>0.0</td><td>0.0</td><td>0.0</td><td>0.0</td><td>0.0</td><td>0.0</td><td>0.0</td><td>0.0</td><td>0.0</td><td>0.0</td><td>0.0</td><td>0.0</td><td>0.0</td><td>0.0</td><td>0.0</td><td>0.0</td><td>0.0</td><td>-821073.240312</td><td>-6402.348112</td><td>0.0</td><td>0.0</td><td>0.0</td><td>0.0</td><td>0.0</td><td>0.0</td><td>0.0</td><td>0.0</td><td>0.0</td><td>0.0</td><td>0.0</td><td>0.0</td><td>0.0</td><td>0.0</td><td>0.0</td><td>0.0</td><td>&hellip;</td><td>0.0</td><td>0.0</td><td>0.0</td><td>0.0</td><td>0.0</td><td>0.0</td><td>0.0</td><td>0.0</td><td>0.0</td><td>0.0</td><td>0.0</td><td>0.0</td><td>0.0</td><td>0.0</td><td>0.0</td><td>0.0</td><td>0.0</td><td>0.0</td><td>0.0</td><td>0.0</td><td>0.0</td><td>0.0</td><td>0.0</td><td>0.0</td><td>0.0</td><td>0.0</td><td>0.0</td><td>0.0</td><td>0.0</td><td>0.0</td><td>0.0</td><td>0.0</td><td>0.0</td><td>0.0</td><td>0.0</td><td>0.0</td><td>0.0</td></tr><tr><td>&quot;25%&quot;</td><td>8272.243558</td><td>12655.415474</td><td>10652.687589</td><td>4175.338127</td><td>4131.35436</td><td>2285.338647</td><td>9472.642127</td><td>2736.240782</td><td>1622.154486</td><td>2405.924724</td><td>669.953215</td><td>114.432011</td><td>2262.510282</td><td>707.929534</td><td>1031.779193</td><td>863.763135</td><td>1368.972054</td><td>66.964758</td><td>-1342.756767</td><td>392.621006</td><td>1018.227082</td><td>0.697442</td><td>0.262822</td><td>1.466898</td><td>0.420496</td><td>1979.851196</td><td>803.162301</td><td>33.183931</td><td>200.385121</td><td>252.912423</td><td>16.327042</td><td>19.132909</td><td>4.387385</td><td>3.180641</td><td>14.227029</td><td>8.461287</td><td>&hellip;</td><td>11.786362</td><td>8.570196</td><td>10.828031</td><td>1.906987</td><td>105.855615</td><td>55.070358</td><td>62.622815</td><td>4.26806</td><td>64.93797</td><td>415.054067</td><td>162.159547</td><td>2541.290061</td><td>1.645518</td><td>1.304341</td><td>34.255887</td><td>19.944268</td><td>0.827326</td><td>27.365728</td><td>70.623326</td><td>341.409674</td><td>339.145739</td><td>595.707259</td><td>1.566959</td><td>2137.112083</td><td>39.65448</td><td>97.032845</td><td>8.001997</td><td>20.05245</td><td>31.349019</td><td>42.196381</td><td>6.679889</td><td>412.544377</td><td>1.409769</td><td>8.370629</td><td>3.945077</td><td>21.681811</td><td>0.039442</td></tr><tr><td>&quot;50%&quot;</td><td>15610.903736</td><td>18369.143203</td><td>14157.421684</td><td>5462.094183</td><td>5463.240541</td><td>3520.890143</td><td>13559.25216</td><td>4147.454981</td><td>2236.969766</td><td>3387.950894</td><td>1289.236969</td><td>165.502325</td><td>3350.386084</td><td>1155.836663</td><td>1515.147671</td><td>1733.92237</td><td>3163.885399</td><td>125.759282</td><td>3163.054053</td><td>674.824496</td><td>2619.007433</td><td>5.869349</td><td>2.598953</td><td>19.812133</td><td>1.576386</td><td>5042.410649</td><td>1757.735701</td><td>90.81336</td><td>442.696186</td><td>545.144445</td><td>35.285086</td><td>49.064541</td><td>14.777471</td><td>10.228909</td><td>58.967873</td><td>22.751678</td><td>&hellip;</td><td>32.806617</td><td>29.17687</td><td>32.719464</td><td>9.930335</td><td>172.364567</td><td>96.705751</td><td>191.197661</td><td>32.58439</td><td>156.145562</td><td>661.997138</td><td>351.978012</td><td>4260.42475</td><td>3.303306</td><td>3.154613</td><td>75.751763</td><td>47.436984</td><td>6.417425</td><td>52.078122</td><td>104.745439</td><td>520.526665</td><td>580.22602</td><td>907.327164</td><td>3.407644</td><td>3225.71175</td><td>86.680592</td><td>191.456219</td><td>12.44561</td><td>40.766558</td><td>146.591663</td><td>82.502736</td><td>18.106371</td><td>853.162573</td><td>2.696411</td><td>17.488713</td><td>15.835964</td><td>40.908232</td><td>0.051997</td></tr><tr><td>&quot;75%&quot;</td><td>25721.610617</td><td>25263.28767</td><td>17642.35633</td><td>6890.344213</td><td>6785.958768</td><td>4917.635412</td><td>17680.653551</td><td>5748.992286</td><td>2925.140756</td><td>4536.287478</td><td>2300.070615</td><td>231.29232</td><td>4592.127959</td><td>1726.235089</td><td>2075.518211</td><td>2809.386535</td><td>5163.760766</td><td>197.675522</td><td>13820.106465</td><td>991.037259</td><td>5196.709294</td><td>33.455138</td><td>8.257677</td><td>48.373973</td><td>4.634995</td><td>8317.980422</td><td>2810.96174</td><td>226.345837</td><td>617.921788</td><td>930.506308</td><td>57.592803</td><td>80.353802</td><td>30.693925</td><td>22.758953</td><td>176.533874</td><td>43.865413</td><td>&hellip;</td><td>70.643358</td><td>64.115551</td><td>67.825458</td><td>29.309771</td><td>256.502914</td><td>152.363281</td><td>408.697915</td><td>217.781427</td><td>297.466038</td><td>994.766152</td><td>645.352644</td><td>6107.840209</td><td>5.92594</td><td>6.681901</td><td>147.243044</td><td>90.92053</td><td>18.259162</td><td>93.679454</td><td>186.766599</td><td>689.220259</td><td>865.282575</td><td>1295.772351</td><td>6.595273</td><td>4269.965274</td><td>165.890106</td><td>310.540148</td><td>24.562612</td><td>68.147281</td><td>393.628202</td><td>130.260078</td><td>43.64381</td><td>1519.098779</td><td>4.451897</td><td>35.017269</td><td>32.134493</td><td>66.985569</td><td>0.062119</td></tr><tr><td>&quot;max&quot;</td><td>3.1264e6</td><td>1.0076e6</td><td>538237.627175</td><td>344355.052512</td><td>197378.71681</td><td>272936.955798</td><td>535182.209863</td><td>247795.220702</td><td>105537.174494</td><td>216990.127662</td><td>249818.77172</td><td>10452.544728</td><td>236228.228001</td><td>74161.998085</td><td>138862.42004</td><td>817688.884688</td><td>103427.199404</td><td>33074.809974</td><td>2.7426e6</td><td>80632.148718</td><td>239407.836089</td><td>1867.077059</td><td>4723.175301</td><td>2018.188124</td><td>567.65581</td><td>431146.427245</td><td>126501.015067</td><td>26581.158561</td><td>28099.258635</td><td>68319.676587</td><td>2649.200838</td><td>3907.01858</td><td>4283.505337</td><td>3760.923512</td><td>38449.444531</td><td>6921.904262</td><td>&hellip;</td><td>4031.862921</td><td>2864.974592</td><td>2963.306302</td><td>3511.165337</td><td>12898.986191</td><td>8331.291257</td><td>42750.155217</td><td>9752.413471</td><td>29623.725246</td><td>41888.35566</td><td>39957.46051</td><td>251790.316824</td><td>544.712467</td><td>673.36081</td><td>17655.602112</td><td>8094.590322</td><td>1474.977482</td><td>5983.712563</td><td>7337.435685</td><td>22692.312704</td><td>45226.872387</td><td>44471.351116</td><td>716.708352</td><td>101907.088828</td><td>13167.704698</td><td>13807.872756</td><td>1307.036666</td><td>4988.62899</td><td>13032.149094</td><td>8066.810543</td><td>11356.73863</td><td>96997.1598</td><td>141.980793</td><td>7006.249091</td><td>2635.985182</td><td>3635.902611</td><td>0.15988</td></tr></tbody></table></div>"
      ],
      "text/plain": [
       "shape: (9, 174)\n",
       "┌───────────┬───────────┬───────────┬───────────┬───┬───────────┬───────────┬───────────┬──────────┐\n",
       "│ statistic ┆ HSTX001   ┆ HSSH001S  ┆ HSFD001S  ┆ … ┆ HSTR056A  ┆ HSTR056B  ┆ HSTR057   ┆ portion_ │\n",
       "│ ---       ┆ ---       ┆ ---       ┆ ---       ┆   ┆ ---       ┆ ---       ┆ ---       ┆ retireme │\n",
       "│ str       ┆ f64       ┆ f64       ┆ f64       ┆   ┆ f64       ┆ f64       ┆ f64       ┆ nt_insur │\n",
       "│           ┆           ┆           ┆           ┆   ┆           ┆           ┆           ┆ ance     │\n",
       "│           ┆           ┆           ┆           ┆   ┆           ┆           ┆           ┆ ---      │\n",
       "│           ┆           ┆           ┆           ┆   ┆           ┆           ┆           ┆ f64      │\n",
       "╞═══════════╪═══════════╪═══════════╪═══════════╪═══╪═══════════╪═══════════╪═══════════╪══════════╡\n",
       "│ count     ┆ 868970.0  ┆ 868970.0  ┆ 868970.0  ┆ … ┆ 868970.0  ┆ 868970.0  ┆ 868970.0  ┆ 868970.0 │\n",
       "│ null_coun ┆ 0.0       ┆ 0.0       ┆ 0.0       ┆ … ┆ 0.0       ┆ 0.0       ┆ 0.0       ┆ 0.0      │\n",
       "│ t         ┆           ┆           ┆           ┆   ┆           ┆           ┆           ┆          │\n",
       "│ mean      ┆ 21329.761 ┆ 19451.348 ┆ 14051.852 ┆ … ┆ 42.685376 ┆ 24.425447 ┆ 51.881644 ┆ 0.048015 │\n",
       "│           ┆ 528       ┆ 892       ┆ 189       ┆   ┆           ┆           ┆           ┆          │\n",
       "│ std       ┆ 34249.337 ┆ 14437.227 ┆ 8735.0797 ┆ … ┆ 108.02275 ┆ 33.055399 ┆ 51.994555 ┆ 0.022317 │\n",
       "│           ┆ 102       ┆ 215       ┆ 63        ┆   ┆ 4         ┆           ┆           ┆          │\n",
       "│ min       ┆ 0.0       ┆ 0.0       ┆ 0.0       ┆ … ┆ 0.0       ┆ 0.0       ┆ 0.0       ┆ 0.0      │\n",
       "│ 25%       ┆ 8272.2435 ┆ 12655.415 ┆ 10652.687 ┆ … ┆ 8.370629  ┆ 3.945077  ┆ 21.681811 ┆ 0.039442 │\n",
       "│           ┆ 58        ┆ 474       ┆ 589       ┆   ┆           ┆           ┆           ┆          │\n",
       "│ 50%       ┆ 15610.903 ┆ 18369.143 ┆ 14157.421 ┆ … ┆ 17.488713 ┆ 15.835964 ┆ 40.908232 ┆ 0.051997 │\n",
       "│           ┆ 736       ┆ 203       ┆ 684       ┆   ┆           ┆           ┆           ┆          │\n",
       "│ 75%       ┆ 25721.610 ┆ 25263.287 ┆ 17642.356 ┆ … ┆ 35.017269 ┆ 32.134493 ┆ 66.985569 ┆ 0.062119 │\n",
       "│           ┆ 617       ┆ 67        ┆ 33        ┆   ┆           ┆           ┆           ┆          │\n",
       "│ max       ┆ 3.1264e6  ┆ 1.0076e6  ┆ 538237.62 ┆ … ┆ 7006.2490 ┆ 2635.9851 ┆ 3635.9026 ┆ 0.15988  │\n",
       "│           ┆           ┆           ┆ 7175      ┆   ┆ 91        ┆ 82        ┆ 11        ┆          │\n",
       "└───────────┴───────────┴───────────┴───────────┴───┴───────────┴───────────┴───────────┴──────────┘"
      ]
     },
     "metadata": {},
     "output_type": "display_data"
    },
    {
     "data": {
      "text/html": [
       "<div><style>\n",
       ".dataframe > thead > tr,\n",
       ".dataframe > tbody > tr {\n",
       "  text-align: right;\n",
       "  white-space: pre-wrap;\n",
       "}\n",
       "</style>\n",
       "<small>shape: (9, 586)</small><table border=\"1\" class=\"dataframe\"><thead><tr><th>statistic</th><th>ECYASQKM</th><th>ECYALSQKM</th><th>ECYBASPOP</th><th>ECYBASHHD</th><th>ECYBASHPOP</th><th>ECYBAS12P</th><th>ECYBAS15P</th><th>ECYBAS18P</th><th>ECYBAS19P</th><th>ECYBAS12HP</th><th>ECYBAS15HP</th><th>ECYBAS18HP</th><th>ECYBAS19HP</th><th>ECYBASTNGH</th><th>ECYBASADUH</th><th>ECYBASCF</th><th>ECYBASCFH</th><th>ECYBASKID</th><th>ECYBASLF</th><th>ECYPTA_0_4</th><th>ECYPTA_5_9</th><th>ECYPTA1014</th><th>ECYPTA1519</th><th>ECYPTA2024</th><th>ECYPTA2529</th><th>ECYPTA3034</th><th>ECYPTA3539</th><th>ECYPTA4044</th><th>ECYPTA4549</th><th>ECYPTA5054</th><th>ECYPTA5559</th><th>ECYPTA6064</th><th>ECYPTA6569</th><th>ECYPTA7074</th><th>ECYPTA7579</th><th>ECYPTA8084</th><th>&hellip;</th><th>ECYRIMCHIN</th><th>ECYRIMHONG</th><th>ECYRIMJAPA</th><th>ECYRIMSKOR</th><th>ECYRIMEAO</th><th>ECYRIMPHIL</th><th>ECYRIMVIET</th><th>ECYRIMSEAO</th><th>ECYRIMBANG</th><th>ECYRIMINDI</th><th>ECYRIMNEPA</th><th>ECYRIMPAKI</th><th>ECYRIMSRI</th><th>ECYRIMSASO</th><th>ECYRIMAUSS</th><th>ECYRIMOCEO</th><th>ECYPIMNI</th><th>ECYPIMP01</th><th>ECYPIM0110</th><th>ECYPIM1115</th><th>ECYPIM1621</th><th>ECYPIM22CY</th><th>ECYPIMNPER</th><th>ECYAIMNI</th><th>ECYAIM_0_5</th><th>ECYAIM_514</th><th>ECYAIM1524</th><th>ECYAIM2544</th><th>ECYAIM45P</th><th>ECYAIMNPER</th><th>ECYGEN1GEN</th><th>ECYGEN2GEN</th><th>ECYGEN3GEN</th><th>ECYTCA_U18</th><th>ECYTCA_18P</th><th>ECYNCA_U18</th><th>ECYNCA_18P</th></tr><tr><td>str</td><td>f64</td><td>f64</td><td>f64</td><td>f64</td><td>f64</td><td>f64</td><td>f64</td><td>f64</td><td>f64</td><td>f64</td><td>f64</td><td>f64</td><td>f64</td><td>f64</td><td>f64</td><td>f64</td><td>f64</td><td>f64</td><td>f64</td><td>f64</td><td>f64</td><td>f64</td><td>f64</td><td>f64</td><td>f64</td><td>f64</td><td>f64</td><td>f64</td><td>f64</td><td>f64</td><td>f64</td><td>f64</td><td>f64</td><td>f64</td><td>f64</td><td>f64</td><td>&hellip;</td><td>f64</td><td>f64</td><td>f64</td><td>f64</td><td>f64</td><td>f64</td><td>f64</td><td>f64</td><td>f64</td><td>f64</td><td>f64</td><td>f64</td><td>f64</td><td>f64</td><td>f64</td><td>f64</td><td>f64</td><td>f64</td><td>f64</td><td>f64</td><td>f64</td><td>f64</td><td>f64</td><td>f64</td><td>f64</td><td>f64</td><td>f64</td><td>f64</td><td>f64</td><td>f64</td><td>f64</td><td>f64</td><td>f64</td><td>f64</td><td>f64</td><td>f64</td><td>f64</td></tr></thead><tbody><tr><td>&quot;count&quot;</td><td>868970.0</td><td>868970.0</td><td>868970.0</td><td>868970.0</td><td>868970.0</td><td>868970.0</td><td>868970.0</td><td>868970.0</td><td>868970.0</td><td>868970.0</td><td>868970.0</td><td>868970.0</td><td>868970.0</td><td>868970.0</td><td>868970.0</td><td>868970.0</td><td>868970.0</td><td>868970.0</td><td>868970.0</td><td>868970.0</td><td>868970.0</td><td>868970.0</td><td>868970.0</td><td>868970.0</td><td>868970.0</td><td>868970.0</td><td>868970.0</td><td>868970.0</td><td>868970.0</td><td>868970.0</td><td>868970.0</td><td>868970.0</td><td>868970.0</td><td>868970.0</td><td>868970.0</td><td>868970.0</td><td>&hellip;</td><td>868970.0</td><td>868970.0</td><td>868970.0</td><td>868970.0</td><td>868970.0</td><td>868970.0</td><td>868970.0</td><td>868970.0</td><td>868970.0</td><td>868970.0</td><td>868970.0</td><td>868970.0</td><td>868970.0</td><td>868970.0</td><td>868970.0</td><td>868970.0</td><td>868970.0</td><td>868970.0</td><td>868970.0</td><td>868970.0</td><td>868970.0</td><td>868970.0</td><td>868970.0</td><td>868970.0</td><td>868970.0</td><td>868970.0</td><td>868970.0</td><td>868970.0</td><td>868970.0</td><td>868970.0</td><td>868970.0</td><td>868970.0</td><td>868970.0</td><td>868970.0</td><td>868970.0</td><td>868970.0</td><td>868970.0</td></tr><tr><td>&quot;null_count&quot;</td><td>0.0</td><td>0.0</td><td>0.0</td><td>0.0</td><td>0.0</td><td>0.0</td><td>0.0</td><td>0.0</td><td>0.0</td><td>0.0</td><td>0.0</td><td>0.0</td><td>0.0</td><td>0.0</td><td>0.0</td><td>0.0</td><td>0.0</td><td>0.0</td><td>0.0</td><td>0.0</td><td>0.0</td><td>0.0</td><td>0.0</td><td>0.0</td><td>0.0</td><td>0.0</td><td>0.0</td><td>0.0</td><td>0.0</td><td>0.0</td><td>0.0</td><td>0.0</td><td>0.0</td><td>0.0</td><td>0.0</td><td>0.0</td><td>&hellip;</td><td>0.0</td><td>0.0</td><td>0.0</td><td>0.0</td><td>0.0</td><td>0.0</td><td>0.0</td><td>0.0</td><td>0.0</td><td>0.0</td><td>0.0</td><td>0.0</td><td>0.0</td><td>0.0</td><td>0.0</td><td>0.0</td><td>0.0</td><td>0.0</td><td>0.0</td><td>0.0</td><td>0.0</td><td>0.0</td><td>0.0</td><td>0.0</td><td>0.0</td><td>0.0</td><td>0.0</td><td>0.0</td><td>0.0</td><td>0.0</td><td>0.0</td><td>0.0</td><td>0.0</td><td>0.0</td><td>0.0</td><td>0.0</td><td>0.0</td></tr><tr><td>&quot;mean&quot;</td><td>0.0</td><td>0.0</td><td>46.684199</td><td>18.432629</td><td>45.881762</td><td>41.254934</td><td>39.613594</td><td>37.819792</td><td>37.323999</td><td>40.336732</td><td>38.832472</td><td>37.263988</td><td>36.746572</td><td>3.072744</td><td>24.49923</td><td>12.76093</td><td>12.051364</td><td>12.740845</td><td>24.633679</td><td>2.181318</td><td>2.390635</td><td>2.498651</td><td>2.672259</td><td>3.213171</td><td>3.308621</td><td>3.406466</td><td>3.258362</td><td>3.117668</td><td>2.858167</td><td>2.776588</td><td>2.859335</td><td>3.10898</td><td>2.80384</td><td>2.278714</td><td>1.770631</td><td>1.112368</td><td>&hellip;</td><td>0.115093</td><td>0.022437</td><td>0.004211</td><td>0.020825</td><td>0.005081</td><td>0.090905</td><td>0.023022</td><td>0.010255</td><td>0.016249</td><td>0.477122</td><td>0.005692</td><td>0.038764</td><td>0.008754</td><td>0.00028</td><td>0.005106</td><td>0.002166</td><td>31.717238</td><td>4.721479</td><td>2.368195</td><td>1.391643</td><td>1.640656</td><td>1.635501</td><td>2.407051</td><td>31.717238</td><td>1.066154</td><td>2.036562</td><td>2.230265</td><td>5.299374</td><td>1.125119</td><td>2.407051</td><td>14.168175</td><td>7.448384</td><td>24.265204</td><td>7.761493</td><td>32.767185</td><td>0.85628</td><td>4.496803</td></tr><tr><td>&quot;std&quot;</td><td>0.0</td><td>0.0</td><td>174.837877</td><td>69.379951</td><td>171.817976</td><td>152.539099</td><td>145.876662</td><td>139.320601</td><td>137.611402</td><td>149.038058</td><td>143.038376</td><td>137.181937</td><td>135.319262</td><td>12.468123</td><td>87.647782</td><td>50.126862</td><td>47.828225</td><td>49.02113</td><td>89.352097</td><td>9.518254</td><td>10.400337</td><td>10.705186</td><td>10.30089</td><td>10.888878</td><td>10.894537</td><td>11.699239</td><td>11.371185</td><td>11.099312</td><td>10.485757</td><td>10.544898</td><td>11.657788</td><td>13.69638</td><td>12.729886</td><td>10.420684</td><td>8.140557</td><td>5.13421</td><td>&hellip;</td><td>0.751078</td><td>0.268443</td><td>0.077976</td><td>0.225336</td><td>0.09944</td><td>0.712533</td><td>0.228892</td><td>0.125798</td><td>0.233412</td><td>2.516032</td><td>0.123928</td><td>0.364373</td><td>0.142995</td><td>0.02439</td><td>0.094428</td><td>0.057987</td><td>149.721097</td><td>14.28478</td><td>7.28958</td><td>4.605282</td><td>5.813031</td><td>5.761745</td><td>10.479555</td><td>149.721097</td><td>3.400699</td><td>6.112712</td><td>6.550715</td><td>14.905824</td><td>3.936661</td><td>10.479555</td><td>40.185434</td><td>24.588753</td><td>131.818196</td><td>34.782061</td><td>130.449848</td><td>3.211073</td><td>15.020402</td></tr><tr><td>&quot;min&quot;</td><td>0.0</td><td>0.0</td><td>0.0</td><td>0.0</td><td>0.0</td><td>0.0</td><td>0.0</td><td>0.0</td><td>0.0</td><td>0.0</td><td>0.0</td><td>0.0</td><td>0.0</td><td>0.0</td><td>0.0</td><td>0.0</td><td>0.0</td><td>0.0</td><td>0.0</td><td>0.0</td><td>0.0</td><td>0.0</td><td>0.0</td><td>0.0</td><td>0.0</td><td>0.0</td><td>0.0</td><td>0.0</td><td>0.0</td><td>0.0</td><td>0.0</td><td>0.0</td><td>0.0</td><td>0.0</td><td>0.0</td><td>0.0</td><td>&hellip;</td><td>0.0</td><td>0.0</td><td>0.0</td><td>0.0</td><td>0.0</td><td>0.0</td><td>0.0</td><td>0.0</td><td>0.0</td><td>0.0</td><td>0.0</td><td>0.0</td><td>0.0</td><td>0.0</td><td>0.0</td><td>0.0</td><td>0.0</td><td>0.0</td><td>0.0</td><td>0.0</td><td>0.0</td><td>0.0</td><td>0.0</td><td>0.0</td><td>0.0</td><td>0.0</td><td>0.0</td><td>0.0</td><td>0.0</td><td>0.0</td><td>0.0</td><td>0.0</td><td>0.0</td><td>0.0</td><td>0.0</td><td>0.0</td><td>0.0</td></tr><tr><td>&quot;25%&quot;</td><td>0.0</td><td>0.0</td><td>8.0</td><td>3.0</td><td>7.0</td><td>7.0</td><td>7.0</td><td>6.0</td><td>6.0</td><td>7.0</td><td>7.0</td><td>6.0</td><td>6.0</td><td>0.0</td><td>4.0</td><td>2.0</td><td>2.0</td><td>2.0</td><td>4.0</td><td>0.0</td><td>0.0</td><td>0.0</td><td>1.0</td><td>0.0</td><td>0.0</td><td>0.0</td><td>0.0</td><td>0.0</td><td>0.0</td><td>0.0</td><td>0.0</td><td>0.0</td><td>0.0</td><td>0.0</td><td>0.0</td><td>0.0</td><td>&hellip;</td><td>0.0</td><td>0.0</td><td>0.0</td><td>0.0</td><td>0.0</td><td>0.0</td><td>0.0</td><td>0.0</td><td>0.0</td><td>0.0</td><td>0.0</td><td>0.0</td><td>0.0</td><td>0.0</td><td>0.0</td><td>0.0</td><td>6.0</td><td>0.0</td><td>0.0</td><td>0.0</td><td>0.0</td><td>0.0</td><td>0.0</td><td>6.0</td><td>0.0</td><td>0.0</td><td>0.0</td><td>0.0</td><td>0.0</td><td>0.0</td><td>0.0</td><td>0.0</td><td>4.0</td><td>1.0</td><td>6.0</td><td>0.0</td><td>0.0</td></tr><tr><td>&quot;50%&quot;</td><td>0.0</td><td>0.0</td><td>21.0</td><td>8.0</td><td>21.0</td><td>19.0</td><td>19.0</td><td>18.0</td><td>17.0</td><td>19.0</td><td>18.0</td><td>17.0</td><td>17.0</td><td>1.0</td><td>11.0</td><td>6.0</td><td>5.0</td><td>5.0</td><td>11.0</td><td>1.0</td><td>1.0</td><td>1.0</td><td>1.0</td><td>1.0</td><td>1.0</td><td>1.0</td><td>1.0</td><td>1.0</td><td>1.0</td><td>1.0</td><td>1.0</td><td>2.0</td><td>1.0</td><td>1.0</td><td>1.0</td><td>0.0</td><td>&hellip;</td><td>0.0</td><td>0.0</td><td>0.0</td><td>0.0</td><td>0.0</td><td>0.0</td><td>0.0</td><td>0.0</td><td>0.0</td><td>0.0</td><td>0.0</td><td>0.0</td><td>0.0</td><td>0.0</td><td>0.0</td><td>0.0</td><td>15.0</td><td>1.0</td><td>0.0</td><td>0.0</td><td>0.0</td><td>0.0</td><td>0.0</td><td>15.0</td><td>0.0</td><td>0.0</td><td>0.0</td><td>1.0</td><td>0.0</td><td>0.0</td><td>3.0</td><td>3.0</td><td>11.0</td><td>3.0</td><td>16.0</td><td>0.0</td><td>1.0</td></tr><tr><td>&quot;75%&quot;</td><td>0.0</td><td>0.0</td><td>47.0</td><td>18.0</td><td>46.0</td><td>41.0</td><td>40.0</td><td>38.0</td><td>38.0</td><td>41.0</td><td>39.0</td><td>38.0</td><td>37.0</td><td>3.0</td><td>25.0</td><td>13.0</td><td>12.0</td><td>12.0</td><td>25.0</td><td>2.0</td><td>2.0</td><td>2.0</td><td>3.0</td><td>3.0</td><td>3.0</td><td>3.0</td><td>3.0</td><td>3.0</td><td>3.0</td><td>3.0</td><td>3.0</td><td>3.0</td><td>3.0</td><td>2.0</td><td>2.0</td><td>1.0</td><td>&hellip;</td><td>0.0</td><td>0.0</td><td>0.0</td><td>0.0</td><td>0.0</td><td>0.0</td><td>0.0</td><td>0.0</td><td>0.0</td><td>0.0</td><td>0.0</td><td>0.0</td><td>0.0</td><td>0.0</td><td>0.0</td><td>0.0</td><td>32.0</td><td>5.0</td><td>2.0</td><td>1.0</td><td>1.0</td><td>1.0</td><td>1.0</td><td>32.0</td><td>1.0</td><td>2.0</td><td>2.0</td><td>5.0</td><td>1.0</td><td>1.0</td><td>13.0</td><td>8.0</td><td>23.0</td><td>8.0</td><td>33.0</td><td>1.0</td><td>4.0</td></tr><tr><td>&quot;max&quot;</td><td>0.0</td><td>0.0</td><td>23507.0</td><td>7751.0</td><td>23378.0</td><td>20141.0</td><td>19020.0</td><td>17849.0</td><td>17487.0</td><td>19950.0</td><td>18891.0</td><td>17781.0</td><td>17436.0</td><td>2169.0</td><td>11623.0</td><td>6837.0</td><td>6487.0</td><td>8218.0</td><td>13551.0</td><td>1241.0</td><td>1530.0</td><td>1791.0</td><td>1871.0</td><td>1954.0</td><td>1200.0</td><td>1478.0</td><td>1437.0</td><td>1811.0</td><td>1723.0</td><td>1617.0</td><td>1545.0</td><td>1393.0</td><td>1293.0</td><td>1193.0</td><td>1139.0</td><td>700.0</td><td>&hellip;</td><td>84.0</td><td>54.0</td><td>11.0</td><td>33.0</td><td>18.0</td><td>240.0</td><td>34.0</td><td>14.0</td><td>40.0</td><td>326.0</td><td>29.0</td><td>66.0</td><td>28.0</td><td>14.0</td><td>18.0</td><td>13.0</td><td>19212.0</td><td>2055.0</td><td>1061.0</td><td>666.0</td><td>407.0</td><td>813.0</td><td>894.0</td><td>19212.0</td><td>508.0</td><td>971.0</td><td>964.0</td><td>1663.0</td><td>402.0</td><td>894.0</td><td>4874.0</td><td>4694.0</td><td>14518.0</td><td>5461.0</td><td>17068.0</td><td>318.0</td><td>1164.0</td></tr></tbody></table></div>"
      ],
      "text/plain": [
       "shape: (9, 586)\n",
       "┌───────────┬──────────┬───────────┬───────────┬───┬───────────┬───────────┬───────────┬───────────┐\n",
       "│ statistic ┆ ECYASQKM ┆ ECYALSQKM ┆ ECYBASPOP ┆ … ┆ ECYTCA_U1 ┆ ECYTCA_18 ┆ ECYNCA_U1 ┆ ECYNCA_18 │\n",
       "│ ---       ┆ ---      ┆ ---       ┆ ---       ┆   ┆ 8         ┆ P         ┆ 8         ┆ P         │\n",
       "│ str       ┆ f64      ┆ f64       ┆ f64       ┆   ┆ ---       ┆ ---       ┆ ---       ┆ ---       │\n",
       "│           ┆          ┆           ┆           ┆   ┆ f64       ┆ f64       ┆ f64       ┆ f64       │\n",
       "╞═══════════╪══════════╪═══════════╪═══════════╪═══╪═══════════╪═══════════╪═══════════╪═══════════╡\n",
       "│ count     ┆ 868970.0 ┆ 868970.0  ┆ 868970.0  ┆ … ┆ 868970.0  ┆ 868970.0  ┆ 868970.0  ┆ 868970.0  │\n",
       "│ null_coun ┆ 0.0      ┆ 0.0       ┆ 0.0       ┆ … ┆ 0.0       ┆ 0.0       ┆ 0.0       ┆ 0.0       │\n",
       "│ t         ┆          ┆           ┆           ┆   ┆           ┆           ┆           ┆           │\n",
       "│ mean      ┆ 0.0      ┆ 0.0       ┆ 46.684199 ┆ … ┆ 7.761493  ┆ 32.767185 ┆ 0.85628   ┆ 4.496803  │\n",
       "│ std       ┆ 0.0      ┆ 0.0       ┆ 174.83787 ┆ … ┆ 34.782061 ┆ 130.44984 ┆ 3.211073  ┆ 15.020402 │\n",
       "│           ┆          ┆           ┆ 7         ┆   ┆           ┆ 8         ┆           ┆           │\n",
       "│ min       ┆ 0.0      ┆ 0.0       ┆ 0.0       ┆ … ┆ 0.0       ┆ 0.0       ┆ 0.0       ┆ 0.0       │\n",
       "│ 25%       ┆ 0.0      ┆ 0.0       ┆ 8.0       ┆ … ┆ 1.0       ┆ 6.0       ┆ 0.0       ┆ 0.0       │\n",
       "│ 50%       ┆ 0.0      ┆ 0.0       ┆ 21.0      ┆ … ┆ 3.0       ┆ 16.0      ┆ 0.0       ┆ 1.0       │\n",
       "│ 75%       ┆ 0.0      ┆ 0.0       ┆ 47.0      ┆ … ┆ 8.0       ┆ 33.0      ┆ 1.0       ┆ 4.0       │\n",
       "│ max       ┆ 0.0      ┆ 0.0       ┆ 23507.0   ┆ … ┆ 5461.0    ┆ 17068.0   ┆ 318.0     ┆ 1164.0    │\n",
       "└───────────┴──────────┴───────────┴───────────┴───┴───────────┴───────────┴───────────┴───────────┘"
      ]
     },
     "metadata": {},
     "output_type": "display_data"
    }
   ],
   "source": [
    "def get_columns_to_drop(metadata_file):\n",
    "    # Read the metadata file\n",
    "    df = pl.read_csv(metadata_file)\n",
    "    \n",
    "    #Initialize lists for variables to drop\n",
    "    non_leaf_variables = []\n",
    "    summary_variables = []\n",
    "    \n",
    "    # process rows in order to identify non-leaf nodes\n",
    "    for i in range(len(df)):\n",
    "        var = df['Variable'][i]\n",
    "        hier_level = df['Hierarchy Level'][i]\n",
    "        \n",
    "\n",
    "        # Check if this is a summary variable (ends with AVG or MED)\n",
    "        if var.endswith('AVG') or var.endswith('MED'):\n",
    "            summary_variables.append(var)\n",
    "            continue\n",
    "        \n",
    "        # Check if the next row exists and is a direct child\n",
    "        if i < len(df) - 1 and df['Hierarchy Level'][i+1] == hier_level + 1:\n",
    "            # This is a parent node (has at least one child)\n",
    "            non_leaf_variables.append(var)\n",
    "    \n",
    "    #  Combine all var to drop\n",
    "    columns_to_drop = list(set(non_leaf_variables +  summary_variables))\n",
    "    \n",
    "    return columns_to_drop\n",
    "\n",
    "\n",
    "ds_columns_to_drop = get_columns_to_drop(\"data\\DemoStats 2024 - Metadata.csv\")\n",
    "hs_columns_to_drop = get_columns_to_drop(\"data\\HouseholdSpend 2024 - Metadata.csv\")\n",
    "\n",
    "# set aside insurance and retirement - this is our target variable\n",
    "\n",
    "dropped_hs_columns = []\n",
    "for col in hs_columns_to_drop:\n",
    "    if col in hs.columns:\n",
    "        hs.drop_in_place(col)\n",
    "        dropped_hs_columns.append(col)\n",
    "print(f\"Dropped columns from hs: {', '.join(dropped_hs_columns)}\")\n",
    "\n",
    "dropped_ds_columns = []\n",
    "for col in ds_columns_to_drop:\n",
    "    if col in ds.columns:\n",
    "        ds.drop_in_place(col)\n",
    "        dropped_ds_columns.append(col)\n",
    "print(f\"Dropped columns from ds: {', '.join(dropped_ds_columns)}\")\n",
    "\n",
    "\n",
    "display(hs.describe())\n",
    "display(ds.describe())"
   ]
  },
  {
   "cell_type": "markdown",
   "metadata": {},
   "source": [
    "## Missing Values and Imputation"
   ]
  },
  {
   "cell_type": "markdown",
   "metadata": {},
   "source": [
    "Let's join the two datasets together so we have a single feature matrix."
   ]
  },
  {
   "cell_type": "code",
   "execution_count": 8,
   "metadata": {},
   "outputs": [
    {
     "data": {
      "text/html": [
       "<div><style>\n",
       ".dataframe > thead > tr,\n",
       ".dataframe > tbody > tr {\n",
       "  text-align: right;\n",
       "  white-space: pre-wrap;\n",
       "}\n",
       "</style>\n",
       "<small>shape: (9, 759)</small><table border=\"1\" class=\"dataframe\"><thead><tr><th>statistic</th><th>HSTX001</th><th>HSSH001S</th><th>HSFD001S</th><th>HSHO001S</th><th>HSHC001S</th><th>HSHF001S</th><th>HSTR001S</th><th>HSRE001S</th><th>HSPC001S</th><th>HSCL001S</th><th>HSED002S</th><th>HSRO001S</th><th>HSTA001S</th><th>HSGC001S</th><th>HSME001S</th><th>HSMG001S</th><th>HSWH002S</th><th>HSWH028S</th><th>HSWH040S</th><th>HSWH041S</th><th>HSSH053</th><th>HSSH054</th><th>HSSH005</th><th>HSSH006</th><th>HSSH007</th><th>HSSH011</th><th>HSSH014</th><th>HSSH013</th><th>HSSH015</th><th>HSSH017</th><th>HSSH018</th><th>HSSH019</th><th>HSSH021</th><th>HSSH020</th><th>HSSH022</th><th>HSRM002A</th><th>&hellip;</th><th>ECYRIMCHIN</th><th>ECYRIMHONG</th><th>ECYRIMJAPA</th><th>ECYRIMSKOR</th><th>ECYRIMEAO</th><th>ECYRIMPHIL</th><th>ECYRIMVIET</th><th>ECYRIMSEAO</th><th>ECYRIMBANG</th><th>ECYRIMINDI</th><th>ECYRIMNEPA</th><th>ECYRIMPAKI</th><th>ECYRIMSRI</th><th>ECYRIMSASO</th><th>ECYRIMAUSS</th><th>ECYRIMOCEO</th><th>ECYPIMNI</th><th>ECYPIMP01</th><th>ECYPIM0110</th><th>ECYPIM1115</th><th>ECYPIM1621</th><th>ECYPIM22CY</th><th>ECYPIMNPER</th><th>ECYAIMNI</th><th>ECYAIM_0_5</th><th>ECYAIM_514</th><th>ECYAIM1524</th><th>ECYAIM2544</th><th>ECYAIM45P</th><th>ECYAIMNPER</th><th>ECYGEN1GEN</th><th>ECYGEN2GEN</th><th>ECYGEN3GEN</th><th>ECYTCA_U18</th><th>ECYTCA_18P</th><th>ECYNCA_U18</th><th>ECYNCA_18P</th></tr><tr><td>str</td><td>f64</td><td>f64</td><td>f64</td><td>f64</td><td>f64</td><td>f64</td><td>f64</td><td>f64</td><td>f64</td><td>f64</td><td>f64</td><td>f64</td><td>f64</td><td>f64</td><td>f64</td><td>f64</td><td>f64</td><td>f64</td><td>f64</td><td>f64</td><td>f64</td><td>f64</td><td>f64</td><td>f64</td><td>f64</td><td>f64</td><td>f64</td><td>f64</td><td>f64</td><td>f64</td><td>f64</td><td>f64</td><td>f64</td><td>f64</td><td>f64</td><td>f64</td><td>&hellip;</td><td>f64</td><td>f64</td><td>f64</td><td>f64</td><td>f64</td><td>f64</td><td>f64</td><td>f64</td><td>f64</td><td>f64</td><td>f64</td><td>f64</td><td>f64</td><td>f64</td><td>f64</td><td>f64</td><td>f64</td><td>f64</td><td>f64</td><td>f64</td><td>f64</td><td>f64</td><td>f64</td><td>f64</td><td>f64</td><td>f64</td><td>f64</td><td>f64</td><td>f64</td><td>f64</td><td>f64</td><td>f64</td><td>f64</td><td>f64</td><td>f64</td><td>f64</td><td>f64</td></tr></thead><tbody><tr><td>&quot;count&quot;</td><td>868970.0</td><td>868970.0</td><td>868970.0</td><td>868970.0</td><td>868970.0</td><td>868970.0</td><td>868970.0</td><td>868970.0</td><td>868970.0</td><td>868970.0</td><td>868970.0</td><td>868970.0</td><td>868970.0</td><td>868970.0</td><td>868970.0</td><td>868970.0</td><td>868970.0</td><td>868970.0</td><td>868970.0</td><td>868970.0</td><td>868970.0</td><td>868970.0</td><td>868970.0</td><td>868970.0</td><td>868970.0</td><td>868970.0</td><td>868970.0</td><td>868970.0</td><td>868970.0</td><td>868970.0</td><td>868970.0</td><td>868970.0</td><td>868970.0</td><td>868970.0</td><td>868970.0</td><td>868970.0</td><td>&hellip;</td><td>868970.0</td><td>868970.0</td><td>868970.0</td><td>868970.0</td><td>868970.0</td><td>868970.0</td><td>868970.0</td><td>868970.0</td><td>868970.0</td><td>868970.0</td><td>868970.0</td><td>868970.0</td><td>868970.0</td><td>868970.0</td><td>868970.0</td><td>868970.0</td><td>868970.0</td><td>868970.0</td><td>868970.0</td><td>868970.0</td><td>868970.0</td><td>868970.0</td><td>868970.0</td><td>868970.0</td><td>868970.0</td><td>868970.0</td><td>868970.0</td><td>868970.0</td><td>868970.0</td><td>868970.0</td><td>868970.0</td><td>868970.0</td><td>868970.0</td><td>868970.0</td><td>868970.0</td><td>868970.0</td><td>868970.0</td></tr><tr><td>&quot;null_count&quot;</td><td>0.0</td><td>0.0</td><td>0.0</td><td>0.0</td><td>0.0</td><td>0.0</td><td>0.0</td><td>0.0</td><td>0.0</td><td>0.0</td><td>0.0</td><td>0.0</td><td>0.0</td><td>0.0</td><td>0.0</td><td>0.0</td><td>0.0</td><td>0.0</td><td>0.0</td><td>0.0</td><td>0.0</td><td>0.0</td><td>0.0</td><td>0.0</td><td>0.0</td><td>0.0</td><td>0.0</td><td>0.0</td><td>0.0</td><td>0.0</td><td>0.0</td><td>0.0</td><td>0.0</td><td>0.0</td><td>0.0</td><td>0.0</td><td>&hellip;</td><td>0.0</td><td>0.0</td><td>0.0</td><td>0.0</td><td>0.0</td><td>0.0</td><td>0.0</td><td>0.0</td><td>0.0</td><td>0.0</td><td>0.0</td><td>0.0</td><td>0.0</td><td>0.0</td><td>0.0</td><td>0.0</td><td>0.0</td><td>0.0</td><td>0.0</td><td>0.0</td><td>0.0</td><td>0.0</td><td>0.0</td><td>0.0</td><td>0.0</td><td>0.0</td><td>0.0</td><td>0.0</td><td>0.0</td><td>0.0</td><td>0.0</td><td>0.0</td><td>0.0</td><td>0.0</td><td>0.0</td><td>0.0</td><td>0.0</td></tr><tr><td>&quot;mean&quot;</td><td>21329.761528</td><td>19451.348892</td><td>14051.852189</td><td>5640.647583</td><td>5453.737856</td><td>3894.12655</td><td>13714.912167</td><td>4475.787785</td><td>2307.920882</td><td>3620.452159</td><td>1831.592429</td><td>180.070429</td><td>3552.323879</td><td>1258.671821</td><td>1687.535929</td><td>2440.703466</td><td>3679.226495</td><td>183.21153</td><td>8340.110651</td><td>767.014484</td><td>3503.827985</td><td>23.360936</td><td>8.074081</td><td>32.17807</td><td>4.934732</td><td>5734.197578</td><td>2039.657603</td><td>224.346864</td><td>450.89118</td><td>688.498413</td><td>42.610658</td><td>57.327097</td><td>22.868613</td><td>19.337479</td><td>154.819705</td><td>36.180773</td><td>&hellip;</td><td>0.115093</td><td>0.022437</td><td>0.004211</td><td>0.020825</td><td>0.005081</td><td>0.090905</td><td>0.023022</td><td>0.010255</td><td>0.016249</td><td>0.477122</td><td>0.005692</td><td>0.038764</td><td>0.008754</td><td>0.00028</td><td>0.005106</td><td>0.002166</td><td>31.717238</td><td>4.721479</td><td>2.368195</td><td>1.391643</td><td>1.640656</td><td>1.635501</td><td>2.407051</td><td>31.717238</td><td>1.066154</td><td>2.036562</td><td>2.230265</td><td>5.299374</td><td>1.125119</td><td>2.407051</td><td>14.168175</td><td>7.448384</td><td>24.265204</td><td>7.761493</td><td>32.767185</td><td>0.85628</td><td>4.496803</td></tr><tr><td>&quot;std&quot;</td><td>34249.337102</td><td>14437.227215</td><td>8735.079763</td><td>4150.74371</td><td>3486.151988</td><td>3706.807942</td><td>9177.026733</td><td>3721.066535</td><td>1627.426249</td><td>2964.140116</td><td>2626.886746</td><td>143.91476</td><td>2806.49432</td><td>896.55783</td><td>1738.505479</td><td>5563.278449</td><td>3268.849224</td><td>363.169609</td><td>20937.345568</td><td>875.526983</td><td>3284.343463</td><td>36.142203</td><td>26.417176</td><td>38.451252</td><td>11.039197</td><td>5211.756831</td><td>2124.710405</td><td>429.364967</td><td>417.349717</td><td>761.746528</td><td>40.965083</td><td>55.488358</td><td>29.495715</td><td>33.196496</td><td>323.674195</td><td>65.65381</td><td>&hellip;</td><td>0.751078</td><td>0.268443</td><td>0.077976</td><td>0.225336</td><td>0.09944</td><td>0.712533</td><td>0.228892</td><td>0.125798</td><td>0.233412</td><td>2.516032</td><td>0.123928</td><td>0.364373</td><td>0.142995</td><td>0.02439</td><td>0.094428</td><td>0.057987</td><td>149.721097</td><td>14.28478</td><td>7.28958</td><td>4.605282</td><td>5.813031</td><td>5.761745</td><td>10.479555</td><td>149.721097</td><td>3.400699</td><td>6.112712</td><td>6.550715</td><td>14.905824</td><td>3.936661</td><td>10.479555</td><td>40.185434</td><td>24.588753</td><td>131.818196</td><td>34.782061</td><td>130.449848</td><td>3.211073</td><td>15.020402</td></tr><tr><td>&quot;min&quot;</td><td>0.0</td><td>0.0</td><td>0.0</td><td>0.0</td><td>0.0</td><td>0.0</td><td>0.0</td><td>0.0</td><td>0.0</td><td>0.0</td><td>0.0</td><td>0.0</td><td>0.0</td><td>0.0</td><td>0.0</td><td>0.0</td><td>0.0</td><td>0.0</td><td>-821073.240312</td><td>-6402.348112</td><td>0.0</td><td>0.0</td><td>0.0</td><td>0.0</td><td>0.0</td><td>0.0</td><td>0.0</td><td>0.0</td><td>0.0</td><td>0.0</td><td>0.0</td><td>0.0</td><td>0.0</td><td>0.0</td><td>0.0</td><td>0.0</td><td>&hellip;</td><td>0.0</td><td>0.0</td><td>0.0</td><td>0.0</td><td>0.0</td><td>0.0</td><td>0.0</td><td>0.0</td><td>0.0</td><td>0.0</td><td>0.0</td><td>0.0</td><td>0.0</td><td>0.0</td><td>0.0</td><td>0.0</td><td>0.0</td><td>0.0</td><td>0.0</td><td>0.0</td><td>0.0</td><td>0.0</td><td>0.0</td><td>0.0</td><td>0.0</td><td>0.0</td><td>0.0</td><td>0.0</td><td>0.0</td><td>0.0</td><td>0.0</td><td>0.0</td><td>0.0</td><td>0.0</td><td>0.0</td><td>0.0</td><td>0.0</td></tr><tr><td>&quot;25%&quot;</td><td>8272.243558</td><td>12655.415474</td><td>10652.687589</td><td>4175.338127</td><td>4131.35436</td><td>2285.338647</td><td>9472.642127</td><td>2736.240782</td><td>1622.154486</td><td>2405.924724</td><td>669.953215</td><td>114.432011</td><td>2262.510282</td><td>707.929534</td><td>1031.779193</td><td>863.763135</td><td>1368.972054</td><td>66.964758</td><td>-1342.756767</td><td>392.621006</td><td>1018.227082</td><td>0.697442</td><td>0.262822</td><td>1.466898</td><td>0.420496</td><td>1979.851196</td><td>803.162301</td><td>33.183931</td><td>200.385121</td><td>252.912423</td><td>16.327042</td><td>19.132909</td><td>4.387385</td><td>3.180641</td><td>14.227029</td><td>8.461287</td><td>&hellip;</td><td>0.0</td><td>0.0</td><td>0.0</td><td>0.0</td><td>0.0</td><td>0.0</td><td>0.0</td><td>0.0</td><td>0.0</td><td>0.0</td><td>0.0</td><td>0.0</td><td>0.0</td><td>0.0</td><td>0.0</td><td>0.0</td><td>6.0</td><td>0.0</td><td>0.0</td><td>0.0</td><td>0.0</td><td>0.0</td><td>0.0</td><td>6.0</td><td>0.0</td><td>0.0</td><td>0.0</td><td>0.0</td><td>0.0</td><td>0.0</td><td>0.0</td><td>0.0</td><td>4.0</td><td>1.0</td><td>6.0</td><td>0.0</td><td>0.0</td></tr><tr><td>&quot;50%&quot;</td><td>15610.903736</td><td>18369.143203</td><td>14157.421684</td><td>5462.094183</td><td>5463.240541</td><td>3520.890143</td><td>13559.25216</td><td>4147.454981</td><td>2236.969766</td><td>3387.950894</td><td>1289.236969</td><td>165.502325</td><td>3350.386084</td><td>1155.836663</td><td>1515.147671</td><td>1733.92237</td><td>3163.885399</td><td>125.759282</td><td>3163.054053</td><td>674.824496</td><td>2619.007433</td><td>5.869349</td><td>2.598953</td><td>19.812133</td><td>1.576386</td><td>5042.410649</td><td>1757.735701</td><td>90.81336</td><td>442.696186</td><td>545.144445</td><td>35.285086</td><td>49.064541</td><td>14.777471</td><td>10.228909</td><td>58.967873</td><td>22.751678</td><td>&hellip;</td><td>0.0</td><td>0.0</td><td>0.0</td><td>0.0</td><td>0.0</td><td>0.0</td><td>0.0</td><td>0.0</td><td>0.0</td><td>0.0</td><td>0.0</td><td>0.0</td><td>0.0</td><td>0.0</td><td>0.0</td><td>0.0</td><td>15.0</td><td>1.0</td><td>0.0</td><td>0.0</td><td>0.0</td><td>0.0</td><td>0.0</td><td>15.0</td><td>0.0</td><td>0.0</td><td>0.0</td><td>1.0</td><td>0.0</td><td>0.0</td><td>3.0</td><td>3.0</td><td>11.0</td><td>3.0</td><td>16.0</td><td>0.0</td><td>1.0</td></tr><tr><td>&quot;75%&quot;</td><td>25721.610617</td><td>25263.28767</td><td>17642.35633</td><td>6890.344213</td><td>6785.958768</td><td>4917.635412</td><td>17680.653551</td><td>5748.992286</td><td>2925.140756</td><td>4536.287478</td><td>2300.070615</td><td>231.29232</td><td>4592.127959</td><td>1726.235089</td><td>2075.518211</td><td>2809.386535</td><td>5163.760766</td><td>197.675522</td><td>13820.106465</td><td>991.037259</td><td>5196.709294</td><td>33.455138</td><td>8.257677</td><td>48.373973</td><td>4.634995</td><td>8317.980422</td><td>2810.96174</td><td>226.345837</td><td>617.921788</td><td>930.506308</td><td>57.592803</td><td>80.353802</td><td>30.693925</td><td>22.758953</td><td>176.533874</td><td>43.865413</td><td>&hellip;</td><td>0.0</td><td>0.0</td><td>0.0</td><td>0.0</td><td>0.0</td><td>0.0</td><td>0.0</td><td>0.0</td><td>0.0</td><td>0.0</td><td>0.0</td><td>0.0</td><td>0.0</td><td>0.0</td><td>0.0</td><td>0.0</td><td>32.0</td><td>5.0</td><td>2.0</td><td>1.0</td><td>1.0</td><td>1.0</td><td>1.0</td><td>32.0</td><td>1.0</td><td>2.0</td><td>2.0</td><td>5.0</td><td>1.0</td><td>1.0</td><td>13.0</td><td>8.0</td><td>23.0</td><td>8.0</td><td>33.0</td><td>1.0</td><td>4.0</td></tr><tr><td>&quot;max&quot;</td><td>3.1264e6</td><td>1.0076e6</td><td>538237.627175</td><td>344355.052512</td><td>197378.71681</td><td>272936.955798</td><td>535182.209863</td><td>247795.220702</td><td>105537.174494</td><td>216990.127662</td><td>249818.77172</td><td>10452.544728</td><td>236228.228001</td><td>74161.998085</td><td>138862.42004</td><td>817688.884688</td><td>103427.199404</td><td>33074.809974</td><td>2.7426e6</td><td>80632.148718</td><td>239407.836089</td><td>1867.077059</td><td>4723.175301</td><td>2018.188124</td><td>567.65581</td><td>431146.427245</td><td>126501.015067</td><td>26581.158561</td><td>28099.258635</td><td>68319.676587</td><td>2649.200838</td><td>3907.01858</td><td>4283.505337</td><td>3760.923512</td><td>38449.444531</td><td>6921.904262</td><td>&hellip;</td><td>84.0</td><td>54.0</td><td>11.0</td><td>33.0</td><td>18.0</td><td>240.0</td><td>34.0</td><td>14.0</td><td>40.0</td><td>326.0</td><td>29.0</td><td>66.0</td><td>28.0</td><td>14.0</td><td>18.0</td><td>13.0</td><td>19212.0</td><td>2055.0</td><td>1061.0</td><td>666.0</td><td>407.0</td><td>813.0</td><td>894.0</td><td>19212.0</td><td>508.0</td><td>971.0</td><td>964.0</td><td>1663.0</td><td>402.0</td><td>894.0</td><td>4874.0</td><td>4694.0</td><td>14518.0</td><td>5461.0</td><td>17068.0</td><td>318.0</td><td>1164.0</td></tr></tbody></table></div>"
      ],
      "text/plain": [
       "shape: (9, 759)\n",
       "┌───────────┬───────────┬───────────┬───────────┬───┬───────────┬───────────┬───────────┬──────────┐\n",
       "│ statistic ┆ HSTX001   ┆ HSSH001S  ┆ HSFD001S  ┆ … ┆ ECYTCA_U1 ┆ ECYTCA_18 ┆ ECYNCA_U1 ┆ ECYNCA_1 │\n",
       "│ ---       ┆ ---       ┆ ---       ┆ ---       ┆   ┆ 8         ┆ P         ┆ 8         ┆ 8P       │\n",
       "│ str       ┆ f64       ┆ f64       ┆ f64       ┆   ┆ ---       ┆ ---       ┆ ---       ┆ ---      │\n",
       "│           ┆           ┆           ┆           ┆   ┆ f64       ┆ f64       ┆ f64       ┆ f64      │\n",
       "╞═══════════╪═══════════╪═══════════╪═══════════╪═══╪═══════════╪═══════════╪═══════════╪══════════╡\n",
       "│ count     ┆ 868970.0  ┆ 868970.0  ┆ 868970.0  ┆ … ┆ 868970.0  ┆ 868970.0  ┆ 868970.0  ┆ 868970.0 │\n",
       "│ null_coun ┆ 0.0       ┆ 0.0       ┆ 0.0       ┆ … ┆ 0.0       ┆ 0.0       ┆ 0.0       ┆ 0.0      │\n",
       "│ t         ┆           ┆           ┆           ┆   ┆           ┆           ┆           ┆          │\n",
       "│ mean      ┆ 21329.761 ┆ 19451.348 ┆ 14051.852 ┆ … ┆ 7.761493  ┆ 32.767185 ┆ 0.85628   ┆ 4.496803 │\n",
       "│           ┆ 528       ┆ 892       ┆ 189       ┆   ┆           ┆           ┆           ┆          │\n",
       "│ std       ┆ 34249.337 ┆ 14437.227 ┆ 8735.0797 ┆ … ┆ 34.782061 ┆ 130.44984 ┆ 3.211073  ┆ 15.02040 │\n",
       "│           ┆ 102       ┆ 215       ┆ 63        ┆   ┆           ┆ 8         ┆           ┆ 2        │\n",
       "│ min       ┆ 0.0       ┆ 0.0       ┆ 0.0       ┆ … ┆ 0.0       ┆ 0.0       ┆ 0.0       ┆ 0.0      │\n",
       "│ 25%       ┆ 8272.2435 ┆ 12655.415 ┆ 10652.687 ┆ … ┆ 1.0       ┆ 6.0       ┆ 0.0       ┆ 0.0      │\n",
       "│           ┆ 58        ┆ 474       ┆ 589       ┆   ┆           ┆           ┆           ┆          │\n",
       "│ 50%       ┆ 15610.903 ┆ 18369.143 ┆ 14157.421 ┆ … ┆ 3.0       ┆ 16.0      ┆ 0.0       ┆ 1.0      │\n",
       "│           ┆ 736       ┆ 203       ┆ 684       ┆   ┆           ┆           ┆           ┆          │\n",
       "│ 75%       ┆ 25721.610 ┆ 25263.287 ┆ 17642.356 ┆ … ┆ 8.0       ┆ 33.0      ┆ 1.0       ┆ 4.0      │\n",
       "│           ┆ 617       ┆ 67        ┆ 33        ┆   ┆           ┆           ┆           ┆          │\n",
       "│ max       ┆ 3.1264e6  ┆ 1.0076e6  ┆ 538237.62 ┆ … ┆ 5461.0    ┆ 17068.0   ┆ 318.0     ┆ 1164.0   │\n",
       "│           ┆           ┆           ┆ 7175      ┆   ┆           ┆           ┆           ┆          │\n",
       "└───────────┴───────────┴───────────┴───────────┴───┴───────────┴───────────┴───────────┴──────────┘"
      ]
     },
     "metadata": {},
     "output_type": "display_data"
    }
   ],
   "source": [
    "data = pl.concat([hs, ds], how=\"horizontal\")\n",
    "display(data.describe())"
   ]
  },
  {
   "cell_type": "markdown",
   "metadata": {},
   "source": [
    "Drop rows where total population is 0 or > 5% of the values are negative/invalid. These represent empty postal codes that will only add noise to our data.\n",
    "Also drop columns where all values are zero or > 5% of the values are negative/invalid."
   ]
  },
  {
   "cell_type": "code",
   "execution_count": 9,
   "metadata": {},
   "outputs": [
    {
     "data": {
      "text/html": [
       "<div><style>\n",
       ".dataframe > thead > tr,\n",
       ".dataframe > tbody > tr {\n",
       "  text-align: right;\n",
       "  white-space: pre-wrap;\n",
       "}\n",
       "</style>\n",
       "<small>shape: (9, 759)</small><table border=\"1\" class=\"dataframe\"><thead><tr><th>statistic</th><th>HSTX001</th><th>HSSH001S</th><th>HSFD001S</th><th>HSHO001S</th><th>HSHC001S</th><th>HSHF001S</th><th>HSTR001S</th><th>HSRE001S</th><th>HSPC001S</th><th>HSCL001S</th><th>HSED002S</th><th>HSRO001S</th><th>HSTA001S</th><th>HSGC001S</th><th>HSME001S</th><th>HSMG001S</th><th>HSWH002S</th><th>HSWH028S</th><th>HSWH040S</th><th>HSWH041S</th><th>HSSH053</th><th>HSSH054</th><th>HSSH005</th><th>HSSH006</th><th>HSSH007</th><th>HSSH011</th><th>HSSH014</th><th>HSSH013</th><th>HSSH015</th><th>HSSH017</th><th>HSSH018</th><th>HSSH019</th><th>HSSH021</th><th>HSSH020</th><th>HSSH022</th><th>HSRM002A</th><th>&hellip;</th><th>ECYRIMCHIN</th><th>ECYRIMHONG</th><th>ECYRIMJAPA</th><th>ECYRIMSKOR</th><th>ECYRIMEAO</th><th>ECYRIMPHIL</th><th>ECYRIMVIET</th><th>ECYRIMSEAO</th><th>ECYRIMBANG</th><th>ECYRIMINDI</th><th>ECYRIMNEPA</th><th>ECYRIMPAKI</th><th>ECYRIMSRI</th><th>ECYRIMSASO</th><th>ECYRIMAUSS</th><th>ECYRIMOCEO</th><th>ECYPIMNI</th><th>ECYPIMP01</th><th>ECYPIM0110</th><th>ECYPIM1115</th><th>ECYPIM1621</th><th>ECYPIM22CY</th><th>ECYPIMNPER</th><th>ECYAIMNI</th><th>ECYAIM_0_5</th><th>ECYAIM_514</th><th>ECYAIM1524</th><th>ECYAIM2544</th><th>ECYAIM45P</th><th>ECYAIMNPER</th><th>ECYGEN1GEN</th><th>ECYGEN2GEN</th><th>ECYGEN3GEN</th><th>ECYTCA_U18</th><th>ECYTCA_18P</th><th>ECYNCA_U18</th><th>ECYNCA_18P</th></tr><tr><td>str</td><td>f64</td><td>f64</td><td>f64</td><td>f64</td><td>f64</td><td>f64</td><td>f64</td><td>f64</td><td>f64</td><td>f64</td><td>f64</td><td>f64</td><td>f64</td><td>f64</td><td>f64</td><td>f64</td><td>f64</td><td>f64</td><td>f64</td><td>f64</td><td>f64</td><td>f64</td><td>f64</td><td>f64</td><td>f64</td><td>f64</td><td>f64</td><td>f64</td><td>f64</td><td>f64</td><td>f64</td><td>f64</td><td>f64</td><td>f64</td><td>f64</td><td>f64</td><td>&hellip;</td><td>f64</td><td>f64</td><td>f64</td><td>f64</td><td>f64</td><td>f64</td><td>f64</td><td>f64</td><td>f64</td><td>f64</td><td>f64</td><td>f64</td><td>f64</td><td>f64</td><td>f64</td><td>f64</td><td>f64</td><td>f64</td><td>f64</td><td>f64</td><td>f64</td><td>f64</td><td>f64</td><td>f64</td><td>f64</td><td>f64</td><td>f64</td><td>f64</td><td>f64</td><td>f64</td><td>f64</td><td>f64</td><td>f64</td><td>f64</td><td>f64</td><td>f64</td><td>f64</td></tr></thead><tbody><tr><td>&quot;count&quot;</td><td>781511.0</td><td>781511.0</td><td>781511.0</td><td>781511.0</td><td>781511.0</td><td>781511.0</td><td>781511.0</td><td>781511.0</td><td>781511.0</td><td>781511.0</td><td>781511.0</td><td>781511.0</td><td>781511.0</td><td>781511.0</td><td>781511.0</td><td>781511.0</td><td>781511.0</td><td>781511.0</td><td>781511.0</td><td>781511.0</td><td>781511.0</td><td>781511.0</td><td>781511.0</td><td>781511.0</td><td>781511.0</td><td>781511.0</td><td>781511.0</td><td>781511.0</td><td>781511.0</td><td>781511.0</td><td>781511.0</td><td>781511.0</td><td>781511.0</td><td>781511.0</td><td>781511.0</td><td>781511.0</td><td>&hellip;</td><td>781511.0</td><td>781511.0</td><td>781511.0</td><td>781511.0</td><td>781511.0</td><td>781511.0</td><td>781511.0</td><td>781511.0</td><td>781511.0</td><td>781511.0</td><td>781511.0</td><td>781511.0</td><td>781511.0</td><td>781511.0</td><td>781511.0</td><td>781511.0</td><td>781511.0</td><td>781511.0</td><td>781511.0</td><td>781511.0</td><td>781511.0</td><td>781511.0</td><td>781511.0</td><td>781511.0</td><td>781511.0</td><td>781511.0</td><td>781511.0</td><td>781511.0</td><td>781511.0</td><td>781511.0</td><td>781511.0</td><td>781511.0</td><td>781511.0</td><td>781511.0</td><td>781511.0</td><td>781511.0</td><td>781511.0</td></tr><tr><td>&quot;null_count&quot;</td><td>0.0</td><td>0.0</td><td>0.0</td><td>0.0</td><td>0.0</td><td>0.0</td><td>0.0</td><td>0.0</td><td>0.0</td><td>0.0</td><td>0.0</td><td>0.0</td><td>0.0</td><td>0.0</td><td>0.0</td><td>0.0</td><td>0.0</td><td>0.0</td><td>0.0</td><td>0.0</td><td>0.0</td><td>0.0</td><td>0.0</td><td>0.0</td><td>0.0</td><td>0.0</td><td>0.0</td><td>0.0</td><td>0.0</td><td>0.0</td><td>0.0</td><td>0.0</td><td>0.0</td><td>0.0</td><td>0.0</td><td>0.0</td><td>&hellip;</td><td>0.0</td><td>0.0</td><td>0.0</td><td>0.0</td><td>0.0</td><td>0.0</td><td>0.0</td><td>0.0</td><td>0.0</td><td>0.0</td><td>0.0</td><td>0.0</td><td>0.0</td><td>0.0</td><td>0.0</td><td>0.0</td><td>0.0</td><td>0.0</td><td>0.0</td><td>0.0</td><td>0.0</td><td>0.0</td><td>0.0</td><td>0.0</td><td>0.0</td><td>0.0</td><td>0.0</td><td>0.0</td><td>0.0</td><td>0.0</td><td>0.0</td><td>0.0</td><td>0.0</td><td>0.0</td><td>0.0</td><td>0.0</td><td>0.0</td></tr><tr><td>&quot;mean&quot;</td><td>23716.777979</td><td>21628.151935</td><td>15624.396837</td><td>6271.893204</td><td>6064.066385</td><td>4329.918771</td><td>15249.749813</td><td>4976.673791</td><td>2566.200615</td><td>4025.617442</td><td>2036.566181</td><td>200.222135</td><td>3949.864917</td><td>1399.529952</td><td>1876.388299</td><td>2713.842916</td><td>4090.969221</td><td>203.714757</td><td>9273.453544</td><td>852.851177</td><td>3895.941841</td><td>25.975261</td><td>8.977653</td><td>35.779122</td><td>5.486978</td><td>6375.912392</td><td>2267.915957</td><td>249.453551</td><td>501.350471</td><td>765.548362</td><td>47.379222</td><td>63.74258</td><td>25.427842</td><td>21.501539</td><td>172.145599</td><td>40.229768</td><td>&hellip;</td><td>0.127973</td><td>0.024948</td><td>0.004682</td><td>0.023155</td><td>0.005649</td><td>0.101079</td><td>0.025598</td><td>0.011402</td><td>0.018068</td><td>0.530517</td><td>0.006329</td><td>0.043102</td><td>0.009734</td><td>0.000311</td><td>0.005677</td><td>0.002408</td><td>35.266718</td><td>5.249861</td><td>2.633219</td><td>1.547382</td><td>1.824262</td><td>1.81853</td><td>2.676424</td><td>35.266718</td><td>1.185468</td><td>2.264474</td><td>2.479854</td><td>5.892428</td><td>1.251032</td><td>2.676424</td><td>15.753737</td><td>8.281933</td><td>26.980726</td><td>8.630083</td><td>36.434165</td><td>0.952107</td><td>5.000041</td></tr><tr><td>&quot;std&quot;</td><td>35322.476515</td><td>13589.668736</td><td>7763.405219</td><td>3898.41362</td><td>3132.451504</td><td>3659.395109</td><td>8380.73619</td><td>3592.093264</td><td>1510.666713</td><td>2852.777939</td><td>2693.572255</td><td>137.820392</td><td>2680.974863</td><td>834.6471</td><td>1733.86223</td><td>5802.795805</td><td>3193.234969</td><td>377.459188</td><td>21880.939129</td><td>882.681155</td><td>3235.185242</td><td>37.209337</td><td>27.710174</td><td>38.924482</td><td>11.509627</td><td>5109.857075</td><td>2121.775199</td><td>445.782966</td><td>410.335941</td><td>765.642896</td><td>40.497009</td><td>54.905236</td><td>30.038027</td><td>34.333695</td><td>336.907528</td><td>68.043464</td><td>&hellip;</td><td>0.790949</td><td>0.282955</td><td>0.08221</td><td>0.237497</td><td>0.104841</td><td>0.750662</td><td>0.241223</td><td>0.132601</td><td>0.24606</td><td>2.647741</td><td>0.130664</td><td>0.383978</td><td>0.150753</td><td>0.025719</td><td>0.099556</td><td>0.061141</td><td>157.479696</td><td>14.970532</td><td>7.641126</td><td>4.831262</td><td>6.102293</td><td>6.048143</td><td>11.017723</td><td>157.479696</td><td>3.566164</td><td>6.405522</td><td>6.862595</td><td>15.606206</td><td>4.13208</td><td>11.017723</td><td>42.078629</td><td>25.794672</td><td>138.734736</td><td>36.574361</td><td>137.069161</td><td>3.372485</td><td>15.758954</td></tr><tr><td>&quot;min&quot;</td><td>0.0</td><td>0.0</td><td>0.0</td><td>0.0</td><td>0.0</td><td>0.0</td><td>0.0</td><td>0.0</td><td>0.0</td><td>0.0</td><td>0.0</td><td>0.0</td><td>0.0</td><td>0.0</td><td>0.0</td><td>0.0</td><td>0.0</td><td>0.0</td><td>-821073.240312</td><td>-6402.348112</td><td>0.0</td><td>0.0</td><td>0.0</td><td>0.0</td><td>0.0</td><td>0.0</td><td>0.0</td><td>0.0</td><td>0.0</td><td>0.0</td><td>0.0</td><td>0.0</td><td>0.0</td><td>0.0</td><td>0.0</td><td>0.0</td><td>&hellip;</td><td>0.0</td><td>0.0</td><td>0.0</td><td>0.0</td><td>0.0</td><td>0.0</td><td>0.0</td><td>0.0</td><td>0.0</td><td>0.0</td><td>0.0</td><td>0.0</td><td>0.0</td><td>0.0</td><td>0.0</td><td>0.0</td><td>0.0</td><td>0.0</td><td>0.0</td><td>0.0</td><td>0.0</td><td>0.0</td><td>0.0</td><td>0.0</td><td>0.0</td><td>0.0</td><td>0.0</td><td>0.0</td><td>0.0</td><td>0.0</td><td>0.0</td><td>0.0</td><td>0.0</td><td>0.0</td><td>0.0</td><td>0.0</td><td>0.0</td></tr><tr><td>&quot;25%&quot;</td><td>10498.595672</td><td>14442.835295</td><td>11815.362034</td><td>4599.260584</td><td>4582.547079</td><td>2678.14736</td><td>10816.930251</td><td>3188.144857</td><td>1818.227831</td><td>2719.19476</td><td>846.466374</td><td>130.370373</td><td>2610.192584</td><td>841.984769</td><td>1183.785599</td><td>1107.230563</td><td>1986.635006</td><td>85.139467</td><td>-2097.88165</td><td>488.512808</td><td>1369.190266</td><td>1.496704</td><td>0.653707</td><td>4.198616</td><td>0.705314</td><td>2947.778185</td><td>1107.49378</td><td>47.332156</td><td>291.320585</td><td>343.995394</td><td>22.427703</td><td>28.9986</td><td>7.327878</td><td>5.120193</td><td>24.263824</td><td>12.930038</td><td>&hellip;</td><td>0.0</td><td>0.0</td><td>0.0</td><td>0.0</td><td>0.0</td><td>0.0</td><td>0.0</td><td>0.0</td><td>0.0</td><td>0.0</td><td>0.0</td><td>0.0</td><td>0.0</td><td>0.0</td><td>0.0</td><td>0.0</td><td>8.0</td><td>0.0</td><td>0.0</td><td>0.0</td><td>0.0</td><td>0.0</td><td>0.0</td><td>8.0</td><td>0.0</td><td>0.0</td><td>0.0</td><td>0.0</td><td>0.0</td><td>0.0</td><td>1.0</td><td>1.0</td><td>6.0</td><td>2.0</td><td>8.0</td><td>0.0</td><td>0.0</td></tr><tr><td>&quot;50%&quot;</td><td>17235.016465</td><td>19582.375755</td><td>14804.825194</td><td>5709.235539</td><td>5707.056476</td><td>3763.53348</td><td>14316.81845</td><td>4423.603708</td><td>2358.290213</td><td>3588.746201</td><td>1443.813025</td><td>176.500259</td><td>3572.369327</td><td>1254.679404</td><td>1612.897131</td><td>1918.089082</td><td>3502.900283</td><td>137.870828</td><td>4914.77265</td><td>728.934757</td><td>3047.070221</td><td>8.981196</td><td>3.37688</td><td>24.378353</td><td>1.928907</td><td>5647.382616</td><td>1949.224702</td><td>108.06905</td><td>477.360776</td><td>607.931777</td><td>39.076064</td><td>54.593906</td><td>17.244342</td><td>12.013737</td><td>73.114026</td><td>25.950957</td><td>&hellip;</td><td>0.0</td><td>0.0</td><td>0.0</td><td>0.0</td><td>0.0</td><td>0.0</td><td>0.0</td><td>0.0</td><td>0.0</td><td>0.0</td><td>0.0</td><td>0.0</td><td>0.0</td><td>0.0</td><td>0.0</td><td>0.0</td><td>18.0</td><td>1.0</td><td>0.0</td><td>0.0</td><td>0.0</td><td>0.0</td><td>0.0</td><td>18.0</td><td>0.0</td><td>0.0</td><td>1.0</td><td>2.0</td><td>0.0</td><td>0.0</td><td>4.0</td><td>3.0</td><td>12.0</td><td>4.0</td><td>18.0</td><td>0.0</td><td>1.0</td></tr><tr><td>&quot;75%&quot;</td><td>27240.41929</td><td>26166.258428</td><td>18077.052441</td><td>7089.160972</td><td>6959.162525</td><td>5111.168398</td><td>18192.557487</td><td>5968.796612</td><td>3016.032446</td><td>4693.872597</td><td>2461.281676</td><td>240.492639</td><td>4753.612022</td><td>1798.77881</td><td>2151.938969</td><td>2970.328409</td><td>5443.644912</td><td>208.326192</td><td>15354.690961</td><td>1034.662008</td><td>5550.419313</td><td>37.94069</td><td>9.24881</td><td>52.690943</td><td>5.283945</td><td>8744.276893</td><td>2947.282358</td><td>254.571574</td><td>639.740573</td><td>987.940772</td><td>60.750192</td><td>84.589699</td><td>33.166144</td><td>24.904155</td><td>200.865239</td><td>47.252261</td><td>&hellip;</td><td>0.0</td><td>0.0</td><td>0.0</td><td>0.0</td><td>0.0</td><td>0.0</td><td>0.0</td><td>0.0</td><td>0.0</td><td>0.0</td><td>0.0</td><td>0.0</td><td>0.0</td><td>0.0</td><td>0.0</td><td>0.0</td><td>35.0</td><td>5.0</td><td>2.0</td><td>1.0</td><td>1.0</td><td>1.0</td><td>1.0</td><td>35.0</td><td>1.0</td><td>2.0</td><td>3.0</td><td>6.0</td><td>1.0</td><td>1.0</td><td>15.0</td><td>9.0</td><td>25.0</td><td>8.0</td><td>37.0</td><td>1.0</td><td>4.0</td></tr><tr><td>&quot;max&quot;</td><td>3.1264e6</td><td>1.0076e6</td><td>538237.627175</td><td>344355.052512</td><td>197378.71681</td><td>272936.955798</td><td>535182.209863</td><td>247795.220702</td><td>105537.174494</td><td>216990.127662</td><td>249818.77172</td><td>10452.544728</td><td>236228.228001</td><td>74161.998085</td><td>138862.42004</td><td>817688.884688</td><td>103427.199404</td><td>33074.809974</td><td>2.7426e6</td><td>80632.148718</td><td>239407.836089</td><td>1867.077059</td><td>4723.175301</td><td>2018.188124</td><td>567.65581</td><td>431146.427245</td><td>126501.015067</td><td>26581.158561</td><td>28099.258635</td><td>68319.676587</td><td>2649.200838</td><td>3907.01858</td><td>4283.505337</td><td>3760.923512</td><td>38449.444531</td><td>6921.904262</td><td>&hellip;</td><td>84.0</td><td>54.0</td><td>11.0</td><td>33.0</td><td>18.0</td><td>240.0</td><td>34.0</td><td>14.0</td><td>40.0</td><td>326.0</td><td>29.0</td><td>66.0</td><td>28.0</td><td>14.0</td><td>18.0</td><td>13.0</td><td>19212.0</td><td>2055.0</td><td>1061.0</td><td>666.0</td><td>407.0</td><td>813.0</td><td>894.0</td><td>19212.0</td><td>508.0</td><td>971.0</td><td>964.0</td><td>1663.0</td><td>402.0</td><td>894.0</td><td>4874.0</td><td>4694.0</td><td>14518.0</td><td>5461.0</td><td>17068.0</td><td>318.0</td><td>1164.0</td></tr></tbody></table></div>"
      ],
      "text/plain": [
       "shape: (9, 759)\n",
       "┌───────────┬───────────┬───────────┬───────────┬───┬───────────┬───────────┬───────────┬──────────┐\n",
       "│ statistic ┆ HSTX001   ┆ HSSH001S  ┆ HSFD001S  ┆ … ┆ ECYTCA_U1 ┆ ECYTCA_18 ┆ ECYNCA_U1 ┆ ECYNCA_1 │\n",
       "│ ---       ┆ ---       ┆ ---       ┆ ---       ┆   ┆ 8         ┆ P         ┆ 8         ┆ 8P       │\n",
       "│ str       ┆ f64       ┆ f64       ┆ f64       ┆   ┆ ---       ┆ ---       ┆ ---       ┆ ---      │\n",
       "│           ┆           ┆           ┆           ┆   ┆ f64       ┆ f64       ┆ f64       ┆ f64      │\n",
       "╞═══════════╪═══════════╪═══════════╪═══════════╪═══╪═══════════╪═══════════╪═══════════╪══════════╡\n",
       "│ count     ┆ 781511.0  ┆ 781511.0  ┆ 781511.0  ┆ … ┆ 781511.0  ┆ 781511.0  ┆ 781511.0  ┆ 781511.0 │\n",
       "│ null_coun ┆ 0.0       ┆ 0.0       ┆ 0.0       ┆ … ┆ 0.0       ┆ 0.0       ┆ 0.0       ┆ 0.0      │\n",
       "│ t         ┆           ┆           ┆           ┆   ┆           ┆           ┆           ┆          │\n",
       "│ mean      ┆ 23716.777 ┆ 21628.151 ┆ 15624.396 ┆ … ┆ 8.630083  ┆ 36.434165 ┆ 0.952107  ┆ 5.000041 │\n",
       "│           ┆ 979       ┆ 935       ┆ 837       ┆   ┆           ┆           ┆           ┆          │\n",
       "│ std       ┆ 35322.476 ┆ 13589.668 ┆ 7763.4052 ┆ … ┆ 36.574361 ┆ 137.06916 ┆ 3.372485  ┆ 15.75895 │\n",
       "│           ┆ 515       ┆ 736       ┆ 19        ┆   ┆           ┆ 1         ┆           ┆ 4        │\n",
       "│ min       ┆ 0.0       ┆ 0.0       ┆ 0.0       ┆ … ┆ 0.0       ┆ 0.0       ┆ 0.0       ┆ 0.0      │\n",
       "│ 25%       ┆ 10498.595 ┆ 14442.835 ┆ 11815.362 ┆ … ┆ 2.0       ┆ 8.0       ┆ 0.0       ┆ 0.0      │\n",
       "│           ┆ 672       ┆ 295       ┆ 034       ┆   ┆           ┆           ┆           ┆          │\n",
       "│ 50%       ┆ 17235.016 ┆ 19582.375 ┆ 14804.825 ┆ … ┆ 4.0       ┆ 18.0      ┆ 0.0       ┆ 1.0      │\n",
       "│           ┆ 465       ┆ 755       ┆ 194       ┆   ┆           ┆           ┆           ┆          │\n",
       "│ 75%       ┆ 27240.419 ┆ 26166.258 ┆ 18077.052 ┆ … ┆ 8.0       ┆ 37.0      ┆ 1.0       ┆ 4.0      │\n",
       "│           ┆ 29        ┆ 428       ┆ 441       ┆   ┆           ┆           ┆           ┆          │\n",
       "│ max       ┆ 3.1264e6  ┆ 1.0076e6  ┆ 538237.62 ┆ … ┆ 5461.0    ┆ 17068.0   ┆ 318.0     ┆ 1164.0   │\n",
       "│           ┆           ┆           ┆ 7175      ┆   ┆           ┆           ┆           ┆          │\n",
       "└───────────┴───────────┴───────────┴───────────┴───┴───────────┴───────────┴───────────┴──────────┘"
      ]
     },
     "metadata": {},
     "output_type": "display_data"
    }
   ],
   "source": [
    "# Drop rows where total population is 0 or has too many invalid values\n",
    "invalid_row_threshold = 0.05  # 5% threshold\n",
    "\n",
    "# filter rows where > 5% of values are invalid\n",
    "data = data.filter(\n",
    "    ~(pl.sum_horizontal(pl.all().lt(0)) / pl.sum_horizontal(pl.all().is_not_null()) > invalid_row_threshold)\n",
    ")\n",
    "\n",
    "# filter out rows where total population is 0\n",
    "data = data.filter(~pl.all_horizontal(pl.all().eq(0)))\n",
    "\n",
    "# filter out columns where > 5% of values are invalid\n",
    "numeric_cols = [s.name for s in data]\n",
    "cols_to_drop = [col for col in numeric_cols if (data[col] < 0).sum() / hs.height > invalid_row_threshold]\n",
    "data.drop(cols_to_drop)\n",
    "\n",
    "# drop all zero columns\n",
    "data.drop(\n",
    "    [col for col in hs.columns if (data[col] == 0).all()]\n",
    ")\n",
    "display(data.describe())"
   ]
  },
  {
   "cell_type": "markdown",
   "metadata": {},
   "source": [
    "Some of the spending variables have negative values which is obviously not valid. We will impute them with the median. We can see from the display() output that some columns' max spending values are in the 9-figure range. This is way outside a typical neighbourhood's spend in any category. We will cap extreme outliers by truncating all values above 3 * IQR for all the columns in the spending dataframe.\n",
    "\n",
    "Finally, we will standardize the data using z-scores."
   ]
  },
  {
   "cell_type": "code",
   "execution_count": null,
   "metadata": {},
   "outputs": [
    {
     "name": "stdout",
     "output_type": "stream",
     "text": [
      "Before fitting NegativeValueImputer:\n",
      "shape: (9, 758)\n",
      "┌───────────┬───────────┬───────────┬───────────┬───┬───────────┬───────────┬───────────┬──────────┐\n",
      "│ statistic ┆ HSTX001   ┆ HSSH001S  ┆ HSFD001S  ┆ … ┆ ECYTCA_U1 ┆ ECYTCA_18 ┆ ECYNCA_U1 ┆ ECYNCA_1 │\n",
      "│ ---       ┆ ---       ┆ ---       ┆ ---       ┆   ┆ 8         ┆ P         ┆ 8         ┆ 8P       │\n",
      "│ str       ┆ f64       ┆ f64       ┆ f64       ┆   ┆ ---       ┆ ---       ┆ ---       ┆ ---      │\n",
      "│           ┆           ┆           ┆           ┆   ┆ f64       ┆ f64       ┆ f64       ┆ f64      │\n",
      "╞═══════════╪═══════════╪═══════════╪═══════════╪═══╪═══════════╪═══════════╪═══════════╪══════════╡\n",
      "│ count     ┆ 781511.0  ┆ 781511.0  ┆ 781511.0  ┆ … ┆ 781511.0  ┆ 781511.0  ┆ 781511.0  ┆ 781511.0 │\n",
      "│ null_coun ┆ 0.0       ┆ 0.0       ┆ 0.0       ┆ … ┆ 0.0       ┆ 0.0       ┆ 0.0       ┆ 0.0      │\n",
      "│ t         ┆           ┆           ┆           ┆   ┆           ┆           ┆           ┆          │\n",
      "│ mean      ┆ 23716.777 ┆ 21628.151 ┆ 15624.396 ┆ … ┆ 8.630083  ┆ 36.434165 ┆ 0.952107  ┆ 5.000041 │\n",
      "│           ┆ 979       ┆ 935       ┆ 837       ┆   ┆           ┆           ┆           ┆          │\n",
      "│ std       ┆ 35322.476 ┆ 13589.668 ┆ 7763.4052 ┆ … ┆ 36.574361 ┆ 137.06916 ┆ 3.372485  ┆ 15.75895 │\n",
      "│           ┆ 515       ┆ 736       ┆ 19        ┆   ┆           ┆ 1         ┆           ┆ 4        │\n",
      "│ min       ┆ 0.0       ┆ 0.0       ┆ 0.0       ┆ … ┆ 0.0       ┆ 0.0       ┆ 0.0       ┆ 0.0      │\n",
      "│ 25%       ┆ 10498.595 ┆ 14442.835 ┆ 11815.362 ┆ … ┆ 2.0       ┆ 8.0       ┆ 0.0       ┆ 0.0      │\n",
      "│           ┆ 672       ┆ 295       ┆ 034       ┆   ┆           ┆           ┆           ┆          │\n",
      "│ 50%       ┆ 17235.016 ┆ 19582.375 ┆ 14804.825 ┆ … ┆ 4.0       ┆ 18.0      ┆ 0.0       ┆ 1.0      │\n",
      "│           ┆ 465       ┆ 755       ┆ 194       ┆   ┆           ┆           ┆           ┆          │\n",
      "│ 75%       ┆ 27240.419 ┆ 26166.258 ┆ 18077.052 ┆ … ┆ 8.0       ┆ 37.0      ┆ 1.0       ┆ 4.0      │\n",
      "│           ┆ 29        ┆ 428       ┆ 441       ┆   ┆           ┆           ┆           ┆          │\n",
      "│ max       ┆ 3.1264e6  ┆ 1.0076e6  ┆ 538237.62 ┆ … ┆ 5461.0    ┆ 17068.0   ┆ 318.0     ┆ 1164.0   │\n",
      "│           ┆           ┆           ┆ 7175      ┆   ┆           ┆           ┆           ┆          │\n",
      "└───────────┴───────────┴───────────┴───────────┴───┴───────────┴───────────┴───────────┴──────────┘\n",
      "After fitting NegativeValueImputer:\n",
      "            HSTX001      HSSH001S       HSFD001S       HSHO001S  \\\n",
      "count  7.815110e+05  7.815110e+05  781511.000000  781511.000000   \n",
      "mean   2.371678e+04  2.162815e+04   15624.396837    6271.893204   \n",
      "std    3.532248e+04  1.358967e+04    7763.405219    3898.413620   \n",
      "min    0.000000e+00  0.000000e+00       0.000000       0.000000   \n",
      "25%    1.049859e+04  1.444282e+04   11815.358644    4599.250965   \n",
      "50%    1.723502e+04  1.958238e+04   14804.825194    5709.235539   \n",
      "75%    2.724041e+04  2.616625e+04   18077.042750    7089.153573   \n",
      "max    3.126368e+06  1.007638e+06  538237.627175  344355.052512   \n",
      "\n",
      "            HSHC001S       HSHF001S       HSTR001S       HSRE001S  \\\n",
      "count  781511.000000  781511.000000  781511.000000  781511.000000   \n",
      "mean     6064.066385    4329.918771   15249.749813    4976.673791   \n",
      "std      3132.451504    3659.395109    8380.736190    3592.093264   \n",
      "min         0.000000       0.000000       0.000000       0.000000   \n",
      "25%      4582.544117    2678.147219   10816.915921    3188.143583   \n",
      "50%      5707.056476    3763.533480   14316.818450    4423.603708   \n",
      "75%      6959.162201    5111.167187   18192.522484    5968.793486   \n",
      "max    197378.716810  272936.955798  535182.209863  247795.220702   \n",
      "\n",
      "            HSPC001S       HSCL001S  ...     ECYAIM2544      ECYAIM45P  \\\n",
      "count  781511.000000  781511.000000  ...  781511.000000  781511.000000   \n",
      "mean     2566.200615    4025.617442  ...       5.892428       1.251032   \n",
      "std      1510.666713    2852.777939  ...      15.606206       4.132080   \n",
      "min         0.000000       0.000000  ...       0.000000       0.000000   \n",
      "25%      1818.223875    2719.187671  ...       0.000000       0.000000   \n",
      "50%      2358.290213    3588.746201  ...       2.000000       0.000000   \n",
      "75%      3016.030856    4693.870503  ...       6.000000       1.000000   \n",
      "max    105537.174494  216990.127662  ...    1663.000000     402.000000   \n",
      "\n",
      "          ECYAIMNPER     ECYGEN1GEN     ECYGEN2GEN     ECYGEN3GEN  \\\n",
      "count  781511.000000  781511.000000  781511.000000  781511.000000   \n",
      "mean        2.676424      15.753737       8.281933      26.980726   \n",
      "std        11.017723      42.078629      25.794672     138.734736   \n",
      "min         0.000000       0.000000       0.000000       0.000000   \n",
      "25%         0.000000       1.000000       1.000000       6.000000   \n",
      "50%         0.000000       4.000000       3.000000      12.000000   \n",
      "75%         1.000000      15.000000       9.000000      25.000000   \n",
      "max       894.000000    4874.000000    4694.000000   14518.000000   \n",
      "\n",
      "          ECYTCA_U18     ECYTCA_18P     ECYNCA_U18     ECYNCA_18P  \n",
      "count  781511.000000  781511.000000  781511.000000  781511.000000  \n",
      "mean        8.630083      36.434165       0.952107       5.000041  \n",
      "std        36.574361     137.069161       3.372485      15.758954  \n",
      "min         0.000000       0.000000       0.000000       0.000000  \n",
      "25%         2.000000       8.000000       0.000000       0.000000  \n",
      "50%         4.000000      18.000000       0.000000       1.000000  \n",
      "75%         8.000000      37.000000       1.000000       4.000000  \n",
      "max      5461.000000   17068.000000     318.000000    1164.000000  \n",
      "\n",
      "[8 rows x 757 columns]\n",
      "Before fitting IQRClippingTransformer:\n",
      "            HSTX001      HSSH001S       HSFD001S       HSHO001S  \\\n",
      "count  7.815110e+05  7.815110e+05  781511.000000  781511.000000   \n",
      "mean   2.371678e+04  2.162815e+04   15624.396837    6271.893204   \n",
      "std    3.532248e+04  1.358967e+04    7763.405219    3898.413620   \n",
      "min    0.000000e+00  0.000000e+00       0.000000       0.000000   \n",
      "25%    1.049859e+04  1.444282e+04   11815.358644    4599.250965   \n",
      "50%    1.723502e+04  1.958238e+04   14804.825194    5709.235539   \n",
      "75%    2.724041e+04  2.616625e+04   18077.042750    7089.153573   \n",
      "max    3.126368e+06  1.007638e+06  538237.627175  344355.052512   \n",
      "\n",
      "            HSHC001S       HSHF001S       HSTR001S       HSRE001S  \\\n",
      "count  781511.000000  781511.000000  781511.000000  781511.000000   \n",
      "mean     6064.066385    4329.918771   15249.749813    4976.673791   \n",
      "std      3132.451504    3659.395109    8380.736190    3592.093264   \n",
      "min         0.000000       0.000000       0.000000       0.000000   \n",
      "25%      4582.544117    2678.147219   10816.915921    3188.143583   \n",
      "50%      5707.056476    3763.533480   14316.818450    4423.603708   \n",
      "75%      6959.162201    5111.167187   18192.522484    5968.793486   \n",
      "max    197378.716810  272936.955798  535182.209863  247795.220702   \n",
      "\n",
      "            HSPC001S       HSCL001S  ...     ECYAIM2544      ECYAIM45P  \\\n",
      "count  781511.000000  781511.000000  ...  781511.000000  781511.000000   \n",
      "mean     2566.200615    4025.617442  ...       5.892428       1.251032   \n",
      "std      1510.666713    2852.777939  ...      15.606206       4.132080   \n",
      "min         0.000000       0.000000  ...       0.000000       0.000000   \n",
      "25%      1818.223875    2719.187671  ...       0.000000       0.000000   \n",
      "50%      2358.290213    3588.746201  ...       2.000000       0.000000   \n",
      "75%      3016.030856    4693.870503  ...       6.000000       1.000000   \n",
      "max    105537.174494  216990.127662  ...    1663.000000     402.000000   \n",
      "\n",
      "          ECYAIMNPER     ECYGEN1GEN     ECYGEN2GEN     ECYGEN3GEN  \\\n",
      "count  781511.000000  781511.000000  781511.000000  781511.000000   \n",
      "mean        2.676424      15.753737       8.281933      26.980726   \n",
      "std        11.017723      42.078629      25.794672     138.734736   \n",
      "min         0.000000       0.000000       0.000000       0.000000   \n",
      "25%         0.000000       1.000000       1.000000       6.000000   \n",
      "50%         0.000000       4.000000       3.000000      12.000000   \n",
      "75%         1.000000      15.000000       9.000000      25.000000   \n",
      "max       894.000000    4874.000000    4694.000000   14518.000000   \n",
      "\n",
      "          ECYTCA_U18     ECYTCA_18P     ECYNCA_U18     ECYNCA_18P  \n",
      "count  781511.000000  781511.000000  781511.000000  781511.000000  \n",
      "mean        8.630083      36.434165       0.952107       5.000041  \n",
      "std        36.574361     137.069161       3.372485      15.758954  \n",
      "min         0.000000       0.000000       0.000000       0.000000  \n",
      "25%         2.000000       8.000000       0.000000       0.000000  \n",
      "50%         4.000000      18.000000       0.000000       1.000000  \n",
      "75%         8.000000      37.000000       1.000000       4.000000  \n",
      "max      5461.000000   17068.000000     318.000000    1164.000000  \n",
      "\n",
      "[8 rows x 757 columns]\n",
      "After fitting IQRClippingTransformer:\n",
      "                 0              1              2              3    \\\n",
      "count  781511.000000  781511.000000  781511.000000  781511.000000   \n",
      "mean    21554.950727   21219.430410   15371.006186    6095.988103   \n",
      "std     16368.854614    9783.746276    5360.502196    2278.141066   \n",
      "min         0.000000       0.000000       0.000000       0.000000   \n",
      "25%     10498.591215   14442.821409   11815.358644    4599.250965   \n",
      "50%     17235.016465   19582.375755   14804.825194    5709.235539   \n",
      "75%     27240.409688   26166.254397   18077.042750    7089.153573   \n",
      "max     77465.890143   61336.527826   36862.123662   14558.862139   \n",
      "\n",
      "                 4              5              6              7    \\\n",
      "count  781511.000000  781511.000000  781511.000000  781511.000000   \n",
      "mean     5951.029518    4167.070232   15006.301131    4845.232376   \n",
      "std      2111.661831    2181.195379    6103.628729    2419.469919   \n",
      "min         0.000000       0.000000       0.000000       0.000000   \n",
      "25%      4582.544117    2678.147219   10816.915921    3188.143583   \n",
      "50%      5707.056476    3763.533480   14316.818450    4423.603708   \n",
      "75%      6959.162201    5111.167187   18192.522484    5968.793486   \n",
      "max     14089.008863   12410.231513   40319.439194   14310.751877   \n",
      "\n",
      "                 8              9    ...            747            748  \\\n",
      "count  781511.000000  781511.000000  ...  781511.000000  781511.000000   \n",
      "mean     2514.665446    3908.088864  ...       4.482399       0.750224   \n",
      "std      1020.653680    1773.193556  ...       6.695845       1.322619   \n",
      "min         0.000000       0.000000  ...       0.000000       0.000000   \n",
      "25%      1818.223875    2719.187671  ...       0.000000       0.000000   \n",
      "50%      2358.290213    3588.746201  ...       2.000000       0.000000   \n",
      "75%      3016.030856    4693.870503  ...       6.000000       1.000000   \n",
      "max      6609.446288   10617.906105  ...      24.000000       4.000000   \n",
      "\n",
      "                 749            750            751            752  \\\n",
      "count  781511.000000  781511.000000  781511.000000  781511.000000   \n",
      "mean        0.916052      11.656934       6.810334      19.325312   \n",
      "std         1.493942      16.308640       8.712763      19.720076   \n",
      "min         0.000000       0.000000       0.000000       0.000000   \n",
      "25%         0.000000       1.000000       1.000000       6.000000   \n",
      "50%         0.000000       4.000000       3.000000      12.000000   \n",
      "75%         1.000000      15.000000       9.000000      25.000000   \n",
      "max         4.000000      57.000000      33.000000      82.000000   \n",
      "\n",
      "                 753            754            755            756  \n",
      "count  781511.000000  781511.000000  781511.000000  781511.000000  \n",
      "mean        6.446384      28.622096       0.625980       3.247890  \n",
      "std         6.994410      29.160131       1.167893       4.795323  \n",
      "min         0.000000       0.000000       0.000000       0.000000  \n",
      "25%         2.000000       8.000000       0.000000       0.000000  \n",
      "50%         4.000000      18.000000       0.000000       1.000000  \n",
      "75%         8.000000      37.000000       1.000000       4.000000  \n",
      "max        26.000000     124.000000       4.000000      16.000000  \n",
      "\n",
      "[8 rows x 757 columns]\n",
      "Before fitting StandardScaler:\n",
      "                 0              1              2              3    \\\n",
      "count  781511.000000  781511.000000  781511.000000  781511.000000   \n",
      "mean    21554.950727   21219.430410   15371.006186    6095.988103   \n",
      "std     16368.854614    9783.746276    5360.502196    2278.141066   \n",
      "min         0.000000       0.000000       0.000000       0.000000   \n",
      "25%     10498.591215   14442.821409   11815.358644    4599.250965   \n",
      "50%     17235.016465   19582.375755   14804.825194    5709.235539   \n",
      "75%     27240.409688   26166.254397   18077.042750    7089.153573   \n",
      "max     77465.890143   61336.527826   36862.123662   14558.862139   \n",
      "\n",
      "                 4              5              6              7    \\\n",
      "count  781511.000000  781511.000000  781511.000000  781511.000000   \n",
      "mean     5951.029518    4167.070232   15006.301131    4845.232376   \n",
      "std      2111.661831    2181.195379    6103.628729    2419.469919   \n",
      "min         0.000000       0.000000       0.000000       0.000000   \n",
      "25%      4582.544117    2678.147219   10816.915921    3188.143583   \n",
      "50%      5707.056476    3763.533480   14316.818450    4423.603708   \n",
      "75%      6959.162201    5111.167187   18192.522484    5968.793486   \n",
      "max     14089.008863   12410.231513   40319.439194   14310.751877   \n",
      "\n",
      "                 8              9    ...            747            748  \\\n",
      "count  781511.000000  781511.000000  ...  781511.000000  781511.000000   \n",
      "mean     2514.665446    3908.088864  ...       4.482399       0.750224   \n",
      "std      1020.653680    1773.193556  ...       6.695845       1.322619   \n",
      "min         0.000000       0.000000  ...       0.000000       0.000000   \n",
      "25%      1818.223875    2719.187671  ...       0.000000       0.000000   \n",
      "50%      2358.290213    3588.746201  ...       2.000000       0.000000   \n",
      "75%      3016.030856    4693.870503  ...       6.000000       1.000000   \n",
      "max      6609.446288   10617.906105  ...      24.000000       4.000000   \n",
      "\n",
      "                 749            750            751            752  \\\n",
      "count  781511.000000  781511.000000  781511.000000  781511.000000   \n",
      "mean        0.916052      11.656934       6.810334      19.325312   \n",
      "std         1.493942      16.308640       8.712763      19.720076   \n",
      "min         0.000000       0.000000       0.000000       0.000000   \n",
      "25%         0.000000       1.000000       1.000000       6.000000   \n",
      "50%         0.000000       4.000000       3.000000      12.000000   \n",
      "75%         1.000000      15.000000       9.000000      25.000000   \n",
      "max         4.000000      57.000000      33.000000      82.000000   \n",
      "\n",
      "                 753            754            755            756  \n",
      "count  781511.000000  781511.000000  781511.000000  781511.000000  \n",
      "mean        6.446384      28.622096       0.625980       3.247890  \n",
      "std         6.994410      29.160131       1.167893       4.795323  \n",
      "min         0.000000       0.000000       0.000000       0.000000  \n",
      "25%         2.000000       8.000000       0.000000       0.000000  \n",
      "50%         4.000000      18.000000       0.000000       1.000000  \n",
      "75%         8.000000      37.000000       1.000000       4.000000  \n",
      "max        26.000000     124.000000       4.000000      16.000000  \n",
      "\n",
      "[8 rows x 757 columns]\n"
     ]
    },
    {
     "ename": "AssertionError",
     "evalue": "StandardScaler failed: Standard deviation is not approximately 1.",
     "output_type": "error",
     "traceback": [
      "\u001b[1;31m---------------------------------------------------------------------------\u001b[0m",
      "\u001b[1;31mAssertionError\u001b[0m                            Traceback (most recent call last)",
      "Cell \u001b[1;32mIn[10], line 103\u001b[0m\n\u001b[0;32m    101\u001b[0m X_scaled \u001b[38;5;241m=\u001b[39m scaler\u001b[38;5;241m.\u001b[39mfit_transform(X_clipped)\n\u001b[0;32m    102\u001b[0m \u001b[38;5;28;01massert\u001b[39;00m np\u001b[38;5;241m.\u001b[39misclose(X_scaled\u001b[38;5;241m.\u001b[39mmean(), \u001b[38;5;241m0\u001b[39m, atol\u001b[38;5;241m=\u001b[39m\u001b[38;5;241m1e-1\u001b[39m)\u001b[38;5;241m.\u001b[39mall(), \u001b[38;5;124m\"\u001b[39m\u001b[38;5;124mStandardScaler failed: Mean is not approximately 0.\u001b[39m\u001b[38;5;124m\"\u001b[39m\n\u001b[1;32m--> 103\u001b[0m \u001b[38;5;28;01massert\u001b[39;00m np\u001b[38;5;241m.\u001b[39misclose(X_scaled\u001b[38;5;241m.\u001b[39mstd(), \u001b[38;5;241m1\u001b[39m, atol\u001b[38;5;241m=\u001b[39m\u001b[38;5;241m1e-1\u001b[39m)\u001b[38;5;241m.\u001b[39mall(), \u001b[38;5;124m\"\u001b[39m\u001b[38;5;124mStandardScaler failed: Standard deviation is not approximately 1.\u001b[39m\u001b[38;5;124m\"\u001b[39m\n\u001b[0;32m    104\u001b[0m \u001b[38;5;28mprint\u001b[39m(\u001b[38;5;124m\"\u001b[39m\u001b[38;5;124mAfter fitting StandardScaler:\u001b[39m\u001b[38;5;124m\"\u001b[39m)\n\u001b[0;32m    105\u001b[0m \u001b[38;5;28mprint\u001b[39m(pd\u001b[38;5;241m.\u001b[39mDataFrame(X_scaled)\u001b[38;5;241m.\u001b[39mdescribe())\n",
      "\u001b[1;31mAssertionError\u001b[0m: StandardScaler failed: Standard deviation is not approximately 1."
     ]
    }
   ],
   "source": [
    "class NegativeValueImputer(BaseEstimator, TransformerMixin):\n",
    "    def __init__(self):\n",
    "        self.medians = None\n",
    "        \n",
    "    def fit(self, X, y=None):\n",
    "        # X can be a DataFrame or np  array\n",
    "        if isinstance(X, pd.DataFrame):\n",
    "            self.medians = {}\n",
    "            for col in X.columns:\n",
    "                # Calculate median of non-negative values\n",
    "                non_negative_values = X.loc[X[col] >= 0, col]\n",
    "                self.medians[col] = non_negative_values.median() if len(non_negative_values) > 0 else 0\n",
    "        else:\n",
    "            self.medians = []\n",
    "            for i in range(X.shape[1]):\n",
    "                non_negative_values = X[:, i][X[:, i] >= 0]\n",
    "                self.medians.append(np.median(non_negative_values) if len(non_negative_values) > 0 else 0)\n",
    "                \n",
    "        return self\n",
    "    \n",
    "    def transform(self, X):\n",
    "        X_copy = X.copy()\n",
    "        \n",
    "        if isinstance(X_copy, pd.DataFrame):\n",
    "            for col in X_copy.columns:\n",
    "                mask = X_copy[col] < 0\n",
    "                X_copy.loc[mask, col] = self.medians[col]\n",
    "        else:  # numpy array\n",
    "            for i in range(X_copy.shape[1]):\n",
    "                mask = X_copy[:, i] < 0\n",
    "                X_copy[mask, i] = self.medians[i]\n",
    "                \n",
    "\n",
    "        return X_copy\n",
    "\n",
    "class IQRClippingTransformer(BaseEstimator, TransformerMixin):\n",
    "    def __init__(self, multiplier= 3):\n",
    "        self.multiplier = multiplier\n",
    "        self.upper_bounds_ = {  }   \n",
    "\n",
    "\n",
    "    def fit(self, X, y=None):\n",
    "        df = pl.DataFrame(X)\n",
    "          \n",
    "        for col in df.columns:\n",
    "            q1 = df[col].quantile(.25)\n",
    "            q3 = df[col].quantile(0.75)\n",
    "            iqr = q3 - q1\n",
    "            self.upper_bounds_[col] = q3 + self.multiplier * iqr\n",
    "        \n",
    "        return self\n",
    "    \n",
    "    def transform(self, X):\n",
    "        df = pl.DataFrame(X)    \n",
    "         \n",
    "        for col in df.columns:  \n",
    "            if col in self.upper_bounds_:\n",
    "                upper_bound = self.upper_bounds_[ col]\n",
    "                df = df.with_columns(\n",
    "                     pl.when(pl.col(col) > upper_bound)\n",
    "                    .then(upper_bound)\n",
    "                    .otherwise(pl.col(col)) \n",
    "                    .alias(col) )\n",
    "        \n",
    "        return  df.to_numpy()"
   ]
  },
  {
   "cell_type": "code",
   "execution_count": 11,
   "metadata": {},
   "outputs": [
    {
     "data": {
      "text/html": [
       "<div><style>\n",
       ".dataframe > thead > tr,\n",
       ".dataframe > tbody > tr {\n",
       "  text-align: right;\n",
       "  white-space: pre-wrap;\n",
       "}\n",
       "</style>\n",
       "<small>shape: (9, 758)</small><table border=\"1\" class=\"dataframe\"><thead><tr><th>statistic</th><th>HSTX001</th><th>HSSH001S</th><th>HSFD001S</th><th>HSHO001S</th><th>HSHC001S</th><th>HSHF001S</th><th>HSTR001S</th><th>HSRE001S</th><th>HSPC001S</th><th>HSCL001S</th><th>HSED002S</th><th>HSRO001S</th><th>HSTA001S</th><th>HSGC001S</th><th>HSME001S</th><th>HSMG001S</th><th>HSWH002S</th><th>HSWH028S</th><th>HSWH040S</th><th>HSWH041S</th><th>HSSH053</th><th>HSSH054</th><th>HSSH005</th><th>HSSH006</th><th>HSSH007</th><th>HSSH011</th><th>HSSH014</th><th>HSSH013</th><th>HSSH015</th><th>HSSH017</th><th>HSSH018</th><th>HSSH019</th><th>HSSH021</th><th>HSSH020</th><th>HSSH022</th><th>HSRM002A</th><th>&hellip;</th><th>ECYRIMCHIN</th><th>ECYRIMHONG</th><th>ECYRIMJAPA</th><th>ECYRIMSKOR</th><th>ECYRIMEAO</th><th>ECYRIMPHIL</th><th>ECYRIMVIET</th><th>ECYRIMSEAO</th><th>ECYRIMBANG</th><th>ECYRIMINDI</th><th>ECYRIMNEPA</th><th>ECYRIMPAKI</th><th>ECYRIMSRI</th><th>ECYRIMSASO</th><th>ECYRIMAUSS</th><th>ECYRIMOCEO</th><th>ECYPIMNI</th><th>ECYPIMP01</th><th>ECYPIM0110</th><th>ECYPIM1115</th><th>ECYPIM1621</th><th>ECYPIM22CY</th><th>ECYPIMNPER</th><th>ECYAIMNI</th><th>ECYAIM_0_5</th><th>ECYAIM_514</th><th>ECYAIM1524</th><th>ECYAIM2544</th><th>ECYAIM45P</th><th>ECYAIMNPER</th><th>ECYGEN1GEN</th><th>ECYGEN2GEN</th><th>ECYGEN3GEN</th><th>ECYTCA_U18</th><th>ECYTCA_18P</th><th>ECYNCA_U18</th><th>ECYNCA_18P</th></tr><tr><td>str</td><td>f64</td><td>f64</td><td>f64</td><td>f64</td><td>f64</td><td>f64</td><td>f64</td><td>f64</td><td>f64</td><td>f64</td><td>f64</td><td>f64</td><td>f64</td><td>f64</td><td>f64</td><td>f64</td><td>f64</td><td>f64</td><td>f64</td><td>f64</td><td>f64</td><td>f64</td><td>f64</td><td>f64</td><td>f64</td><td>f64</td><td>f64</td><td>f64</td><td>f64</td><td>f64</td><td>f64</td><td>f64</td><td>f64</td><td>f64</td><td>f64</td><td>f64</td><td>&hellip;</td><td>f64</td><td>f64</td><td>f64</td><td>f64</td><td>f64</td><td>f64</td><td>f64</td><td>f64</td><td>f64</td><td>f64</td><td>f64</td><td>f64</td><td>f64</td><td>f64</td><td>f64</td><td>f64</td><td>f64</td><td>f64</td><td>f64</td><td>f64</td><td>f64</td><td>f64</td><td>f64</td><td>f64</td><td>f64</td><td>f64</td><td>f64</td><td>f64</td><td>f64</td><td>f64</td><td>f64</td><td>f64</td><td>f64</td><td>f64</td><td>f64</td><td>f64</td><td>f64</td></tr></thead><tbody><tr><td>&quot;count&quot;</td><td>781511.0</td><td>781511.0</td><td>781511.0</td><td>781511.0</td><td>781511.0</td><td>781511.0</td><td>781511.0</td><td>781511.0</td><td>781511.0</td><td>781511.0</td><td>781511.0</td><td>781511.0</td><td>781511.0</td><td>781511.0</td><td>781511.0</td><td>781511.0</td><td>781511.0</td><td>781511.0</td><td>781511.0</td><td>781511.0</td><td>781511.0</td><td>781511.0</td><td>781511.0</td><td>781511.0</td><td>781511.0</td><td>781511.0</td><td>781511.0</td><td>781511.0</td><td>781511.0</td><td>781511.0</td><td>781511.0</td><td>781511.0</td><td>781511.0</td><td>781511.0</td><td>781511.0</td><td>781511.0</td><td>&hellip;</td><td>781511.0</td><td>781511.0</td><td>781511.0</td><td>781511.0</td><td>781511.0</td><td>781511.0</td><td>781511.0</td><td>781511.0</td><td>781511.0</td><td>781511.0</td><td>781511.0</td><td>781511.0</td><td>781511.0</td><td>781511.0</td><td>781511.0</td><td>781511.0</td><td>781511.0</td><td>781511.0</td><td>781511.0</td><td>781511.0</td><td>781511.0</td><td>781511.0</td><td>781511.0</td><td>781511.0</td><td>781511.0</td><td>781511.0</td><td>781511.0</td><td>781511.0</td><td>781511.0</td><td>781511.0</td><td>781511.0</td><td>781511.0</td><td>781511.0</td><td>781511.0</td><td>781511.0</td><td>781511.0</td><td>781511.0</td></tr><tr><td>&quot;null_count&quot;</td><td>0.0</td><td>0.0</td><td>0.0</td><td>0.0</td><td>0.0</td><td>0.0</td><td>0.0</td><td>0.0</td><td>0.0</td><td>0.0</td><td>0.0</td><td>0.0</td><td>0.0</td><td>0.0</td><td>0.0</td><td>0.0</td><td>0.0</td><td>0.0</td><td>0.0</td><td>0.0</td><td>0.0</td><td>0.0</td><td>0.0</td><td>0.0</td><td>0.0</td><td>0.0</td><td>0.0</td><td>0.0</td><td>0.0</td><td>0.0</td><td>0.0</td><td>0.0</td><td>0.0</td><td>0.0</td><td>0.0</td><td>0.0</td><td>&hellip;</td><td>0.0</td><td>0.0</td><td>0.0</td><td>0.0</td><td>0.0</td><td>0.0</td><td>0.0</td><td>0.0</td><td>0.0</td><td>0.0</td><td>0.0</td><td>0.0</td><td>0.0</td><td>0.0</td><td>0.0</td><td>0.0</td><td>0.0</td><td>0.0</td><td>0.0</td><td>0.0</td><td>0.0</td><td>0.0</td><td>0.0</td><td>0.0</td><td>0.0</td><td>0.0</td><td>0.0</td><td>0.0</td><td>0.0</td><td>0.0</td><td>0.0</td><td>0.0</td><td>0.0</td><td>0.0</td><td>0.0</td><td>0.0</td><td>0.0</td></tr><tr><td>&quot;mean&quot;</td><td>-1.8349e-16</td><td>-6.2607e-16</td><td>7.8823e-16</td><td>-8.8348e-16</td><td>-1.3151e-15</td><td>-1.0947e-17</td><td>-3.6429e-16</td><td>-2.1915e-16</td><td>6.5338e-16</td><td>7.7154e-16</td><td>6.0534e-17</td><td>7.4539e-16</td><td>-3.9790e-16</td><td>-1.0128e-16</td><td>-6.9953e-16</td><td>-1.2278e-16</td><td>-1.0738e-16</td><td>-5.4481e-16</td><td>1.9517e-16</td><td>-1.3947e-16</td><td>6.4734e-17</td><td>-1.1767e-16</td><td>-8.4600e-17</td><td>1.6702e-16</td><td>-1.1843e-16</td><td>8.8642e-16</td><td>5.1257e-16</td><td>4.8914e-17</td><td>-2.2826e-16</td><td>-4.0484e-16</td><td>-4.0870e-16</td><td>-1.6740e-16</td><td>1.3078e-16</td><td>-9.6229e-17</td><td>-3.6795e-17</td><td>1.6911e-17</td><td>&hellip;</td><td>0.0</td><td>0.0</td><td>0.0</td><td>0.0</td><td>0.0</td><td>0.0</td><td>0.0</td><td>0.0</td><td>0.0</td><td>0.0</td><td>0.0</td><td>0.0</td><td>0.0</td><td>0.0</td><td>0.0</td><td>0.0</td><td>7.2226e-17</td><td>3.4904e-17</td><td>-6.8671e-17</td><td>1.2478e-16</td><td>4.4987e-17</td><td>1.5009e-16</td><td>4.1814e-17</td><td>7.2226e-17</td><td>1.4241e-16</td><td>-3.3013e-17</td><td>-8.9646e-18</td><td>-3.4377e-17</td><td>-1.7691e-16</td><td>4.1814e-17</td><td>-6.1207e-17</td><td>-3.3549e-18</td><td>7.0008e-18</td><td>2.5112e-17</td><td>-8.4591e-17</td><td>4.0550e-18</td><td>-4.1250e-17</td></tr><tr><td>&quot;std&quot;</td><td>1.000001</td><td>1.000001</td><td>1.000001</td><td>1.000001</td><td>1.000001</td><td>1.000001</td><td>1.000001</td><td>1.000001</td><td>1.000001</td><td>1.000001</td><td>1.000001</td><td>1.000001</td><td>1.000001</td><td>1.000001</td><td>1.000001</td><td>1.000001</td><td>1.000001</td><td>1.000001</td><td>1.000001</td><td>1.000001</td><td>1.000001</td><td>1.000001</td><td>1.000001</td><td>1.000001</td><td>1.000001</td><td>1.000001</td><td>1.000001</td><td>1.000001</td><td>1.000001</td><td>1.000001</td><td>1.000001</td><td>1.000001</td><td>1.000001</td><td>1.000001</td><td>1.000001</td><td>1.000001</td><td>&hellip;</td><td>0.0</td><td>0.0</td><td>0.0</td><td>0.0</td><td>0.0</td><td>0.0</td><td>0.0</td><td>0.0</td><td>0.0</td><td>0.0</td><td>0.0</td><td>0.0</td><td>0.0</td><td>0.0</td><td>0.0</td><td>0.0</td><td>1.000001</td><td>1.000001</td><td>1.000001</td><td>1.000001</td><td>1.000001</td><td>1.000001</td><td>1.000001</td><td>1.000001</td><td>1.000001</td><td>1.000001</td><td>1.000001</td><td>1.000001</td><td>1.000001</td><td>1.000001</td><td>1.000001</td><td>1.000001</td><td>1.000001</td><td>1.000001</td><td>1.000001</td><td>1.000001</td><td>1.000001</td></tr><tr><td>&quot;min&quot;</td><td>-1.316828</td><td>-2.168847</td><td>-2.867458</td><td>-2.675862</td><td>-2.818175</td><td>-1.910454</td><td>-2.458588</td><td>-2.002602</td><td>-2.463781</td><td>-2.203985</td><td>-1.241381</td><td>-2.05306</td><td>-2.10579</td><td>-1.872657</td><td>-1.978248</td><td>-1.305182</td><td>-1.371866</td><td>-1.306016</td><td>-1.366635</td><td>-1.695644</td><td>-1.239219</td><td>-0.747991</td><td>-0.769673</td><td>-0.942896</td><td>-0.791453</td><td>-1.400408</td><td>-1.41785</td><td>-0.860757</td><td>-1.65337</td><td>-1.306939</td><td>-1.325703</td><td>-1.32756</td><td>-1.014225</td><td>-0.930242</td><td>-0.810018</td><td>-1.055725</td><td>&hellip;</td><td>0.0</td><td>0.0</td><td>0.0</td><td>0.0</td><td>0.0</td><td>0.0</td><td>0.0</td><td>0.0</td><td>0.0</td><td>0.0</td><td>0.0</td><td>0.0</td><td>0.0</td><td>0.0</td><td>0.0</td><td>0.0</td><td>-1.000403</td><td>-0.699706</td><td>-0.641108</td><td>-0.602974</td><td>-0.658345</td><td>-0.690702</td><td>-0.613178</td><td>-1.000403</td><td>-0.640055</td><td>-0.682589</td><td>-0.627615</td><td>-0.66943</td><td>-0.567226</td><td>-0.613178</td><td>-0.714771</td><td>-0.781651</td><td>-0.979982</td><td>-0.921649</td><td>-0.98155</td><td>-0.535991</td><td>-0.677304</td></tr><tr><td>&quot;25%&quot;</td><td>-0.675451</td><td>-0.692639</td><td>-0.663305</td><td>-0.656996</td><td>-0.64806</td><td>-0.682618</td><td>-0.686374</td><td>-0.684897</td><td>-0.682345</td><td>-0.670482</td><td>-0.689643</td><td>-0.685687</td><td>-0.683362</td><td>-0.738198</td><td>-0.667411</td><td>-0.69685</td><td>-0.698974</td><td>-0.659953</td><td>-0.580336</td><td>-0.65748</td><td>-0.802346</td><td>-0.703797</td><td>-0.697278</td><td>-0.831686</td><td>-0.659849</td><td>-0.746753</td><td>-0.705134</td><td>-0.66135</td><td>-0.668527</td><td>-0.701901</td><td>-0.686015</td><td>-0.714028</td><td>-0.709569</td><td>-0.68324</td><td>-0.679925</td><td>-0.678457</td><td>&hellip;</td><td>0.0</td><td>0.0</td><td>0.0</td><td>0.0</td><td>0.0</td><td>0.0</td><td>0.0</td><td>0.0</td><td>0.0</td><td>0.0</td><td>0.0</td><td>0.0</td><td>0.0</td><td>0.0</td><td>0.0</td><td>0.0</td><td>-0.701587</td><td>-0.699706</td><td>-0.641108</td><td>-0.602974</td><td>-0.658345</td><td>-0.690702</td><td>-0.613178</td><td>-0.701587</td><td>-0.640055</td><td>-0.682589</td><td>-0.627615</td><td>-0.66943</td><td>-0.567226</td><td>-0.613178</td><td>-0.653454</td><td>-0.666877</td><td>-0.675724</td><td>-0.635706</td><td>-0.707202</td><td>-0.535991</td><td>-0.677304</td></tr><tr><td>&quot;50%&quot;</td><td>-0.263912</td><td>-0.167324</td><td>-0.105621</td><td>-0.169767</td><td>-0.115536</td><td>-0.185007</td><td>-0.112963</td><td>-0.174265</td><td>-0.153211</td><td>-0.180095</td><td>-0.300285</td><td>-0.20186</td><td>-0.159022</td><td>-0.182148</td><td>-0.192245</td><td>-0.25135</td><td>-0.1854</td><td>-0.259813</td><td>-0.224511</td><td>-0.188171</td><td>-0.266977</td><td>-0.482799</td><td>-0.3957</td><td>-0.297179</td><td>-0.431538</td><td>-0.148129</td><td>-0.163446</td><td>-0.405469</td><td>-0.039597</td><td>-0.237676</td><td>-0.211166</td><td>-0.1725</td><td>-0.297293</td><td>-0.350691</td><td>-0.418009</td><td>-0.298538</td><td>&hellip;</td><td>0.0</td><td>0.0</td><td>0.0</td><td>0.0</td><td>0.0</td><td>0.0</td><td>0.0</td><td>0.0</td><td>0.0</td><td>0.0</td><td>0.0</td><td>0.0</td><td>0.0</td><td>0.0</td><td>0.0</td><td>0.0</td><td>-0.328068</td><td>-0.524269</td><td>-0.641108</td><td>-0.602974</td><td>-0.658345</td><td>-0.690702</td><td>-0.613178</td><td>-0.328068</td><td>-0.640055</td><td>-0.682589</td><td>-0.311187</td><td>-0.370737</td><td>-0.567226</td><td>-0.613178</td><td>-0.469502</td><td>-0.437328</td><td>-0.371465</td><td>-0.349763</td><td>-0.364268</td><td>-0.535991</td><td>-0.468767</td></tr><tr><td>&quot;75%&quot;</td><td>0.347335</td><td>0.505617</td><td>0.504812</td><td>0.435958</td><td>0.477412</td><td>0.432835</td><td>0.522027</td><td>0.464385</td><td>0.491222</td><td>0.443146</td><td>0.362915</td><td>0.469316</td><td>0.484698</td><td>0.550951</td><td>0.40465</td><td>0.326769</td><td>0.471949</td><td>0.274822</td><td>0.22525</td><td>0.415675</td><td>0.531777</td><td>0.372299</td><td>0.254588</td><td>0.452744</td><td>0.19448</td><td>0.538591</td><td>0.478844</td><td>0.211736</td><td>0.509347</td><td>0.430704</td><td>0.407029</td><td>0.46213</td><td>0.364654</td><td>0.271151</td><td>0.266942</td><td>0.322982</td><td>&hellip;</td><td>0.0</td><td>0.0</td><td>0.0</td><td>0.0</td><td>0.0</td><td>0.0</td><td>0.0</td><td>0.0</td><td>0.0</td><td>0.0</td><td>0.0</td><td>0.0</td><td>0.0</td><td>0.0</td><td>0.0</td><td>0.0</td><td>0.306915</td><td>0.177483</td><td>0.123553</td><td>0.108925</td><td>0.039128</td><td>0.022574</td><td>0.056192</td><td>0.306915</td><td>0.121478</td><td>0.137998</td><td>0.321668</td><td>0.226648</td><td>0.18885</td><td>0.056192</td><td>0.204988</td><td>0.251317</td><td>0.287762</td><td>0.222123</td><td>0.287307</td><td>0.320253</td><td>0.156842</td></tr><tr><td>&quot;max&quot;</td><td>3.415693</td><td>4.100385</td><td>4.009164</td><td>3.714818</td><td>3.853829</td><td>3.779197</td><td>4.14723</td><td>3.912231</td><td>4.011922</td><td>3.784032</td><td>3.520591</td><td>3.934326</td><td>3.988876</td><td>4.418399</td><td>3.620835</td><td>3.397627</td><td>3.984715</td><td>3.079148</td><td>2.642009</td><td>3.635138</td><td>4.534145</td><td>3.600585</td><td>3.110187</td><td>4.306034</td><td>2.757464</td><td>4.394623</td><td>4.030777</td><td>2.830992</td><td>4.042969</td><td>3.828519</td><td>3.68616</td><td>3.990603</td><td>3.587323</td><td>3.134326</td><td>3.107544</td><td>3.327301</td><td>&hellip;</td><td>0.0</td><td>0.0</td><td>0.0</td><td>0.0</td><td>0.0</td><td>0.0</td><td>0.0</td><td>0.0</td><td>0.0</td><td>0.0</td><td>0.0</td><td>0.0</td><td>0.0</td><td>0.0</td><td>0.0</td><td>0.0</td><td>3.332421</td><td>2.809052</td><td>2.417538</td><td>2.24462</td><td>2.131545</td><td>2.162404</td><td>2.064304</td><td>3.332421</td><td>2.406076</td><td>2.59976</td><td>3.169517</td><td>2.914884</td><td>2.457078</td><td>2.064304</td><td>2.780311</td><td>3.005899</td><td>3.178219</td><td>2.795608</td><td>3.270835</td><td>2.888984</td><td>2.659282</td></tr></tbody></table></div>"
      ],
      "text/plain": [
       "shape: (9, 758)\n",
       "┌───────────┬───────────┬───────────┬───────────┬───┬───────────┬───────────┬───────────┬──────────┐\n",
       "│ statistic ┆ HSTX001   ┆ HSSH001S  ┆ HSFD001S  ┆ … ┆ ECYTCA_U1 ┆ ECYTCA_18 ┆ ECYNCA_U1 ┆ ECYNCA_1 │\n",
       "│ ---       ┆ ---       ┆ ---       ┆ ---       ┆   ┆ 8         ┆ P         ┆ 8         ┆ 8P       │\n",
       "│ str       ┆ f64       ┆ f64       ┆ f64       ┆   ┆ ---       ┆ ---       ┆ ---       ┆ ---      │\n",
       "│           ┆           ┆           ┆           ┆   ┆ f64       ┆ f64       ┆ f64       ┆ f64      │\n",
       "╞═══════════╪═══════════╪═══════════╪═══════════╪═══╪═══════════╪═══════════╪═══════════╪══════════╡\n",
       "│ count     ┆ 781511.0  ┆ 781511.0  ┆ 781511.0  ┆ … ┆ 781511.0  ┆ 781511.0  ┆ 781511.0  ┆ 781511.0 │\n",
       "│ null_coun ┆ 0.0       ┆ 0.0       ┆ 0.0       ┆ … ┆ 0.0       ┆ 0.0       ┆ 0.0       ┆ 0.0      │\n",
       "│ t         ┆           ┆           ┆           ┆   ┆           ┆           ┆           ┆          │\n",
       "│ mean      ┆ -1.8349e- ┆ -6.2607e- ┆ 7.8823e-1 ┆ … ┆ 2.5112e-1 ┆ -8.4591e- ┆ 4.0550e-1 ┆ -4.1250e │\n",
       "│           ┆ 16        ┆ 16        ┆ 6         ┆   ┆ 7         ┆ 17        ┆ 8         ┆ -17      │\n",
       "│ std       ┆ 1.000001  ┆ 1.000001  ┆ 1.000001  ┆ … ┆ 1.000001  ┆ 1.000001  ┆ 1.000001  ┆ 1.000001 │\n",
       "│ min       ┆ -1.316828 ┆ -2.168847 ┆ -2.867458 ┆ … ┆ -0.921649 ┆ -0.98155  ┆ -0.535991 ┆ -0.67730 │\n",
       "│           ┆           ┆           ┆           ┆   ┆           ┆           ┆           ┆ 4        │\n",
       "│ 25%       ┆ -0.675451 ┆ -0.692639 ┆ -0.663305 ┆ … ┆ -0.635706 ┆ -0.707202 ┆ -0.535991 ┆ -0.67730 │\n",
       "│           ┆           ┆           ┆           ┆   ┆           ┆           ┆           ┆ 4        │\n",
       "│ 50%       ┆ -0.263912 ┆ -0.167324 ┆ -0.105621 ┆ … ┆ -0.349763 ┆ -0.364268 ┆ -0.535991 ┆ -0.46876 │\n",
       "│           ┆           ┆           ┆           ┆   ┆           ┆           ┆           ┆ 7        │\n",
       "│ 75%       ┆ 0.347335  ┆ 0.505617  ┆ 0.504812  ┆ … ┆ 0.222123  ┆ 0.287307  ┆ 0.320253  ┆ 0.156842 │\n",
       "│ max       ┆ 3.415693  ┆ 4.100385  ┆ 4.009164  ┆ … ┆ 2.795608  ┆ 3.270835  ┆ 2.888984  ┆ 2.659282 │\n",
       "└───────────┴───────────┴───────────┴───────────┴───┴───────────┴───────────┴───────────┴──────────┘"
      ]
     },
     "metadata": {},
     "output_type": "display_data"
    }
   ],
   "source": [
    "y = data[PORTION_RET_INSUR_COL]\n",
    "X = data.drop(PORTION_RET_INSUR_COL)\n",
    "\n",
    "# Impute negative values and clip outliers\n",
    "# Construct the pipeline\n",
    "preprocess = Pipeline([\n",
    "    ('impute_negatives', NegativeValueImputer()),\n",
    "    ('clip_outliers', IQRClippingTransformer(multiplier=3)),\n",
    "    ('standardize', StandardScaler())\n",
    "])\n",
    "\n",
    "# Apply the pipeline to the data\n",
    "X_processed = preprocess.fit_transform(X.to_pandas())\n",
    "\n",
    "# Convert back to Polars DataFrame\n",
    "X_processed = pl.DataFrame(X_processed)\n",
    "\n",
    "# set columns\n",
    "X_processed.columns = X.columns\n",
    "\n",
    "display(X_processed.describe())"
   ]
  },
  {
   "cell_type": "markdown",
   "metadata": {},
   "source": []
  }
 ],
 "metadata": {
  "kernelspec": {
   "display_name": "base",
   "language": "python",
   "name": "python3"
  },
  "language_info": {
   "codemirror_mode": {
    "name": "ipython",
    "version": 3
   },
   "file_extension": ".py",
   "mimetype": "text/x-python",
   "name": "python",
   "nbconvert_exporter": "python",
   "pygments_lexer": "ipython3",
   "version": "3.12.7"
  }
 },
 "nbformat": 4,
 "nbformat_minor": 2
}
